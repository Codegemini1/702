{
 "cells": [
  {
   "cell_type": "code",
   "execution_count": 1,
   "id": "003a47f3-3265-49aa-8f09-e248a17adc36",
   "metadata": {},
   "outputs": [],
   "source": [
    "l = [1,2,3,4,5]"
   ]
  },
  {
   "cell_type": "code",
   "execution_count": 3,
   "id": "b0465230-7b76-4bdb-b001-91d788fb8734",
   "metadata": {},
   "outputs": [
    {
     "name": "stdout",
     "output_type": "stream",
     "text": [
      "1\n",
      "2\n",
      "3\n",
      "4\n",
      "5\n"
     ]
    }
   ],
   "source": [
    "for num in l:\n",
    "    print(num)"
   ]
  },
  {
   "cell_type": "code",
   "execution_count": 19,
   "id": "3c9a3654-ea35-496c-9ff9-7ff5a6298b14",
   "metadata": {},
   "outputs": [
    {
     "name": "stdout",
     "output_type": "stream",
     "text": [
      "[1, 2, 3, 4, 5]\n",
      "[1, 2, 3, 4, 5]\n",
      "[1, 2, 3, 4, 5]\n",
      "[1, 2, 3, 4, 5]\n",
      "[1, 2, 3, 4, 5]\n"
     ]
    }
   ],
   "source": [
    "for i in l:\n",
    "    print(l)"
   ]
  },
  {
   "cell_type": "code",
   "execution_count": 5,
   "id": "9a01d0bc-fd44-42b7-9920-ccf57cf7ea2f",
   "metadata": {},
   "outputs": [
    {
     "name": "stdout",
     "output_type": "stream",
     "text": [
      "11\n",
      "12\n",
      "13\n",
      "14\n",
      "15\n"
     ]
    }
   ],
   "source": [
    "for i in l:\n",
    "    print(i + 10)"
   ]
  },
  {
   "cell_type": "code",
   "execution_count": 7,
   "id": "1e55b372-e8c1-4409-a50d-c4b92ce8fd58",
   "metadata": {},
   "outputs": [],
   "source": [
    "l1 = [1,1.5,'Hello',True,10+5j]"
   ]
  },
  {
   "cell_type": "code",
   "execution_count": 17,
   "id": "fbfcd2b3-925e-47d2-a5c7-50340e843c69",
   "metadata": {},
   "outputs": [
    {
     "data": {
      "text/plain": [
       "5"
      ]
     },
     "execution_count": 17,
     "metadata": {},
     "output_type": "execute_result"
    }
   ],
   "source": [
    "len(l1)"
   ]
  },
  {
   "cell_type": "code",
   "execution_count": 9,
   "id": "a16af371-8202-4da2-9fbd-f45e5da9a0a1",
   "metadata": {},
   "outputs": [
    {
     "name": "stdout",
     "output_type": "stream",
     "text": [
      "1\n",
      "1.5\n",
      "Hello\n",
      "True\n",
      "(10+5j)\n"
     ]
    }
   ],
   "source": [
    "for i in l1:\n",
    "    print(i)"
   ]
  },
  {
   "cell_type": "code",
   "execution_count": 11,
   "id": "e3c71638-d727-4738-bbe4-6af0c256448f",
   "metadata": {},
   "outputs": [
    {
     "name": "stdout",
     "output_type": "stream",
     "text": [
      "<class 'int'> 1\n",
      "<class 'float'> 1.5\n",
      "<class 'str'> Hello\n",
      "<class 'bool'> True\n",
      "<class 'complex'> (10+5j)\n"
     ]
    }
   ],
   "source": [
    "for i in l1:\n",
    "    print(type(i), i)"
   ]
  },
  {
   "cell_type": "code",
   "execution_count": 13,
   "id": "b65fea9a-9000-43cd-aa5d-502cc3fb434c",
   "metadata": {},
   "outputs": [],
   "source": [
    "name = 'Hello'"
   ]
  },
  {
   "cell_type": "code",
   "execution_count": 15,
   "id": "da8977fe-480e-41da-9520-7f958202eee0",
   "metadata": {},
   "outputs": [
    {
     "name": "stdout",
     "output_type": "stream",
     "text": [
      "H\n",
      "e\n",
      "l\n",
      "l\n",
      "o\n"
     ]
    }
   ],
   "source": [
    "for i in name:\n",
    "    print(i)"
   ]
  },
  {
   "cell_type": "code",
   "execution_count": 21,
   "id": "cdb11ee6-589a-401c-9ad1-d5c7ec062dbc",
   "metadata": {},
   "outputs": [],
   "source": [
    "name = ['Om', 'Rock', 'sham', 'Ganesh', 'Vaibhav']"
   ]
  },
  {
   "cell_type": "code",
   "execution_count": 23,
   "id": "d917b811-b7b5-4b35-baae-e1e9b34f30c5",
   "metadata": {},
   "outputs": [
    {
     "name": "stdout",
     "output_type": "stream",
     "text": [
      "Om\n",
      "Rock\n",
      "sham\n",
      "Ganesh\n",
      "Vaibhav\n"
     ]
    }
   ],
   "source": [
    "for i in name:\n",
    "    print(i)"
   ]
  },
  {
   "cell_type": "code",
   "execution_count": 25,
   "id": "c84e1ef6-4295-44dd-b671-7dea0b777dad",
   "metadata": {},
   "outputs": [
    {
     "name": "stdout",
     "output_type": "stream",
     "text": [
      "My name is Om\n",
      "My name is Rock\n",
      "My name is sham\n",
      "My name is Ganesh\n",
      "My name is Vaibhav\n"
     ]
    }
   ],
   "source": [
    "for i in name:\n",
    "    print('My name is',i)"
   ]
  },
  {
   "cell_type": "code",
   "execution_count": 27,
   "id": "07d34df1-5e47-4e87-893a-2839cddb57c1",
   "metadata": {},
   "outputs": [
    {
     "data": {
      "text/plain": [
       "[1, 1.5, 'Hello', True, (10+5j)]"
      ]
     },
     "execution_count": 27,
     "metadata": {},
     "output_type": "execute_result"
    }
   ],
   "source": [
    "l1"
   ]
  },
  {
   "cell_type": "code",
   "execution_count": 35,
   "id": "44b05e65-e534-43e1-858f-ce35d6821ad9",
   "metadata": {},
   "outputs": [],
   "source": [
    "l1 = [1,1.5,'Hello',True,10+5j, 10,20,30]"
   ]
  },
  {
   "cell_type": "code",
   "execution_count": 37,
   "id": "bf89fe59-4645-4c67-ab3e-a43a118d5b0b",
   "metadata": {},
   "outputs": [
    {
     "name": "stdout",
     "output_type": "stream",
     "text": [
      "1\n",
      "10\n",
      "20\n",
      "30\n"
     ]
    }
   ],
   "source": [
    "for i in l1:\n",
    "    if type(i) == int:\n",
    "        print(i)"
   ]
  },
  {
   "cell_type": "code",
   "execution_count": null,
   "id": "362b9b82-606c-465c-ab20-f74944d86ab0",
   "metadata": {},
   "outputs": [],
   "source": [
    "Code for float \n",
    "code for string\n",
    "code for complex"
   ]
  },
  {
   "cell_type": "code",
   "execution_count": 29,
   "id": "7b74d351-6abf-4864-aadf-37ecbfc36ec4",
   "metadata": {},
   "outputs": [
    {
     "data": {
      "text/plain": [
       "True"
      ]
     },
     "execution_count": 29,
     "metadata": {},
     "output_type": "execute_result"
    }
   ],
   "source": [
    "type(1) == int"
   ]
  },
  {
   "cell_type": "code",
   "execution_count": 31,
   "id": "f9e5adc3-0220-4fda-9c6c-ccc46e55dba9",
   "metadata": {},
   "outputs": [
    {
     "data": {
      "text/plain": [
       "int"
      ]
     },
     "execution_count": 31,
     "metadata": {},
     "output_type": "execute_result"
    }
   ],
   "source": [
    "type(1)"
   ]
  },
  {
   "cell_type": "code",
   "execution_count": 39,
   "id": "7f208718-a17f-4693-98dd-677f122e9e8d",
   "metadata": {},
   "outputs": [],
   "source": [
    "l2 = [[1,2,3,4], (10,20,30,40), {1,2,3,4,5}, {'a':10, 'b':20, 'c':30}]"
   ]
  },
  {
   "cell_type": "code",
   "execution_count": 41,
   "id": "88a7c99b-365b-49f2-9ad8-4ccbf140c25b",
   "metadata": {},
   "outputs": [
    {
     "data": {
      "text/plain": [
       "[1, 2, 3, 4]"
      ]
     },
     "execution_count": 41,
     "metadata": {},
     "output_type": "execute_result"
    }
   ],
   "source": [
    "l2[0]"
   ]
  },
  {
   "cell_type": "code",
   "execution_count": 43,
   "id": "dd89196c-f11b-43ed-8d8e-1c03c5a42730",
   "metadata": {},
   "outputs": [
    {
     "data": {
      "text/plain": [
       "(10, 20, 30, 40)"
      ]
     },
     "execution_count": 43,
     "metadata": {},
     "output_type": "execute_result"
    }
   ],
   "source": [
    "l2[1]"
   ]
  },
  {
   "cell_type": "code",
   "execution_count": 45,
   "id": "3a4b92f9-50aa-4bc0-83e2-e845e4857be3",
   "metadata": {},
   "outputs": [
    {
     "name": "stdout",
     "output_type": "stream",
     "text": [
      "[1, 2, 3, 4]\n",
      "(10, 20, 30, 40)\n",
      "{1, 2, 3, 4, 5}\n",
      "{'a': 10, 'b': 20, 'c': 30}\n"
     ]
    }
   ],
   "source": [
    "for i in l2:\n",
    "    print(i)"
   ]
  },
  {
   "cell_type": "code",
   "execution_count": 47,
   "id": "b9170a64-73ec-4909-a0d0-df1115d37e47",
   "metadata": {},
   "outputs": [
    {
     "name": "stdout",
     "output_type": "stream",
     "text": [
      "[1, 2, 3, 4] <class 'list'>\n",
      "(10, 20, 30, 40) <class 'tuple'>\n",
      "{1, 2, 3, 4, 5} <class 'set'>\n",
      "{'a': 10, 'b': 20, 'c': 30} <class 'dict'>\n"
     ]
    }
   ],
   "source": [
    "for i in l2:\n",
    "    print(i, type(i))"
   ]
  },
  {
   "cell_type": "code",
   "execution_count": 49,
   "id": "98932cf5-a426-4e4c-92a7-92d922134f13",
   "metadata": {},
   "outputs": [
    {
     "data": {
      "text/plain": [
       "[[1, 2, 3, 4], (10, 20, 30, 40), {1, 2, 3, 4, 5}, {'a': 10, 'b': 20, 'c': 30}]"
      ]
     },
     "execution_count": 49,
     "metadata": {},
     "output_type": "execute_result"
    }
   ],
   "source": [
    "l2"
   ]
  },
  {
   "cell_type": "code",
   "execution_count": 51,
   "id": "6027114e-9aa9-4be6-b462-4b313892eef1",
   "metadata": {},
   "outputs": [
    {
     "name": "stdout",
     "output_type": "stream",
     "text": [
      "[1, 2, 3, 4]\n"
     ]
    }
   ],
   "source": [
    "for i in l2:\n",
    "    if type(i) == list:\n",
    "        print(i)"
   ]
  },
  {
   "cell_type": "code",
   "execution_count": 53,
   "id": "55c8df6f-ae98-4ce0-8151-c95249cc6760",
   "metadata": {},
   "outputs": [
    {
     "name": "stdout",
     "output_type": "stream",
     "text": [
      "{'a': 10, 'b': 20, 'c': 30}\n"
     ]
    }
   ],
   "source": [
    "for i in l2:\n",
    "    if type(i) == dict:\n",
    "        print(i)"
   ]
  },
  {
   "cell_type": "code",
   "execution_count": 57,
   "id": "8abb26f5-bcff-4a95-92fe-85dce59b3a54",
   "metadata": {},
   "outputs": [
    {
     "name": "stdout",
     "output_type": "stream",
     "text": [
      "dict_keys(['a', 'b', 'c'])\n",
      "dict_values([10, 20, 30])\n"
     ]
    }
   ],
   "source": [
    "for i in l2:\n",
    "    if type(i) == dict:\n",
    "        print(i.keys())\n",
    "        print(i.values())"
   ]
  },
  {
   "cell_type": "code",
   "execution_count": null,
   "id": "e735d366-6599-4fe1-9874-068d5e109e5f",
   "metadata": {},
   "outputs": [],
   "source": [
    "# "
   ]
  }
 ],
 "metadata": {
  "kernelspec": {
   "display_name": "Python 3 (ipykernel)",
   "language": "python",
   "name": "python3"
  },
  "language_info": {
   "codemirror_mode": {
    "name": "ipython",
    "version": 3
   },
   "file_extension": ".py",
   "mimetype": "text/x-python",
   "name": "python",
   "nbconvert_exporter": "python",
   "pygments_lexer": "ipython3",
   "version": "3.12.4"
  }
 },
 "nbformat": 4,
 "nbformat_minor": 5
}

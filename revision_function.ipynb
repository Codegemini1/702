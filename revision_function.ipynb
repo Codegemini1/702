{
 "cells": [
  {
   "cell_type": "code",
   "execution_count": 1,
   "id": "7d195441-8463-448a-b80b-6dee2bd17873",
   "metadata": {},
   "outputs": [],
   "source": [
    "def simple():\n",
    "    return 'This is simple function'"
   ]
  },
  {
   "cell_type": "code",
   "execution_count": 2,
   "id": "44f6fc38-2f12-4800-a164-82e9be6dcdf3",
   "metadata": {},
   "outputs": [
    {
     "data": {
      "text/plain": [
       "'This is simple function'"
      ]
     },
     "execution_count": 2,
     "metadata": {},
     "output_type": "execute_result"
    }
   ],
   "source": [
    "simple()"
   ]
  },
  {
   "cell_type": "code",
   "execution_count": 3,
   "id": "e55d01cc-7317-41e5-9a31-97487be99eeb",
   "metadata": {},
   "outputs": [
    {
     "name": "stdout",
     "output_type": "stream",
     "text": [
      "0\n",
      "1\n",
      "2\n",
      "3\n",
      "4\n"
     ]
    }
   ],
   "source": [
    "for i in range(5):\n",
    "    print(i)"
   ]
  },
  {
   "cell_type": "code",
   "execution_count": 4,
   "id": "907b7cf0-ad36-417d-bcb2-732431e89af1",
   "metadata": {},
   "outputs": [
    {
     "name": "stdout",
     "output_type": "stream",
     "text": [
      "2\n",
      "4\n",
      "6\n",
      "8\n",
      "10\n",
      "12\n",
      "14\n",
      "16\n",
      "18\n",
      "20\n"
     ]
    }
   ],
   "source": [
    "for i in range(1,21):\n",
    "    if i % 2 == 0:\n",
    "        print(i)"
   ]
  },
  {
   "cell_type": "code",
   "execution_count": 5,
   "id": "2eeef02b-c200-4769-9380-73321ecf5574",
   "metadata": {},
   "outputs": [
    {
     "name": "stdout",
     "output_type": "stream",
     "text": [
      "1\n",
      "3\n",
      "5\n",
      "7\n",
      "9\n",
      "11\n",
      "13\n",
      "15\n",
      "17\n",
      "19\n"
     ]
    }
   ],
   "source": [
    "for i in range(1,21):\n",
    "    if i % 2 != 0:\n",
    "        print(i)"
   ]
  },
  {
   "cell_type": "code",
   "execution_count": 7,
   "id": "ecbd8848-7014-4766-a125-1b0dae2fec31",
   "metadata": {},
   "outputs": [
    {
     "name": "stdout",
     "output_type": "stream",
     "text": [
      "10\n",
      "9\n",
      "8\n",
      "7\n",
      "6\n",
      "5\n",
      "4\n",
      "3\n",
      "2\n",
      "1\n"
     ]
    }
   ],
   "source": [
    "for i in range(10,0,-1):\n",
    "    print(i)"
   ]
  },
  {
   "cell_type": "code",
   "execution_count": 9,
   "id": "d1306280-2c80-4bb8-85c1-e553eb9e388f",
   "metadata": {},
   "outputs": [
    {
     "name": "stdout",
     "output_type": "stream",
     "text": [
      "0\n",
      "1\n",
      "4\n",
      "9\n",
      "16\n",
      "25\n",
      "36\n",
      "49\n",
      "64\n",
      "81\n",
      "100\n"
     ]
    }
   ],
   "source": [
    "for i in range(11):\n",
    "    print(i * i)"
   ]
  },
  {
   "cell_type": "code",
   "execution_count": 10,
   "id": "978600e2-ccae-47f2-b776-9aee6e5607af",
   "metadata": {},
   "outputs": [
    {
     "data": {
      "text/plain": [
       "4"
      ]
     },
     "execution_count": 10,
     "metadata": {},
     "output_type": "execute_result"
    }
   ],
   "source": [
    "2 ** 2"
   ]
  },
  {
   "cell_type": "code",
   "execution_count": 11,
   "id": "41944135-c7e7-4d4c-b5bd-7344f6af6f53",
   "metadata": {},
   "outputs": [
    {
     "data": {
      "text/plain": [
       "32"
      ]
     },
     "execution_count": 11,
     "metadata": {},
     "output_type": "execute_result"
    }
   ],
   "source": [
    "2 ** 5"
   ]
  },
  {
   "cell_type": "code",
   "execution_count": 12,
   "id": "282b7ec8-f95f-438d-9b08-9e4fadb52090",
   "metadata": {},
   "outputs": [
    {
     "data": {
      "text/plain": [
       "8"
      ]
     },
     "execution_count": 12,
     "metadata": {},
     "output_type": "execute_result"
    }
   ],
   "source": [
    "2 ** 3"
   ]
  },
  {
   "cell_type": "code",
   "execution_count": 14,
   "id": "7ee3ec55-dfa5-4bcf-a6c0-965886f725b5",
   "metadata": {},
   "outputs": [
    {
     "name": "stdout",
     "output_type": "stream",
     "text": [
      "o\n",
      "oo\n",
      "ooo\n",
      "oooo\n",
      "ooooo\n",
      "oooooo\n",
      "ooooooo\n",
      "oooooooo\n",
      "ooooooooo\n",
      "oooooooooo\n"
     ]
    }
   ],
   "source": [
    "for i in range(1,11):\n",
    "    print('o' * i )"
   ]
  },
  {
   "cell_type": "code",
   "execution_count": 15,
   "id": "0b75f9e1-46fd-4351-81fb-0445e025f58f",
   "metadata": {},
   "outputs": [
    {
     "name": "stdout",
     "output_type": "stream",
     "text": [
      "oooooooooo\n",
      "ooooooooo\n",
      "oooooooo\n",
      "ooooooo\n",
      "oooooo\n",
      "ooooo\n",
      "oooo\n",
      "ooo\n",
      "oo\n",
      "o\n"
     ]
    }
   ],
   "source": [
    "for i in range(10,0,-1):\n",
    "    print('o' * i )"
   ]
  },
  {
   "cell_type": "code",
   "execution_count": 18,
   "id": "fc791e0b-bb0d-42f8-8ae0-c0f047ce328a",
   "metadata": {},
   "outputs": [],
   "source": [
    "def tri(x):\n",
    "    for i in range(1,x+1):\n",
    "        print('O' * i)"
   ]
  },
  {
   "cell_type": "code",
   "execution_count": 19,
   "id": "e2ab5f93-9aff-4fb5-a333-ca2a81e9e6bc",
   "metadata": {},
   "outputs": [
    {
     "name": "stdout",
     "output_type": "stream",
     "text": [
      "O\n",
      "OO\n",
      "OOO\n",
      "OOOO\n",
      "OOOOO\n",
      "OOOOOO\n"
     ]
    }
   ],
   "source": [
    "tri(6)"
   ]
  },
  {
   "cell_type": "code",
   "execution_count": 20,
   "id": "f987e0ad-d34b-4993-973e-21e1d265d89e",
   "metadata": {},
   "outputs": [
    {
     "name": "stdout",
     "output_type": "stream",
     "text": [
      "O\n",
      "OO\n",
      "OOO\n",
      "OOOO\n",
      "OOOOO\n",
      "OOOOOO\n",
      "OOOOOOO\n"
     ]
    }
   ],
   "source": [
    "tri(7)"
   ]
  },
  {
   "cell_type": "code",
   "execution_count": 21,
   "id": "e1968398-6e0a-4112-aec5-5f6c2d640f1b",
   "metadata": {},
   "outputs": [],
   "source": [
    "# Sum of 1 to 10"
   ]
  },
  {
   "cell_type": "code",
   "execution_count": 25,
   "id": "ea9160e4-afe1-4ac5-b135-86e84718909d",
   "metadata": {},
   "outputs": [
    {
     "name": "stdout",
     "output_type": "stream",
     "text": [
      "1\n",
      "3\n",
      "6\n",
      "10\n",
      "15\n",
      "21\n",
      "28\n",
      "36\n",
      "45\n",
      "55\n"
     ]
    }
   ],
   "source": [
    "total = 0\n",
    "for i in range(1,11):\n",
    "    total = total + i\n",
    "    print(total)"
   ]
  },
  {
   "cell_type": "code",
   "execution_count": 23,
   "id": "7246959e-beca-415e-a167-154d543c9cbd",
   "metadata": {},
   "outputs": [
    {
     "data": {
      "text/plain": [
       "55"
      ]
     },
     "execution_count": 23,
     "metadata": {},
     "output_type": "execute_result"
    }
   ],
   "source": [
    "total"
   ]
  },
  {
   "cell_type": "code",
   "execution_count": 24,
   "id": "55c551a6-122a-47af-9e60-8b07052a9db0",
   "metadata": {},
   "outputs": [
    {
     "name": "stdout",
     "output_type": "stream",
     "text": [
      "1\n",
      "2\n",
      "3\n",
      "4\n",
      "5\n",
      "6\n",
      "7\n",
      "8\n",
      "9\n",
      "10\n"
     ]
    }
   ],
   "source": [
    "for i in range(1,11):\n",
    "    print(i)"
   ]
  },
  {
   "cell_type": "code",
   "execution_count": 26,
   "id": "35462df8-d339-4138-8bb7-354cfcaebdf7",
   "metadata": {},
   "outputs": [
    {
     "data": {
      "text/plain": [
       "10"
      ]
     },
     "execution_count": 26,
     "metadata": {},
     "output_type": "execute_result"
    }
   ],
   "source": [
    "len(range(1,11))"
   ]
  },
  {
   "cell_type": "code",
   "execution_count": 40,
   "id": "206480d5-9c77-4291-883f-4fbd2553265d",
   "metadata": {},
   "outputs": [],
   "source": [
    "n = len(range(1,100))\n",
    "total = n*(n+1)/2"
   ]
  },
  {
   "cell_type": "code",
   "execution_count": 41,
   "id": "b66e5494-a9f2-4cbe-9b1f-bd97aeae70a8",
   "metadata": {},
   "outputs": [
    {
     "data": {
      "text/plain": [
       "4950.0"
      ]
     },
     "execution_count": 41,
     "metadata": {},
     "output_type": "execute_result"
    }
   ],
   "source": [
    "total"
   ]
  },
  {
   "cell_type": "code",
   "execution_count": 42,
   "id": "d88bb884-42a3-4cb1-8d7a-0475d3b6cf46",
   "metadata": {},
   "outputs": [],
   "source": [
    "l = [1,2,1.5,True,'Hey', [10,1.2,True,'Python'],50]"
   ]
  },
  {
   "cell_type": "code",
   "execution_count": 43,
   "id": "89975fdf-afed-4b32-bba7-d6e469ffbe22",
   "metadata": {},
   "outputs": [
    {
     "name": "stdout",
     "output_type": "stream",
     "text": [
      "1\n",
      "2\n",
      "1.5\n",
      "True\n",
      "Hey\n",
      "[10, 1.2, True, 'Python']\n",
      "50\n"
     ]
    }
   ],
   "source": [
    "for i in l:\n",
    "    print(i)"
   ]
  },
  {
   "cell_type": "code",
   "execution_count": 45,
   "id": "fc2f3473-b7f1-404c-b253-2716d04f6096",
   "metadata": {},
   "outputs": [
    {
     "name": "stdout",
     "output_type": "stream",
     "text": [
      "1\n",
      "2\n",
      "10\n",
      "50\n"
     ]
    }
   ],
   "source": [
    "for i in l:\n",
    "    if type(i) == int:\n",
    "        print(i)\n",
    "    elif type(i) == list:\n",
    "        for data in i:\n",
    "            if type(data) == int:\n",
    "                print(data)"
   ]
  },
  {
   "cell_type": "code",
   "execution_count": null,
   "id": "2710b882-4ed9-46b4-8c8d-2197326640fc",
   "metadata": {},
   "outputs": [],
   "source": []
  }
 ],
 "metadata": {
  "kernelspec": {
   "display_name": "Python 3 (ipykernel)",
   "language": "python",
   "name": "python3"
  },
  "language_info": {
   "codemirror_mode": {
    "name": "ipython",
    "version": 3
   },
   "file_extension": ".py",
   "mimetype": "text/x-python",
   "name": "python",
   "nbconvert_exporter": "python",
   "pygments_lexer": "ipython3",
   "version": "3.12.4"
  }
 },
 "nbformat": 4,
 "nbformat_minor": 5
}

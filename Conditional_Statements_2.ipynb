{
 "cells": [
  {
   "cell_type": "code",
   "execution_count": 9,
   "id": "ac786fda-e3a7-4846-8cb4-2820fce49bf6",
   "metadata": {},
   "outputs": [
    {
     "name": "stdin",
     "output_type": "stream",
     "text": [
      "Enter your first num 10\n",
      "Enter your second num 0\n",
      "Enter operation (+, -, *, /) /\n"
     ]
    },
    {
     "ename": "ZeroDivisionError",
     "evalue": "float division by zero",
     "output_type": "error",
     "traceback": [
      "\u001b[1;31m---------------------------------------------------------------------------\u001b[0m",
      "\u001b[1;31mZeroDivisionError\u001b[0m                         Traceback (most recent call last)",
      "Cell \u001b[1;32mIn[9], line 11\u001b[0m\n\u001b[0;32m      9\u001b[0m     \u001b[38;5;28mprint\u001b[39m(num1 \u001b[38;5;241m*\u001b[39m num2)\n\u001b[0;32m     10\u001b[0m \u001b[38;5;28;01melif\u001b[39;00m operation \u001b[38;5;241m==\u001b[39m \u001b[38;5;124m'\u001b[39m\u001b[38;5;124m/\u001b[39m\u001b[38;5;124m'\u001b[39m:\n\u001b[1;32m---> 11\u001b[0m     \u001b[38;5;28mprint\u001b[39m(num1 \u001b[38;5;241m/\u001b[39m num2)\n\u001b[0;32m     12\u001b[0m \u001b[38;5;28;01melse\u001b[39;00m:\n\u001b[0;32m     13\u001b[0m     \u001b[38;5;28mprint\u001b[39m(\u001b[38;5;124m'\u001b[39m\u001b[38;5;124mOperation not valid select from  (+, -, *, /)\u001b[39m\u001b[38;5;124m'\u001b[39m)\n",
      "\u001b[1;31mZeroDivisionError\u001b[0m: float division by zero"
     ]
    }
   ],
   "source": [
    "num1 = float(input('Enter your first num'))\n",
    "num2 = float(input('Enter your second num'))\n",
    "operation = input('Enter operation (+, -, *, /)')\n",
    "if operation == '+':\n",
    "    print( num1 + num2)\n",
    "elif operation == '-':\n",
    "    print(num1 - num2)\n",
    "elif operation == '*':\n",
    "    print(num1 * num2)\n",
    "elif operation == '/':\n",
    "    print(num1 / num2)\n",
    "else:\n",
    "    print('Operation not valid select from  (+, -, *, /)')"
   ]
  },
  {
   "cell_type": "code",
   "execution_count": 1,
   "id": "fa68b94a-3a31-4cb9-951b-e487d3215639",
   "metadata": {},
   "outputs": [
    {
     "data": {
      "text/plain": [
       "True"
      ]
     },
     "execution_count": 1,
     "metadata": {},
     "output_type": "execute_result"
    }
   ],
   "source": [
    "'+' == '+'"
   ]
  },
  {
   "cell_type": "code",
   "execution_count": null,
   "id": "dad53693-6d72-44fd-9be4-e9ac5fdf8d54",
   "metadata": {},
   "outputs": [],
   "source": [
    "# Nested condetions"
   ]
  },
  {
   "cell_type": "code",
   "execution_count": 11,
   "id": "3861d2ff-f3f3-4829-a024-3b4e4737a5b6",
   "metadata": {},
   "outputs": [
    {
     "ename": "ZeroDivisionError",
     "evalue": "division by zero",
     "output_type": "error",
     "traceback": [
      "\u001b[1;31m---------------------------------------------------------------------------\u001b[0m",
      "\u001b[1;31mZeroDivisionError\u001b[0m                         Traceback (most recent call last)",
      "Cell \u001b[1;32mIn[11], line 1\u001b[0m\n\u001b[1;32m----> 1\u001b[0m \u001b[38;5;241m10\u001b[39m\u001b[38;5;241m/\u001b[39m\u001b[38;5;241m0\u001b[39m\n",
      "\u001b[1;31mZeroDivisionError\u001b[0m: division by zero"
     ]
    }
   ],
   "source": [
    "10/0"
   ]
  },
  {
   "cell_type": "code",
   "execution_count": 13,
   "id": "5374c4d1-7263-45ab-bc23-3ff96d595fbf",
   "metadata": {},
   "outputs": [
    {
     "name": "stdin",
     "output_type": "stream",
     "text": [
      "Enter your first num 10\n",
      "Enter your second num 0\n",
      "Enter operation (+, -, *, /) /\n"
     ]
    },
    {
     "name": "stdout",
     "output_type": "stream",
     "text": [
      "Cant ddevide by 0 number\n"
     ]
    }
   ],
   "source": [
    "num1 = float(input('Enter your first num'))\n",
    "num2 = float(input('Enter your second num'))\n",
    "operation = input('Enter operation (+, -, *, /)')\n",
    "if operation == '+':\n",
    "    print( num1 + num2)\n",
    "elif operation == '-':\n",
    "    print(num1 - num2)\n",
    "elif operation == '*':\n",
    "    print(num1 * num2)\n",
    "elif operation == '/':\n",
    "    if num2 == 0:\n",
    "        print('Cant devide by 0 number')\n",
    "    else:\n",
    "        print(num1 / num2)\n",
    "else:\n",
    "    print('Operation not valid select from  (+, -, *, /)')"
   ]
  },
  {
   "cell_type": "code",
   "execution_count": 25,
   "id": "6249361d-fe26-487b-ad89-fc2aba681b95",
   "metadata": {},
   "outputs": [
    {
     "name": "stdin",
     "output_type": "stream",
     "text": [
      "Enter your age 45\n",
      "Are you student ? Yes/No No\n"
     ]
    },
    {
     "name": "stdout",
     "output_type": "stream",
     "text": [
      "Your price is 30$\n"
     ]
    }
   ],
   "source": [
    "# Ticket price\n",
    "age = int(input('Enter your age'))\n",
    "is_student = input('Are you student ? Yes/No')\n",
    "\n",
    "if age < 5:\n",
    "    print('You have free entry')\n",
    "elif age <= 12:\n",
    "    print('Your ticket price is 12$')\n",
    "elif age <= 17:\n",
    "    if is_student == 'Yes':\n",
    "        print('Your pricee is 18$')\n",
    "    else:\n",
    "        print('Your price is 20$')\n",
    "elif age <= 65:\n",
    "    print('Your price is 30$')\n",
    "else:\n",
    "    print('You are no allowed to this program')"
   ]
  },
  {
   "cell_type": "code",
   "execution_count": 31,
   "id": "7a40de08-1369-4185-84cf-6ed1637f2206",
   "metadata": {},
   "outputs": [
    {
     "name": "stdin",
     "output_type": "stream",
     "text": [
      "Enter your experience in years 7\n",
      "Enter your performance rating from range of 1 to 5 2\n",
      "Enter our salary 20000\n"
     ]
    },
    {
     "name": "stdout",
     "output_type": "stream",
     "text": [
      "Your amount will be 20000.0\n"
     ]
    }
   ],
   "source": [
    "# Bonus of employees \n",
    "year_experience = int(input('Enter your experience in years'))\n",
    "performance_rating = float(input('Enter your performance rating from range of 1 to 5'))\n",
    "\n",
    "if performance_rating >= 4.5:\n",
    "    if year_experience > 10:\n",
    "        bonus_percentage = 20\n",
    "    elif year_experience >= 5:\n",
    "        bonus_percentage = 10\n",
    "    else:\n",
    "        bonus_percentage = 5\n",
    "elif performance_rating >= 3.5:\n",
    "    if year_experience > 10:\n",
    "        bonus_percentage = 10\n",
    "    elif year_experience > 5 :\n",
    "        bonus_percentage = 5\n",
    "    else:\n",
    "        bonus_percentage = 3\n",
    "else:\n",
    "    bonus_percentage = 0\n",
    "\n",
    "# Salary calculation\n",
    "salary = float(input('Enter our salary'))\n",
    "bonus_amount = salary * bonus_percentage/100\n",
    "print('Your amount will be', salary + bonus_amount)"
   ]
  },
  {
   "cell_type": "code",
   "execution_count": 27,
   "id": "c433833e-9b51-452c-a458-6d2625206ad9",
   "metadata": {},
   "outputs": [
    {
     "data": {
      "text/plain": [
       "2000.0"
      ]
     },
     "execution_count": 27,
     "metadata": {},
     "output_type": "execute_result"
    }
   ],
   "source": [
    "10000 * 20/100"
   ]
  },
  {
   "cell_type": "code",
   "execution_count": null,
   "id": "143fee9b-cc7b-4f6a-8ba1-be010b2d131c",
   "metadata": {},
   "outputs": [],
   "source": []
  }
 ],
 "metadata": {
  "kernelspec": {
   "display_name": "Python 3 (ipykernel)",
   "language": "python",
   "name": "python3"
  },
  "language_info": {
   "codemirror_mode": {
    "name": "ipython",
    "version": 3
   },
   "file_extension": ".py",
   "mimetype": "text/x-python",
   "name": "python",
   "nbconvert_exporter": "python",
   "pygments_lexer": "ipython3",
   "version": "3.12.4"
  }
 },
 "nbformat": 4,
 "nbformat_minor": 5
}

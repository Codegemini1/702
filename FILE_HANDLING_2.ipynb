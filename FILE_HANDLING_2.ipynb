{
 "cells": [
  {
   "cell_type": "code",
   "execution_count": 1,
   "id": "52f05ea4-a9ef-4c2a-a9f5-b86b8f787dc7",
   "metadata": {},
   "outputs": [
    {
     "name": "stdout",
     "output_type": "stream",
     "text": [
      " Volume in drive C has no label.\n",
      " Volume Serial Number is B294-EB73\n",
      "\n",
      " Directory of C:\\Users\\Admin\\Downloads\\703\\Python\\file_handling\n",
      "\n",
      "12/17/2024  06:14 PM    <DIR>          .\n",
      "12/17/2024  06:14 PM    <DIR>          ..\n",
      "12/17/2024  06:14 PM    <DIR>          .ipynb_checkpoints\n",
      "12/16/2024  06:27 PM                21 example.txt\n",
      "12/16/2024  06:56 PM            17,755 file_handling_1.ipynb\n",
      "12/17/2024  06:14 PM                72 FILE_HANDLING_2.ipynb\n",
      "12/16/2024  06:56 PM                68 functions_1.py\n",
      "12/16/2024  06:37 PM                53 hello_python.txt\n",
      "12/16/2024  06:12 PM                28 my_file.txt\n",
      "12/16/2024  06:43 PM                74 sentences.txt\n",
      "               7 File(s)         18,071 bytes\n",
      "               3 Dir(s)   8,136,835,072 bytes free\n"
     ]
    }
   ],
   "source": [
    "ls"
   ]
  },
  {
   "cell_type": "code",
   "execution_count": 2,
   "id": "2d5c9245-e14f-4820-8c14-a002945d2a9f",
   "metadata": {},
   "outputs": [],
   "source": [
    "o = open('data analyst life.txt', mode = 'w')"
   ]
  },
  {
   "cell_type": "code",
   "execution_count": 3,
   "id": "f639a61b-3e32-4e12-8f0c-f32d2f3db9b6",
   "metadata": {},
   "outputs": [
    {
     "data": {
      "text/plain": [
       "1847"
      ]
     },
     "execution_count": 3,
     "metadata": {},
     "output_type": "execute_result"
    }
   ],
   "source": [
    "o.write('''Before I got a job, I always wondered what it would be like working as an entry-level data analyst with no prior experience except in projects. If you have ever had the same thought, then this article where I shared my three months of work experience as an entry-level data analyst would interest you.\n",
    "\n",
    "I got a job as a data analyst four months into my learning journey. I had worked on a project that got a lot of people, recruiters inclusive interested in me, and a couple offered to interview me for a role.\n",
    "\n",
    "The company I work for reached out as well, requesting to interview me for an open role in their company. The CTO of the company had seen my project and thought I would be a good fit for the role.\n",
    "\n",
    "Interview process\n",
    "During the interview, I felt less pressured compared to those I have had in the past simply because they had reached out to me.\n",
    "\n",
    "The interview process was a very interesting phase as I had up to three conversations leading to the time I received my offer letter.\n",
    "\n",
    "In the first conversation, we talked about my skills as a data analyst and how I can add value to the company and contribute to a new project currently being worked on.\n",
    "\n",
    "The second one was a take-home assignment to analyze a project and also give recommendations which I submitted the next day.\n",
    "\n",
    "The last conversation was generally about what my duties would be in my new role and also my take-home expectation.\n",
    "\n",
    "Something that stood out for me and made me happy was when, at the end of the call, my recruiter said;\n",
    "\n",
    "“My takeaway from our conversations in the past couple of days is that you are passionate about storytelling with data and you understand the industry quite well”\n",
    "\n",
    "After this, my offer letter was sent and I resumed almost immediately.\n",
    "\n",
    "From the time of the first conversation to the receipt of my offer letter was approximately two weeks.''')"
   ]
  },
  {
   "cell_type": "code",
   "execution_count": 4,
   "id": "91df4712-af30-4d13-9d19-e4366302f47c",
   "metadata": {},
   "outputs": [
    {
     "ename": "UnsupportedOperation",
     "evalue": "not readable",
     "output_type": "error",
     "traceback": [
      "\u001b[1;31m---------------------------------------------------------------------------\u001b[0m",
      "\u001b[1;31mUnsupportedOperation\u001b[0m                      Traceback (most recent call last)",
      "Cell \u001b[1;32mIn[4], line 1\u001b[0m\n\u001b[1;32m----> 1\u001b[0m o\u001b[38;5;241m.\u001b[39mread()\n",
      "\u001b[1;31mUnsupportedOperation\u001b[0m: not readable"
     ]
    }
   ],
   "source": [
    "o.read()"
   ]
  },
  {
   "cell_type": "code",
   "execution_count": 5,
   "id": "a19a27d6-2135-43ac-80d4-1811b36eb31e",
   "metadata": {},
   "outputs": [],
   "source": [
    "o.close()"
   ]
  },
  {
   "cell_type": "code",
   "execution_count": 6,
   "id": "7358aaf0-e409-4a12-abb5-c0ec18c01c01",
   "metadata": {},
   "outputs": [],
   "source": [
    "o = open(\"data analyst life.txt\", mode = 'r+')"
   ]
  },
  {
   "cell_type": "code",
   "execution_count": 7,
   "id": "9c36d104-e421-404b-8600-14f32501eee0",
   "metadata": {},
   "outputs": [
    {
     "data": {
      "text/plain": [
       "'Before I got a job, I always wondered what it would be like working as an entry-level data analyst with no prior experience except in projects. If you have ever had the same thought, then this article where I shared my three months of work experience as an entry-level data analyst would interest you.\\n\\nI got a job as a data analyst four months into my learning journey. I had worked on a project that got a lot of people, recruiters inclusive interested in me, and a couple offered to interview me for a role.\\n\\nThe company I work for reached out as well, requesting to interview me for an open role in their company. The CTO of the company had seen my project and thought I would be a good fit for the role.\\n\\nInterview process\\nDuring the interview, I felt less pressured compared to those I have had in the past simply because they had reached out to me.\\n\\nThe interview process was a very interesting phase as I had up to three conversations leading to the time I received my offer letter.\\n\\nIn the first conversation, we talked about my skills as a data analyst and how I can add value to the company and contribute to a new project currently being worked on.\\n\\nThe second one was a take-home assignment to analyze a project and also give recommendations which I submitted the next day.\\n\\nThe last conversation was generally about what my duties would be in my new role and also my take-home expectation.\\n\\nSomething that stood out for me and made me happy was when, at the end of the call, my recruiter said;\\n\\n“My takeaway from our conversations in the past couple of days is that you are passionate about storytelling with data and you understand the industry quite well”\\n\\nAfter this, my offer letter was sent and I resumed almost immediately.\\n\\nFrom the time of the first conversation to the receipt of my offer letter was approximately two weeks.'"
      ]
     },
     "execution_count": 7,
     "metadata": {},
     "output_type": "execute_result"
    }
   ],
   "source": [
    "o.read()"
   ]
  },
  {
   "cell_type": "code",
   "execution_count": 8,
   "id": "69bb6618-17b4-4274-9ac5-12fd6acbdcd6",
   "metadata": {},
   "outputs": [
    {
     "data": {
      "text/plain": [
       "0"
      ]
     },
     "execution_count": 8,
     "metadata": {},
     "output_type": "execute_result"
    }
   ],
   "source": [
    "o.seek(0)"
   ]
  },
  {
   "cell_type": "code",
   "execution_count": 9,
   "id": "4b65fe9b-529f-4c2e-ba6b-039034684fbc",
   "metadata": {},
   "outputs": [
    {
     "data": {
      "text/plain": [
       "['Before I got a job, I always wondered what it would be like working as an entry-level data analyst with no prior experience except in projects. If you have ever had the same thought, then this article where I shared my three months of work experience as an entry-level data analyst would interest you.\\n',\n",
       " '\\n',\n",
       " 'I got a job as a data analyst four months into my learning journey. I had worked on a project that got a lot of people, recruiters inclusive interested in me, and a couple offered to interview me for a role.\\n',\n",
       " '\\n',\n",
       " 'The company I work for reached out as well, requesting to interview me for an open role in their company. The CTO of the company had seen my project and thought I would be a good fit for the role.\\n',\n",
       " '\\n',\n",
       " 'Interview process\\n',\n",
       " 'During the interview, I felt less pressured compared to those I have had in the past simply because they had reached out to me.\\n',\n",
       " '\\n',\n",
       " 'The interview process was a very interesting phase as I had up to three conversations leading to the time I received my offer letter.\\n',\n",
       " '\\n',\n",
       " 'In the first conversation, we talked about my skills as a data analyst and how I can add value to the company and contribute to a new project currently being worked on.\\n',\n",
       " '\\n',\n",
       " 'The second one was a take-home assignment to analyze a project and also give recommendations which I submitted the next day.\\n',\n",
       " '\\n',\n",
       " 'The last conversation was generally about what my duties would be in my new role and also my take-home expectation.\\n',\n",
       " '\\n',\n",
       " 'Something that stood out for me and made me happy was when, at the end of the call, my recruiter said;\\n',\n",
       " '\\n',\n",
       " '“My takeaway from our conversations in the past couple of days is that you are passionate about storytelling with data and you understand the industry quite well”\\n',\n",
       " '\\n',\n",
       " 'After this, my offer letter was sent and I resumed almost immediately.\\n',\n",
       " '\\n',\n",
       " 'From the time of the first conversation to the receipt of my offer letter was approximately two weeks.']"
      ]
     },
     "execution_count": 9,
     "metadata": {},
     "output_type": "execute_result"
    }
   ],
   "source": [
    "o.readlines()"
   ]
  },
  {
   "cell_type": "code",
   "execution_count": 10,
   "id": "6d459091-e52d-4218-8563-934389acca72",
   "metadata": {},
   "outputs": [
    {
     "data": {
      "text/plain": [
       "0"
      ]
     },
     "execution_count": 10,
     "metadata": {},
     "output_type": "execute_result"
    }
   ],
   "source": [
    "o.seek(0)"
   ]
  },
  {
   "cell_type": "code",
   "execution_count": 11,
   "id": "57f6ff2c-ce97-40b4-9d38-99dfbb007471",
   "metadata": {},
   "outputs": [
    {
     "name": "stdout",
     "output_type": "stream",
     "text": [
      "B\n",
      "e\n",
      "f\n",
      "o\n",
      "r\n",
      "e\n",
      " \n",
      "I\n",
      " \n",
      "g\n",
      "o\n",
      "t\n",
      " \n",
      "a\n",
      " \n",
      "j\n",
      "o\n",
      "b\n",
      ",\n",
      " \n",
      "I\n",
      " \n",
      "a\n",
      "l\n",
      "w\n",
      "a\n",
      "y\n",
      "s\n",
      " \n",
      "w\n",
      "o\n",
      "n\n",
      "d\n",
      "e\n",
      "r\n",
      "e\n",
      "d\n",
      " \n",
      "w\n",
      "h\n",
      "a\n",
      "t\n",
      " \n",
      "i\n",
      "t\n",
      " \n",
      "w\n",
      "o\n",
      "u\n",
      "l\n",
      "d\n",
      " \n",
      "b\n",
      "e\n",
      " \n",
      "l\n",
      "i\n",
      "k\n",
      "e\n",
      " \n",
      "w\n",
      "o\n",
      "r\n",
      "k\n",
      "i\n",
      "n\n",
      "g\n",
      " \n",
      "a\n",
      "s\n",
      " \n",
      "a\n",
      "n\n",
      " \n",
      "e\n",
      "n\n",
      "t\n",
      "r\n",
      "y\n",
      "-\n",
      "l\n",
      "e\n",
      "v\n",
      "e\n",
      "l\n",
      " \n",
      "d\n",
      "a\n",
      "t\n",
      "a\n",
      " \n",
      "a\n",
      "n\n",
      "a\n",
      "l\n",
      "y\n",
      "s\n",
      "t\n",
      " \n",
      "w\n",
      "i\n",
      "t\n",
      "h\n",
      " \n",
      "n\n",
      "o\n",
      " \n",
      "p\n",
      "r\n",
      "i\n",
      "o\n",
      "r\n",
      " \n",
      "e\n",
      "x\n",
      "p\n",
      "e\n",
      "r\n",
      "i\n",
      "e\n",
      "n\n",
      "c\n",
      "e\n",
      " \n",
      "e\n",
      "x\n",
      "c\n",
      "e\n",
      "p\n",
      "t\n",
      " \n",
      "i\n",
      "n\n",
      " \n",
      "p\n",
      "r\n",
      "o\n",
      "j\n",
      "e\n",
      "c\n",
      "t\n",
      "s\n",
      ".\n",
      " \n",
      "I\n",
      "f\n",
      " \n",
      "y\n",
      "o\n",
      "u\n",
      " \n",
      "h\n",
      "a\n",
      "v\n",
      "e\n",
      " \n",
      "e\n",
      "v\n",
      "e\n",
      "r\n",
      " \n",
      "h\n",
      "a\n",
      "d\n",
      " \n",
      "t\n",
      "h\n",
      "e\n",
      " \n",
      "s\n",
      "a\n",
      "m\n",
      "e\n",
      " \n",
      "t\n",
      "h\n",
      "o\n",
      "u\n",
      "g\n",
      "h\n",
      "t\n",
      ",\n",
      " \n",
      "t\n",
      "h\n",
      "e\n",
      "n\n",
      " \n",
      "t\n",
      "h\n",
      "i\n",
      "s\n",
      " \n",
      "a\n",
      "r\n",
      "t\n",
      "i\n",
      "c\n",
      "l\n",
      "e\n",
      " \n",
      "w\n",
      "h\n",
      "e\n",
      "r\n",
      "e\n",
      " \n",
      "I\n",
      " \n",
      "s\n",
      "h\n",
      "a\n",
      "r\n",
      "e\n",
      "d\n",
      " \n",
      "m\n",
      "y\n",
      " \n",
      "t\n",
      "h\n",
      "r\n",
      "e\n",
      "e\n",
      " \n",
      "m\n",
      "o\n",
      "n\n",
      "t\n",
      "h\n",
      "s\n",
      " \n",
      "o\n",
      "f\n",
      " \n",
      "w\n",
      "o\n",
      "r\n",
      "k\n",
      " \n",
      "e\n",
      "x\n",
      "p\n",
      "e\n",
      "r\n",
      "i\n",
      "e\n",
      "n\n",
      "c\n",
      "e\n",
      " \n",
      "a\n",
      "s\n",
      " \n",
      "a\n",
      "n\n",
      " \n",
      "e\n",
      "n\n",
      "t\n",
      "r\n",
      "y\n",
      "-\n",
      "l\n",
      "e\n",
      "v\n",
      "e\n",
      "l\n",
      " \n",
      "d\n",
      "a\n",
      "t\n",
      "a\n",
      " \n",
      "a\n",
      "n\n",
      "a\n",
      "l\n",
      "y\n",
      "s\n",
      "t\n",
      " \n",
      "w\n",
      "o\n",
      "u\n",
      "l\n",
      "d\n",
      " \n",
      "i\n",
      "n\n",
      "t\n",
      "e\n",
      "r\n",
      "e\n",
      "s\n",
      "t\n",
      " \n",
      "y\n",
      "o\n",
      "u\n",
      ".\n",
      "\n",
      "\n"
     ]
    }
   ],
   "source": [
    "for sentence in o.readline():\n",
    "    print(sentence)"
   ]
  },
  {
   "cell_type": "code",
   "execution_count": 12,
   "id": "371349c5-0b78-410b-8f7b-784c8a3b4e65",
   "metadata": {},
   "outputs": [
    {
     "data": {
      "text/plain": [
       "0"
      ]
     },
     "execution_count": 12,
     "metadata": {},
     "output_type": "execute_result"
    }
   ],
   "source": [
    "o.seek(0)"
   ]
  },
  {
   "cell_type": "code",
   "execution_count": 13,
   "id": "b06ff2f5-d0cf-42fd-855f-8f760f9ff3d6",
   "metadata": {},
   "outputs": [
    {
     "name": "stdout",
     "output_type": "stream",
     "text": [
      "Before I got a job, I always wondered what it would be like working as an entry-level data analyst with no prior experience except in projects. If you have ever had the same thought, then this article where I shared my three months of work experience as an entry-level data analyst would interest you.\n",
      "\n",
      "\n",
      "\n",
      "I got a job as a data analyst four months into my learning journey. I had worked on a project that got a lot of people, recruiters inclusive interested in me, and a couple offered to interview me for a role.\n",
      "\n",
      "\n",
      "\n",
      "The company I work for reached out as well, requesting to interview me for an open role in their company. The CTO of the company had seen my project and thought I would be a good fit for the role.\n",
      "\n",
      "\n",
      "\n",
      "Interview process\n",
      "\n",
      "During the interview, I felt less pressured compared to those I have had in the past simply because they had reached out to me.\n",
      "\n",
      "\n",
      "\n",
      "The interview process was a very interesting phase as I had up to three conversations leading to the time I received my offer letter.\n",
      "\n",
      "\n",
      "\n",
      "In the first conversation, we talked about my skills as a data analyst and how I can add value to the company and contribute to a new project currently being worked on.\n",
      "\n",
      "\n",
      "\n",
      "The second one was a take-home assignment to analyze a project and also give recommendations which I submitted the next day.\n",
      "\n",
      "\n",
      "\n",
      "The last conversation was generally about what my duties would be in my new role and also my take-home expectation.\n",
      "\n",
      "\n",
      "\n",
      "Something that stood out for me and made me happy was when, at the end of the call, my recruiter said;\n",
      "\n",
      "\n",
      "\n",
      "“My takeaway from our conversations in the past couple of days is that you are passionate about storytelling with data and you understand the industry quite well”\n",
      "\n",
      "\n",
      "\n",
      "After this, my offer letter was sent and I resumed almost immediately.\n",
      "\n",
      "\n",
      "\n",
      "From the time of the first conversation to the receipt of my offer letter was approximately two weeks.\n"
     ]
    }
   ],
   "source": [
    "for sentences in o.readlines():\n",
    "    print(sentences)"
   ]
  },
  {
   "cell_type": "code",
   "execution_count": 14,
   "id": "af03d3ec-31ac-40e1-bd56-e8516f983036",
   "metadata": {},
   "outputs": [],
   "source": [
    "s1 = \"\"\"Before I got a job, I always wondered what it would be like working as an entry-level data analyst with no prior experience except in projects. If you have ever had the same thought, then this article where I shared my three months of work experience as an entry-level data analyst would interest you.\"\"\""
   ]
  },
  {
   "cell_type": "code",
   "execution_count": 15,
   "id": "23fdc221-d300-43f9-b0a3-e3c8a623acf4",
   "metadata": {},
   "outputs": [
    {
     "name": "stdout",
     "output_type": "stream",
     "text": [
      "Before I got a job, I always wondered what it would be like working as an entry-level data analyst with no prior experience except in projects. If you have ever had the same thought, then this article where I shared my three months of work experience as an entry-level data analyst would interest you.\n"
     ]
    }
   ],
   "source": [
    "print(s1)"
   ]
  },
  {
   "cell_type": "code",
   "execution_count": 17,
   "id": "3ec07eed-56e8-41c2-94a7-4d98cfa60a8c",
   "metadata": {},
   "outputs": [],
   "source": [
    "words = s1.split(' ')"
   ]
  },
  {
   "cell_type": "code",
   "execution_count": 18,
   "id": "42514eb2-39bc-4b62-a342-580ab6952162",
   "metadata": {},
   "outputs": [
    {
     "data": {
      "text/plain": [
       "['Before',\n",
       " 'I',\n",
       " 'got',\n",
       " 'a',\n",
       " 'job,',\n",
       " 'I',\n",
       " 'always',\n",
       " 'wondered',\n",
       " 'what',\n",
       " 'it',\n",
       " 'would',\n",
       " 'be',\n",
       " 'like',\n",
       " 'working',\n",
       " 'as',\n",
       " 'an',\n",
       " 'entry-level',\n",
       " 'data',\n",
       " 'analyst',\n",
       " 'with',\n",
       " 'no',\n",
       " 'prior',\n",
       " 'experience',\n",
       " 'except',\n",
       " 'in',\n",
       " 'projects.',\n",
       " 'If',\n",
       " 'you',\n",
       " 'have',\n",
       " 'ever',\n",
       " 'had',\n",
       " 'the',\n",
       " 'same',\n",
       " 'thought,',\n",
       " 'then',\n",
       " 'this',\n",
       " 'article',\n",
       " 'where',\n",
       " 'I',\n",
       " 'shared',\n",
       " 'my',\n",
       " 'three',\n",
       " 'months',\n",
       " 'of',\n",
       " 'work',\n",
       " 'experience',\n",
       " 'as',\n",
       " 'an',\n",
       " 'entry-level',\n",
       " 'data',\n",
       " 'analyst',\n",
       " 'would',\n",
       " 'interest',\n",
       " 'you.']"
      ]
     },
     "execution_count": 18,
     "metadata": {},
     "output_type": "execute_result"
    }
   ],
   "source": [
    "words"
   ]
  },
  {
   "cell_type": "code",
   "execution_count": 21,
   "id": "bee815fe-11e0-4f3d-a706-9143472bd53d",
   "metadata": {},
   "outputs": [
    {
     "data": {
      "text/plain": [
       "2"
      ]
     },
     "execution_count": 21,
     "metadata": {},
     "output_type": "execute_result"
    }
   ],
   "source": [
    "s1.count('you')"
   ]
  },
  {
   "cell_type": "code",
   "execution_count": 22,
   "id": "3278d9c1-0bb6-4847-8eb2-a5640d0e1989",
   "metadata": {},
   "outputs": [
    {
     "data": {
      "text/plain": [
       "0"
      ]
     },
     "execution_count": 22,
     "metadata": {},
     "output_type": "execute_result"
    }
   ],
   "source": [
    "o.seek(0)"
   ]
  },
  {
   "cell_type": "code",
   "execution_count": 23,
   "id": "bda594cc-2576-43c1-9244-368275b80447",
   "metadata": {},
   "outputs": [
    {
     "data": {
      "text/plain": [
       "'Before I got a job, I always wondered what it would be like working as an entry-level data analyst with no prior experience except in projects. If you have ever had the same thought, then this article where I shared my three months of work experience as an entry-level data analyst would interest you.\\n'"
      ]
     },
     "execution_count": 23,
     "metadata": {},
     "output_type": "execute_result"
    }
   ],
   "source": [
    "o.readline()"
   ]
  },
  {
   "cell_type": "code",
   "execution_count": 33,
   "id": "b2a058be-31df-47e9-be5a-09a55a5ebd43",
   "metadata": {},
   "outputs": [
    {
     "data": {
      "text/plain": [
       "0"
      ]
     },
     "execution_count": 33,
     "metadata": {},
     "output_type": "execute_result"
    }
   ],
   "source": [
    "o.seek(0)"
   ]
  },
  {
   "cell_type": "code",
   "execution_count": 34,
   "id": "26307e72-6a4a-4949-971e-8711730c9f93",
   "metadata": {},
   "outputs": [],
   "source": [
    "l = []\n",
    "for i in o.readline():\n",
    "    l.append(i)"
   ]
  },
  {
   "cell_type": "code",
   "execution_count": 35,
   "id": "53d831bc-f426-4c82-8ecb-d859b34c83d5",
   "metadata": {},
   "outputs": [
    {
     "data": {
      "text/plain": [
       "['B',\n",
       " 'e',\n",
       " 'f',\n",
       " 'o',\n",
       " 'r',\n",
       " 'e',\n",
       " ' ',\n",
       " 'I',\n",
       " ' ',\n",
       " 'g',\n",
       " 'o',\n",
       " 't',\n",
       " ' ',\n",
       " 'a',\n",
       " ' ',\n",
       " 'j',\n",
       " 'o',\n",
       " 'b',\n",
       " ',',\n",
       " ' ',\n",
       " 'I',\n",
       " ' ',\n",
       " 'a',\n",
       " 'l',\n",
       " 'w',\n",
       " 'a',\n",
       " 'y',\n",
       " 's',\n",
       " ' ',\n",
       " 'w',\n",
       " 'o',\n",
       " 'n',\n",
       " 'd',\n",
       " 'e',\n",
       " 'r',\n",
       " 'e',\n",
       " 'd',\n",
       " ' ',\n",
       " 'w',\n",
       " 'h',\n",
       " 'a',\n",
       " 't',\n",
       " ' ',\n",
       " 'i',\n",
       " 't',\n",
       " ' ',\n",
       " 'w',\n",
       " 'o',\n",
       " 'u',\n",
       " 'l',\n",
       " 'd',\n",
       " ' ',\n",
       " 'b',\n",
       " 'e',\n",
       " ' ',\n",
       " 'l',\n",
       " 'i',\n",
       " 'k',\n",
       " 'e',\n",
       " ' ',\n",
       " 'w',\n",
       " 'o',\n",
       " 'r',\n",
       " 'k',\n",
       " 'i',\n",
       " 'n',\n",
       " 'g',\n",
       " ' ',\n",
       " 'a',\n",
       " 's',\n",
       " ' ',\n",
       " 'a',\n",
       " 'n',\n",
       " ' ',\n",
       " 'e',\n",
       " 'n',\n",
       " 't',\n",
       " 'r',\n",
       " 'y',\n",
       " '-',\n",
       " 'l',\n",
       " 'e',\n",
       " 'v',\n",
       " 'e',\n",
       " 'l',\n",
       " ' ',\n",
       " 'd',\n",
       " 'a',\n",
       " 't',\n",
       " 'a',\n",
       " ' ',\n",
       " 'a',\n",
       " 'n',\n",
       " 'a',\n",
       " 'l',\n",
       " 'y',\n",
       " 's',\n",
       " 't',\n",
       " ' ',\n",
       " 'w',\n",
       " 'i',\n",
       " 't',\n",
       " 'h',\n",
       " ' ',\n",
       " 'n',\n",
       " 'o',\n",
       " ' ',\n",
       " 'p',\n",
       " 'r',\n",
       " 'i',\n",
       " 'o',\n",
       " 'r',\n",
       " ' ',\n",
       " 'e',\n",
       " 'x',\n",
       " 'p',\n",
       " 'e',\n",
       " 'r',\n",
       " 'i',\n",
       " 'e',\n",
       " 'n',\n",
       " 'c',\n",
       " 'e',\n",
       " ' ',\n",
       " 'e',\n",
       " 'x',\n",
       " 'c',\n",
       " 'e',\n",
       " 'p',\n",
       " 't',\n",
       " ' ',\n",
       " 'i',\n",
       " 'n',\n",
       " ' ',\n",
       " 'p',\n",
       " 'r',\n",
       " 'o',\n",
       " 'j',\n",
       " 'e',\n",
       " 'c',\n",
       " 't',\n",
       " 's',\n",
       " '.',\n",
       " ' ',\n",
       " 'I',\n",
       " 'f',\n",
       " ' ',\n",
       " 'y',\n",
       " 'o',\n",
       " 'u',\n",
       " ' ',\n",
       " 'h',\n",
       " 'a',\n",
       " 'v',\n",
       " 'e',\n",
       " ' ',\n",
       " 'e',\n",
       " 'v',\n",
       " 'e',\n",
       " 'r',\n",
       " ' ',\n",
       " 'h',\n",
       " 'a',\n",
       " 'd',\n",
       " ' ',\n",
       " 't',\n",
       " 'h',\n",
       " 'e',\n",
       " ' ',\n",
       " 's',\n",
       " 'a',\n",
       " 'm',\n",
       " 'e',\n",
       " ' ',\n",
       " 't',\n",
       " 'h',\n",
       " 'o',\n",
       " 'u',\n",
       " 'g',\n",
       " 'h',\n",
       " 't',\n",
       " ',',\n",
       " ' ',\n",
       " 't',\n",
       " 'h',\n",
       " 'e',\n",
       " 'n',\n",
       " ' ',\n",
       " 't',\n",
       " 'h',\n",
       " 'i',\n",
       " 's',\n",
       " ' ',\n",
       " 'a',\n",
       " 'r',\n",
       " 't',\n",
       " 'i',\n",
       " 'c',\n",
       " 'l',\n",
       " 'e',\n",
       " ' ',\n",
       " 'w',\n",
       " 'h',\n",
       " 'e',\n",
       " 'r',\n",
       " 'e',\n",
       " ' ',\n",
       " 'I',\n",
       " ' ',\n",
       " 's',\n",
       " 'h',\n",
       " 'a',\n",
       " 'r',\n",
       " 'e',\n",
       " 'd',\n",
       " ' ',\n",
       " 'm',\n",
       " 'y',\n",
       " ' ',\n",
       " 't',\n",
       " 'h',\n",
       " 'r',\n",
       " 'e',\n",
       " 'e',\n",
       " ' ',\n",
       " 'm',\n",
       " 'o',\n",
       " 'n',\n",
       " 't',\n",
       " 'h',\n",
       " 's',\n",
       " ' ',\n",
       " 'o',\n",
       " 'f',\n",
       " ' ',\n",
       " 'w',\n",
       " 'o',\n",
       " 'r',\n",
       " 'k',\n",
       " ' ',\n",
       " 'e',\n",
       " 'x',\n",
       " 'p',\n",
       " 'e',\n",
       " 'r',\n",
       " 'i',\n",
       " 'e',\n",
       " 'n',\n",
       " 'c',\n",
       " 'e',\n",
       " ' ',\n",
       " 'a',\n",
       " 's',\n",
       " ' ',\n",
       " 'a',\n",
       " 'n',\n",
       " ' ',\n",
       " 'e',\n",
       " 'n',\n",
       " 't',\n",
       " 'r',\n",
       " 'y',\n",
       " '-',\n",
       " 'l',\n",
       " 'e',\n",
       " 'v',\n",
       " 'e',\n",
       " 'l',\n",
       " ' ',\n",
       " 'd',\n",
       " 'a',\n",
       " 't',\n",
       " 'a',\n",
       " ' ',\n",
       " 'a',\n",
       " 'n',\n",
       " 'a',\n",
       " 'l',\n",
       " 'y',\n",
       " 's',\n",
       " 't',\n",
       " ' ',\n",
       " 'w',\n",
       " 'o',\n",
       " 'u',\n",
       " 'l',\n",
       " 'd',\n",
       " ' ',\n",
       " 'i',\n",
       " 'n',\n",
       " 't',\n",
       " 'e',\n",
       " 'r',\n",
       " 'e',\n",
       " 's',\n",
       " 't',\n",
       " ' ',\n",
       " 'y',\n",
       " 'o',\n",
       " 'u',\n",
       " '.',\n",
       " '\\n']"
      ]
     },
     "execution_count": 35,
     "metadata": {},
     "output_type": "execute_result"
    }
   ],
   "source": [
    "l"
   ]
  },
  {
   "cell_type": "code",
   "execution_count": 36,
   "id": "7fc8a6d9-950f-415d-9e39-01da0874eb3b",
   "metadata": {},
   "outputs": [
    {
     "data": {
      "text/plain": [
       "11"
      ]
     },
     "execution_count": 36,
     "metadata": {},
     "output_type": "execute_result"
    }
   ],
   "source": [
    "l.count('i')"
   ]
  },
  {
   "cell_type": "code",
   "execution_count": 40,
   "id": "fac21f7e-4f88-415a-b73f-4b3ab6aed51e",
   "metadata": {},
   "outputs": [
    {
     "data": {
      "text/plain": [
       "0"
      ]
     },
     "execution_count": 40,
     "metadata": {},
     "output_type": "execute_result"
    }
   ],
   "source": [
    "o.seek(0)"
   ]
  },
  {
   "cell_type": "code",
   "execution_count": 41,
   "id": "59093b0d-c33d-4c5a-955f-6b8344c38692",
   "metadata": {},
   "outputs": [],
   "source": [
    "l2 = []\n",
    "for i in o.readlines():\n",
    "    l2.append(i)"
   ]
  },
  {
   "cell_type": "code",
   "execution_count": 42,
   "id": "6a79813a-5c84-4ee8-8417-ae6b1cc967c3",
   "metadata": {},
   "outputs": [
    {
     "data": {
      "text/plain": [
       "['Before I got a job, I always wondered what it would be like working as an entry-level data analyst with no prior experience except in projects. If you have ever had the same thought, then this article where I shared my three months of work experience as an entry-level data analyst would interest you.\\n',\n",
       " '\\n',\n",
       " 'I got a job as a data analyst four months into my learning journey. I had worked on a project that got a lot of people, recruiters inclusive interested in me, and a couple offered to interview me for a role.\\n',\n",
       " '\\n',\n",
       " 'The company I work for reached out as well, requesting to interview me for an open role in their company. The CTO of the company had seen my project and thought I would be a good fit for the role.\\n',\n",
       " '\\n',\n",
       " 'Interview process\\n',\n",
       " 'During the interview, I felt less pressured compared to those I have had in the past simply because they had reached out to me.\\n',\n",
       " '\\n',\n",
       " 'The interview process was a very interesting phase as I had up to three conversations leading to the time I received my offer letter.\\n',\n",
       " '\\n',\n",
       " 'In the first conversation, we talked about my skills as a data analyst and how I can add value to the company and contribute to a new project currently being worked on.\\n',\n",
       " '\\n',\n",
       " 'The second one was a take-home assignment to analyze a project and also give recommendations which I submitted the next day.\\n',\n",
       " '\\n',\n",
       " 'The last conversation was generally about what my duties would be in my new role and also my take-home expectation.\\n',\n",
       " '\\n',\n",
       " 'Something that stood out for me and made me happy was when, at the end of the call, my recruiter said;\\n',\n",
       " '\\n',\n",
       " '“My takeaway from our conversations in the past couple of days is that you are passionate about storytelling with data and you understand the industry quite well”\\n',\n",
       " '\\n',\n",
       " 'After this, my offer letter was sent and I resumed almost immediately.\\n',\n",
       " '\\n',\n",
       " 'From the time of the first conversation to the receipt of my offer letter was approximately two weeks.']"
      ]
     },
     "execution_count": 42,
     "metadata": {},
     "output_type": "execute_result"
    }
   ],
   "source": [
    "l2"
   ]
  },
  {
   "cell_type": "code",
   "execution_count": 43,
   "id": "3b0a9491-8fb5-4ee9-b453-39e52605f8f1",
   "metadata": {},
   "outputs": [
    {
     "name": "stdout",
     "output_type": "stream",
     "text": [
      "Before I got a job, I always wondered what it would be like working as an entry-level data analyst with no prior experience except in projects. If you have ever had the same thought, then this article where I shared my three months of work experience as an entry-level data analyst would interest you.\n",
      "\n",
      "\n",
      "\n",
      "I got a job as a data analyst four months into my learning journey. I had worked on a project that got a lot of people, recruiters inclusive interested in me, and a couple offered to interview me for a role.\n",
      "\n",
      "\n",
      "\n",
      "The company I work for reached out as well, requesting to interview me for an open role in their company. The CTO of the company had seen my project and thought I would be a good fit for the role.\n",
      "\n",
      "\n",
      "\n",
      "Interview process\n",
      "\n",
      "During the interview, I felt less pressured compared to those I have had in the past simply because they had reached out to me.\n",
      "\n",
      "\n",
      "\n",
      "The interview process was a very interesting phase as I had up to three conversations leading to the time I received my offer letter.\n",
      "\n",
      "\n",
      "\n",
      "In the first conversation, we talked about my skills as a data analyst and how I can add value to the company and contribute to a new project currently being worked on.\n",
      "\n",
      "\n",
      "\n",
      "The second one was a take-home assignment to analyze a project and also give recommendations which I submitted the next day.\n",
      "\n",
      "\n",
      "\n",
      "The last conversation was generally about what my duties would be in my new role and also my take-home expectation.\n",
      "\n",
      "\n",
      "\n",
      "Something that stood out for me and made me happy was when, at the end of the call, my recruiter said;\n",
      "\n",
      "\n",
      "\n",
      "“My takeaway from our conversations in the past couple of days is that you are passionate about storytelling with data and you understand the industry quite well”\n",
      "\n",
      "\n",
      "\n",
      "After this, my offer letter was sent and I resumed almost immediately.\n",
      "\n",
      "\n",
      "\n",
      "From the time of the first conversation to the receipt of my offer letter was approximately two weeks.\n"
     ]
    }
   ],
   "source": [
    "for i in l2:\n",
    "    print(i)"
   ]
  },
  {
   "cell_type": "code",
   "execution_count": 44,
   "id": "fa94d8da-aa43-47c1-9401-cacb2415397d",
   "metadata": {},
   "outputs": [],
   "source": [
    "import numpy as np"
   ]
  },
  {
   "cell_type": "code",
   "execution_count": 45,
   "id": "fdd5f1cf-719d-4ea9-8e6d-cde91c254af4",
   "metadata": {},
   "outputs": [],
   "source": [
    "d = [94,53,65,60,45]"
   ]
  },
  {
   "cell_type": "code",
   "execution_count": 46,
   "id": "c0ab4c63-a475-4ec0-a796-2709317400ac",
   "metadata": {},
   "outputs": [
    {
     "data": {
      "text/plain": [
       "63.4"
      ]
     },
     "execution_count": 46,
     "metadata": {},
     "output_type": "execute_result"
    }
   ],
   "source": [
    "np.mean([94,53,65,60,45])"
   ]
  },
  {
   "cell_type": "code",
   "execution_count": 47,
   "id": "ab073028-0b78-4b24-90a1-63f3605ab975",
   "metadata": {},
   "outputs": [],
   "source": [
    "def test():\n",
    "    return 'Hello'"
   ]
  },
  {
   "cell_type": "code",
   "execution_count": 48,
   "id": "d4d4d6b0-10c0-4b3f-9a4c-e1bbb44c55a4",
   "metadata": {},
   "outputs": [
    {
     "data": {
      "text/plain": [
       "'Hello'"
      ]
     },
     "execution_count": 48,
     "metadata": {},
     "output_type": "execute_result"
    }
   ],
   "source": [
    "test()"
   ]
  },
  {
   "cell_type": "code",
   "execution_count": null,
   "id": "42cfea13-06ca-4500-ba25-0749c294e2b2",
   "metadata": {},
   "outputs": [],
   "source": []
  }
 ],
 "metadata": {
  "kernelspec": {
   "display_name": "Python 3 (ipykernel)",
   "language": "python",
   "name": "python3"
  },
  "language_info": {
   "codemirror_mode": {
    "name": "ipython",
    "version": 3
   },
   "file_extension": ".py",
   "mimetype": "text/x-python",
   "name": "python",
   "nbconvert_exporter": "python",
   "pygments_lexer": "ipython3",
   "version": "3.12.4"
  }
 },
 "nbformat": 4,
 "nbformat_minor": 5
}

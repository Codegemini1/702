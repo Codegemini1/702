{
 "cells": [
  {
   "cell_type": "markdown",
   "id": "aa515ae7-281a-4dcb-9b18-7f06d1686294",
   "metadata": {},
   "source": [
    "# Incapusulation"
   ]
  },
  {
   "cell_type": "code",
   "execution_count": 1,
   "id": "3e8510d8-30c5-4818-b109-776a612c7ab1",
   "metadata": {},
   "outputs": [],
   "source": [
    "class student_info():\n",
    "    def __init__(self,first_name,last_name,roll_no):\n",
    "        self.first_name = first_name\n",
    "        self.last_name = last_name\n",
    "        self.roll_no = roll_no\n",
    "        "
   ]
  },
  {
   "cell_type": "code",
   "execution_count": 2,
   "id": "10b22c66-6170-473f-92bb-c572a24b1945",
   "metadata": {},
   "outputs": [],
   "source": [
    "gemini = student_info('Vaibhav','Bhosale',702)"
   ]
  },
  {
   "cell_type": "code",
   "execution_count": 3,
   "id": "2173f782-12d5-43eb-83d9-6d5f2e98a402",
   "metadata": {},
   "outputs": [
    {
     "data": {
      "text/plain": [
       "'Vaibhav'"
      ]
     },
     "execution_count": 3,
     "metadata": {},
     "output_type": "execute_result"
    }
   ],
   "source": [
    "gemini.first_name"
   ]
  },
  {
   "cell_type": "code",
   "execution_count": 4,
   "id": "b24b5882-30f5-4daf-975e-cc08b3a5d7f5",
   "metadata": {},
   "outputs": [
    {
     "data": {
      "text/plain": [
       "'Bhosale'"
      ]
     },
     "execution_count": 4,
     "metadata": {},
     "output_type": "execute_result"
    }
   ],
   "source": [
    "gemini.last_name"
   ]
  },
  {
   "cell_type": "code",
   "execution_count": 5,
   "id": "d15168df-857d-4918-9643-a79b61bcfdcc",
   "metadata": {},
   "outputs": [
    {
     "data": {
      "text/plain": [
       "702"
      ]
     },
     "execution_count": 5,
     "metadata": {},
     "output_type": "execute_result"
    }
   ],
   "source": [
    "gemini.roll_no"
   ]
  },
  {
   "cell_type": "code",
   "execution_count": 6,
   "id": "d49af1f9-f085-4206-bbb5-9b99f442e321",
   "metadata": {},
   "outputs": [],
   "source": [
    "class student_info():\n",
    "    def __init__(self,first_name,last_name,roll_no):\n",
    "        self.first_name = first_name #Public\n",
    "        self._last_name = last_name #Protected '_'\n",
    "        self.__roll_no = roll_no #private '__'"
   ]
  },
  {
   "cell_type": "code",
   "execution_count": 7,
   "id": "6532ec7b-c435-4605-829c-4123aad55b09",
   "metadata": {},
   "outputs": [],
   "source": [
    "code = student_info('Vaibhav','Bhosale',702)"
   ]
  },
  {
   "cell_type": "code",
   "execution_count": 8,
   "id": "be37cc4a-6c33-4111-aae0-e6480ded8e83",
   "metadata": {},
   "outputs": [
    {
     "data": {
      "text/plain": [
       "'Vaibhav'"
      ]
     },
     "execution_count": 8,
     "metadata": {},
     "output_type": "execute_result"
    }
   ],
   "source": [
    "code.first_name"
   ]
  },
  {
   "cell_type": "code",
   "execution_count": 9,
   "id": "95812d67-870f-4071-9de6-f9e8bc263578",
   "metadata": {},
   "outputs": [
    {
     "data": {
      "text/plain": [
       "'Bhosale'"
      ]
     },
     "execution_count": 9,
     "metadata": {},
     "output_type": "execute_result"
    }
   ],
   "source": [
    "code._last_name"
   ]
  },
  {
   "cell_type": "code",
   "execution_count": 11,
   "id": "b49770d5-7100-46e1-accf-73a9d74b5ae7",
   "metadata": {},
   "outputs": [
    {
     "data": {
      "text/plain": [
       "702"
      ]
     },
     "execution_count": 11,
     "metadata": {},
     "output_type": "execute_result"
    }
   ],
   "source": [
    "code._student_info__roll_no  #_ class_name __ variable name"
   ]
  },
  {
   "cell_type": "code",
   "execution_count": 12,
   "id": "29327ae0-8bba-4261-af79-f6db2320e021",
   "metadata": {},
   "outputs": [],
   "source": [
    "class car():\n",
    "    def __init__(self,Model,Engine,Price):\n",
    "        self.Model = Model\n",
    "        self._Engine = Engine\n",
    "        self.__Price = Price"
   ]
  },
  {
   "cell_type": "code",
   "execution_count": 13,
   "id": "86d6dd7b-9d5d-40d7-8cdc-468009ffb9c5",
   "metadata": {},
   "outputs": [],
   "source": [
    "Nexon = car(\"Top Model\", 1200, 800000)"
   ]
  },
  {
   "cell_type": "code",
   "execution_count": 14,
   "id": "016e3005-533f-4530-85c0-3ef8261929f1",
   "metadata": {},
   "outputs": [
    {
     "data": {
      "text/plain": [
       "'Top Model'"
      ]
     },
     "execution_count": 14,
     "metadata": {},
     "output_type": "execute_result"
    }
   ],
   "source": [
    "Nexon.Model"
   ]
  },
  {
   "cell_type": "code",
   "execution_count": 15,
   "id": "bf0c0c42-25f3-4e6e-bb20-50657a62f6d7",
   "metadata": {},
   "outputs": [
    {
     "data": {
      "text/plain": [
       "1200"
      ]
     },
     "execution_count": 15,
     "metadata": {},
     "output_type": "execute_result"
    }
   ],
   "source": [
    "Nexon._Engine"
   ]
  },
  {
   "cell_type": "code",
   "execution_count": 16,
   "id": "ddaf683d-bc47-4427-8d19-c61c6c4e758f",
   "metadata": {},
   "outputs": [
    {
     "data": {
      "text/plain": [
       "800000"
      ]
     },
     "execution_count": 16,
     "metadata": {},
     "output_type": "execute_result"
    }
   ],
   "source": [
    "Nexon._car__Price"
   ]
  },
  {
   "cell_type": "markdown",
   "id": "fd3c7e18-7ecb-4100-a3e5-67e04aa1ac47",
   "metadata": {},
   "source": [
    "# ABstractionMethod"
   ]
  },
  {
   "cell_type": "code",
   "execution_count": 17,
   "id": "a1811e98-29d3-43bb-bd91-76aec9360a85",
   "metadata": {},
   "outputs": [],
   "source": [
    "# Special classes"
   ]
  },
  {
   "cell_type": "code",
   "execution_count": 23,
   "id": "d6c5cac5-1df7-44d5-ab7c-469ca0949865",
   "metadata": {},
   "outputs": [],
   "source": [
    "from abc import ABC, abstractmethod"
   ]
  },
  {
   "cell_type": "code",
   "execution_count": 24,
   "id": "258524a1-b18d-4aad-a2a7-c282121f3530",
   "metadata": {},
   "outputs": [],
   "source": [
    "class shape(ABC):\n",
    "    @abstractmethod\n",
    "    def area(self):\n",
    "        pass"
   ]
  },
  {
   "cell_type": "code",
   "execution_count": 25,
   "id": "5f02a111-e1ca-4bea-9cb6-16e9abe1c073",
   "metadata": {},
   "outputs": [],
   "source": [
    "class rectangle(shape):\n",
    "    def area(self,l,b,h):\n",
    "        return l*b*h"
   ]
  },
  {
   "cell_type": "code",
   "execution_count": 26,
   "id": "66edcc26-ddaa-47ac-87e5-1ae6d18ff666",
   "metadata": {},
   "outputs": [],
   "source": [
    "l = rectangle()"
   ]
  },
  {
   "cell_type": "code",
   "execution_count": 27,
   "id": "95e220e9-1cfe-4f75-b1d8-bfe9420dfc2d",
   "metadata": {},
   "outputs": [
    {
     "data": {
      "text/plain": [
       "20"
      ]
     },
     "execution_count": 27,
     "metadata": {},
     "output_type": "execute_result"
    }
   ],
   "source": [
    "l.area(5,2,2)"
   ]
  },
  {
   "cell_type": "code",
   "execution_count": 28,
   "id": "3a55f36e-3a35-4903-8f13-3c700e6e13f4",
   "metadata": {},
   "outputs": [],
   "source": [
    "class circle(shape):\n",
    "    def redius(self):\n",
    "        return 'redius'"
   ]
  },
  {
   "cell_type": "code",
   "execution_count": 29,
   "id": "f7bb726b-d549-4c3e-9998-330336f1aabd",
   "metadata": {},
   "outputs": [
    {
     "ename": "TypeError",
     "evalue": "Can't instantiate abstract class circle without an implementation for abstract method 'area'",
     "output_type": "error",
     "traceback": [
      "\u001b[1;31m---------------------------------------------------------------------------\u001b[0m",
      "\u001b[1;31mTypeError\u001b[0m                                 Traceback (most recent call last)",
      "Cell \u001b[1;32mIn[29], line 1\u001b[0m\n\u001b[1;32m----> 1\u001b[0m c \u001b[38;5;241m=\u001b[39m circle()\n",
      "\u001b[1;31mTypeError\u001b[0m: Can't instantiate abstract class circle without an implementation for abstract method 'area'"
     ]
    }
   ],
   "source": [
    "c = circle()"
   ]
  },
  {
   "cell_type": "code",
   "execution_count": null,
   "id": "0f947e32-4fb4-44e3-a6a7-b46d55349b37",
   "metadata": {},
   "outputs": [],
   "source": []
  },
  {
   "cell_type": "code",
   "execution_count": null,
   "id": "83b32c51-b818-4f7c-b0c4-d80df8cc6b86",
   "metadata": {},
   "outputs": [],
   "source": []
  },
  {
   "cell_type": "code",
   "execution_count": 36,
   "id": "afbd0ab8-f803-43f4-8270-36711bc23213",
   "metadata": {},
   "outputs": [],
   "source": [
    "class phone(ABC):\n",
    "    @abstractmethod\n",
    "    def calling(self):\n",
    "        pass\n",
    "    @abstractmethod\n",
    "    def message(self):\n",
    "        pass"
   ]
  },
  {
   "cell_type": "code",
   "execution_count": 39,
   "id": "cfdf0f1f-3aa0-464f-b4ce-8208fbf728b0",
   "metadata": {},
   "outputs": [],
   "source": [
    "class apple(phone):\n",
    "    def calling(self):\n",
    "        return 'Apple is calling'\n",
    "    def message(self):\n",
    "        return 'Apple sending message'"
   ]
  },
  {
   "cell_type": "code",
   "execution_count": 40,
   "id": "3a8b30ea-6f8b-4da0-9436-5066e9ecd705",
   "metadata": {},
   "outputs": [],
   "source": [
    "iphone13 = apple()"
   ]
  },
  {
   "cell_type": "code",
   "execution_count": 41,
   "id": "f7fb6a39-990b-41a0-94d6-9d8e5e7700f1",
   "metadata": {},
   "outputs": [
    {
     "data": {
      "text/plain": [
       "'Apple is calling'"
      ]
     },
     "execution_count": 41,
     "metadata": {},
     "output_type": "execute_result"
    }
   ],
   "source": [
    "iphone13.calling()"
   ]
  },
  {
   "cell_type": "code",
   "execution_count": 43,
   "id": "fa1ee66f-881f-4ef0-aa48-27a777e7e235",
   "metadata": {},
   "outputs": [
    {
     "data": {
      "text/plain": [
       "'Apple sending message'"
      ]
     },
     "execution_count": 43,
     "metadata": {},
     "output_type": "execute_result"
    }
   ],
   "source": [
    "iphone13.message()"
   ]
  },
  {
   "cell_type": "code",
   "execution_count": null,
   "id": "2d1dba97-0e04-4d2d-8a0d-62051a41633a",
   "metadata": {},
   "outputs": [],
   "source": []
  }
 ],
 "metadata": {
  "kernelspec": {
   "display_name": "Python 3 (ipykernel)",
   "language": "python",
   "name": "python3"
  },
  "language_info": {
   "codemirror_mode": {
    "name": "ipython",
    "version": 3
   },
   "file_extension": ".py",
   "mimetype": "text/x-python",
   "name": "python",
   "nbconvert_exporter": "python",
   "pygments_lexer": "ipython3",
   "version": "3.12.4"
  }
 },
 "nbformat": 4,
 "nbformat_minor": 5
}

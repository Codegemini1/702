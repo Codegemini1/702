{
 "cells": [
  {
   "cell_type": "code",
   "execution_count": null,
   "id": "dde82e87-b931-4ab0-81f7-23404e6b698e",
   "metadata": {},
   "outputs": [],
   "source": [
    "Create class for Student_addmission"
   ]
  },
  {
   "cell_type": "code",
   "execution_count": 1,
   "id": "de8ba164-329b-48f3-a9ea-9f8dc56249e0",
   "metadata": {},
   "outputs": [],
   "source": [
    "name = 'XYZ'"
   ]
  },
  {
   "cell_type": "code",
   "execution_count": 5,
   "id": "fe618bda-853d-4553-a6ad-d4a7373f5447",
   "metadata": {},
   "outputs": [],
   "source": [
    "first_name = 12"
   ]
  },
  {
   "cell_type": "code",
   "execution_count": 7,
   "id": "2302f332-9270-4286-b2fc-706a75a35844",
   "metadata": {},
   "outputs": [],
   "source": [
    "class student_addmission():\n",
    "    def __init__(self,firs_name, last_name, course, duration):\n",
    "        self.firs_name = firs_name\n",
    "        self.last_name = last_name\n",
    "        self.course = course\n",
    "        self.duration = duration\n",
    "\n",
    "    def student_full_name(self):\n",
    "        return self.firs_name  + self.last_name\n",
    "\n",
    "    def course_details(self):\n",
    "        return 'Your course is:', self.course\n",
    "    def duration_details(self):\n",
    "        return 'Your course duration is:', self.duration"
   ]
  },
  {
   "cell_type": "code",
   "execution_count": 8,
   "id": "b79891e1-5c99-4511-b327-3971c0178029",
   "metadata": {},
   "outputs": [],
   "source": [
    "iit = student_addmission('Vaibhav','Bhosale','Data Science', 6)"
   ]
  },
  {
   "cell_type": "code",
   "execution_count": 9,
   "id": "f521f001-8a24-425b-82e8-656465b5fc4c",
   "metadata": {},
   "outputs": [
    {
     "data": {
      "text/plain": [
       "'VaibhavBhosale'"
      ]
     },
     "execution_count": 9,
     "metadata": {},
     "output_type": "execute_result"
    }
   ],
   "source": [
    "iit.student_full_name()"
   ]
  },
  {
   "cell_type": "code",
   "execution_count": 10,
   "id": "cb4c8db4-e724-467d-a2fa-8fa13a16f95e",
   "metadata": {},
   "outputs": [
    {
     "data": {
      "text/plain": [
       "('Your course duration is:', 6)"
      ]
     },
     "execution_count": 10,
     "metadata": {},
     "output_type": "execute_result"
    }
   ],
   "source": [
    "iit.duration_details()"
   ]
  },
  {
   "cell_type": "code",
   "execution_count": 11,
   "id": "cb35bf78-69bc-4c8e-b9e2-efc690262e18",
   "metadata": {},
   "outputs": [
    {
     "data": {
      "text/plain": [
       "('Your course is:', 'Data Science')"
      ]
     },
     "execution_count": 11,
     "metadata": {},
     "output_type": "execute_result"
    }
   ],
   "source": [
    "iit.course_details()"
   ]
  },
  {
   "cell_type": "code",
   "execution_count": 12,
   "id": "1f96ccc8-16cf-47ca-a463-a2b29b6bc07e",
   "metadata": {},
   "outputs": [
    {
     "data": {
      "text/plain": [
       "'Vaibhav'"
      ]
     },
     "execution_count": 12,
     "metadata": {},
     "output_type": "execute_result"
    }
   ],
   "source": [
    "iit.firs_name"
   ]
  },
  {
   "cell_type": "code",
   "execution_count": 13,
   "id": "2ba770dd-7017-4e07-a1a5-a7ad4ca3b57d",
   "metadata": {},
   "outputs": [
    {
     "data": {
      "text/plain": [
       "'Bhosale'"
      ]
     },
     "execution_count": 13,
     "metadata": {},
     "output_type": "execute_result"
    }
   ],
   "source": [
    "iit.last_name"
   ]
  },
  {
   "cell_type": "code",
   "execution_count": 15,
   "id": "70acc36a-a53f-4674-b9c7-967b106fe2b9",
   "metadata": {},
   "outputs": [],
   "source": [
    "class parent():\n",
    "    def cricket(self):\n",
    "        return 'This is cricket function from parent class'"
   ]
  },
  {
   "cell_type": "code",
   "execution_count": 19,
   "id": "ef1fc2fe-4217-4a1e-98c6-7699f1e6d881",
   "metadata": {},
   "outputs": [],
   "source": [
    "class child(parent):\n",
    "    def singing(self):\n",
    "        return 'This is singing function from child class'"
   ]
  },
  {
   "cell_type": "code",
   "execution_count": 20,
   "id": "5c4e3cc9-2245-433c-bdbc-467293189cf4",
   "metadata": {},
   "outputs": [],
   "source": [
    "c1 = child()"
   ]
  },
  {
   "cell_type": "code",
   "execution_count": 21,
   "id": "0439e9bc-aeda-41d2-8a3c-f959caa0b4ea",
   "metadata": {},
   "outputs": [
    {
     "data": {
      "text/plain": [
       "'This is cricket function from parent class'"
      ]
     },
     "execution_count": 21,
     "metadata": {},
     "output_type": "execute_result"
    }
   ],
   "source": [
    "c1.cricket()"
   ]
  },
  {
   "cell_type": "code",
   "execution_count": 22,
   "id": "c3b4bd25-e6cf-4e7c-b8a5-7fb1e7ad0b59",
   "metadata": {},
   "outputs": [
    {
     "data": {
      "text/plain": [
       "'This is singing function from child class'"
      ]
     },
     "execution_count": 22,
     "metadata": {},
     "output_type": "execute_result"
    }
   ],
   "source": [
    "c1.singing()"
   ]
  },
  {
   "cell_type": "code",
   "execution_count": 23,
   "id": "09b7f580-a5ca-45f1-a01b-1ba80e7049e0",
   "metadata": {},
   "outputs": [],
   "source": [
    "p1 = parent()"
   ]
  },
  {
   "cell_type": "code",
   "execution_count": 24,
   "id": "957828f9-01f3-42e6-bbb8-6420f273c330",
   "metadata": {},
   "outputs": [
    {
     "data": {
      "text/plain": [
       "'This is cricket function from parent class'"
      ]
     },
     "execution_count": 24,
     "metadata": {},
     "output_type": "execute_result"
    }
   ],
   "source": [
    "p1.cricket()"
   ]
  },
  {
   "cell_type": "code",
   "execution_count": null,
   "id": "7244c475-2257-4c35-9a13-6b8a1f90b1bd",
   "metadata": {},
   "outputs": [],
   "source": []
  },
  {
   "cell_type": "code",
   "execution_count": null,
   "id": "ad87bc3d-659e-45ca-bdf9-d6e74904fc6c",
   "metadata": {},
   "outputs": [],
   "source": [
    "# Single inheritance"
   ]
  },
  {
   "cell_type": "code",
   "execution_count": 25,
   "id": "5fe16046-f3ad-432e-a449-a8c14f9ca581",
   "metadata": {},
   "outputs": [],
   "source": [
    "class phone():\n",
    "    def calling(self):\n",
    "        return 'Calling from phone'\n",
    "\n",
    "class samsung(phone):\n",
    "    def camera(self):\n",
    "        return 'Camera opning'"
   ]
  },
  {
   "cell_type": "code",
   "execution_count": 26,
   "id": "5d7ebb76-0eb1-4c90-beea-228e2f6bc1f0",
   "metadata": {},
   "outputs": [],
   "source": [
    "nokia = phone()"
   ]
  },
  {
   "cell_type": "code",
   "execution_count": 27,
   "id": "4182631e-01b8-4df9-8a41-2e97828d91a4",
   "metadata": {},
   "outputs": [
    {
     "data": {
      "text/plain": [
       "'Calling from phone'"
      ]
     },
     "execution_count": 27,
     "metadata": {},
     "output_type": "execute_result"
    }
   ],
   "source": [
    "nokia.calling()"
   ]
  },
  {
   "cell_type": "code",
   "execution_count": 28,
   "id": "f1c08e22-e18f-49e1-9b87-80bc5cc74404",
   "metadata": {},
   "outputs": [],
   "source": [
    "s23 = samsung()"
   ]
  },
  {
   "cell_type": "code",
   "execution_count": 29,
   "id": "3d718b7c-bbb3-42d9-b1f4-87b1dbdbe261",
   "metadata": {},
   "outputs": [
    {
     "data": {
      "text/plain": [
       "'Calling from phone'"
      ]
     },
     "execution_count": 29,
     "metadata": {},
     "output_type": "execute_result"
    }
   ],
   "source": [
    "s23.calling()"
   ]
  },
  {
   "cell_type": "code",
   "execution_count": 30,
   "id": "dfe85e09-693f-4e9a-aacf-c66890ea875d",
   "metadata": {},
   "outputs": [
    {
     "data": {
      "text/plain": [
       "'Camera opning'"
      ]
     },
     "execution_count": 30,
     "metadata": {},
     "output_type": "execute_result"
    }
   ],
   "source": [
    "s23.camera()"
   ]
  },
  {
   "cell_type": "code",
   "execution_count": 31,
   "id": "0450530f-49c0-4973-b57b-3d7a4cb4fd61",
   "metadata": {},
   "outputs": [],
   "source": [
    "# mltiple inheritance  phone -->Samsung --> One_plus"
   ]
  },
  {
   "cell_type": "code",
   "execution_count": 32,
   "id": "2637a7d9-1946-4a0d-916c-690231cf641e",
   "metadata": {},
   "outputs": [],
   "source": [
    "class one_plus(samsung):\n",
    "    def speaker(self):\n",
    "        return 'Playing music from speaker of one plus'"
   ]
  },
  {
   "cell_type": "code",
   "execution_count": 34,
   "id": "1459bb80-5b86-4a52-8cd2-1a6c62d242db",
   "metadata": {},
   "outputs": [],
   "source": [
    "nord = one_plus()"
   ]
  },
  {
   "cell_type": "code",
   "execution_count": 35,
   "id": "61380784-d1f5-4139-b3a6-ac48a7ddd6aa",
   "metadata": {},
   "outputs": [
    {
     "data": {
      "text/plain": [
       "'Calling from phone'"
      ]
     },
     "execution_count": 35,
     "metadata": {},
     "output_type": "execute_result"
    }
   ],
   "source": [
    "nord.calling()"
   ]
  },
  {
   "cell_type": "code",
   "execution_count": 36,
   "id": "e535da08-fb75-4224-af2d-ce68c54a23d6",
   "metadata": {},
   "outputs": [
    {
     "data": {
      "text/plain": [
       "'Camera opning'"
      ]
     },
     "execution_count": 36,
     "metadata": {},
     "output_type": "execute_result"
    }
   ],
   "source": [
    "nord.camera()"
   ]
  },
  {
   "cell_type": "code",
   "execution_count": 37,
   "id": "6dae9077-6cf2-4f3e-a6a5-690336e142b3",
   "metadata": {},
   "outputs": [
    {
     "data": {
      "text/plain": [
       "'Playing music from speaker of one plus'"
      ]
     },
     "execution_count": 37,
     "metadata": {},
     "output_type": "execute_result"
    }
   ],
   "source": [
    "nord.speaker()"
   ]
  },
  {
   "cell_type": "code",
   "execution_count": 38,
   "id": "d82575f5-78cf-4cda-b080-14f2a68bff2d",
   "metadata": {},
   "outputs": [],
   "source": [
    "# Polymorphism"
   ]
  },
  {
   "cell_type": "code",
   "execution_count": 39,
   "id": "04e10504-8342-421b-891c-3b07c5cf51fb",
   "metadata": {},
   "outputs": [],
   "source": [
    "class animal():\n",
    "    def sound(self):\n",
    "        return 'Animal is making sound'"
   ]
  },
  {
   "cell_type": "code",
   "execution_count": 45,
   "id": "5d3719be-5c1b-4eec-9f9a-f5f79e1eec73",
   "metadata": {},
   "outputs": [],
   "source": [
    "class dog():\n",
    "    def sound(self):\n",
    "        return 'Dog is making sound'"
   ]
  },
  {
   "cell_type": "code",
   "execution_count": 46,
   "id": "40927799-3326-4597-a113-17ce5052cf1b",
   "metadata": {},
   "outputs": [],
   "source": [
    "class cat():\n",
    "    def sound(self):\n",
    "        return 'Cat is making sound of Maw-Maw'"
   ]
  },
  {
   "cell_type": "code",
   "execution_count": 47,
   "id": "49623ae8-c951-49ea-bcbd-fa03d5d3a79d",
   "metadata": {},
   "outputs": [],
   "source": [
    "rock = dog()"
   ]
  },
  {
   "cell_type": "code",
   "execution_count": 48,
   "id": "84bb37cb-9abf-4e42-8f18-6e58d6b6235e",
   "metadata": {},
   "outputs": [
    {
     "data": {
      "text/plain": [
       "'Dog is making sound'"
      ]
     },
     "execution_count": 48,
     "metadata": {},
     "output_type": "execute_result"
    }
   ],
   "source": [
    "rock.sound()"
   ]
  },
  {
   "cell_type": "code",
   "execution_count": 49,
   "id": "98f39565-daa1-4e51-9b3f-bd340dd1985e",
   "metadata": {},
   "outputs": [],
   "source": [
    "jerry = cat()"
   ]
  },
  {
   "cell_type": "code",
   "execution_count": 50,
   "id": "077d785e-e0d4-489e-b30d-da08a5f52ddf",
   "metadata": {},
   "outputs": [
    {
     "data": {
      "text/plain": [
       "'Cat is making sound of Maw-Maw'"
      ]
     },
     "execution_count": 50,
     "metadata": {},
     "output_type": "execute_result"
    }
   ],
   "source": [
    "jerry.sound()"
   ]
  },
  {
   "cell_type": "code",
   "execution_count": null,
   "id": "ffd5a77f-6808-4256-9172-7da9175af773",
   "metadata": {},
   "outputs": [],
   "source": []
  },
  {
   "cell_type": "code",
   "execution_count": 51,
   "id": "8ba5e905-dacf-4e08-862a-bda2caebe774",
   "metadata": {},
   "outputs": [],
   "source": [
    "class phone():\n",
    "    def calling(self):\n",
    "        return 'I am phone and calling'"
   ]
  },
  {
   "cell_type": "code",
   "execution_count": 52,
   "id": "e6cd0398-cbb1-46c6-a250-83022a1c1a90",
   "metadata": {},
   "outputs": [],
   "source": [
    "class moto():\n",
    "    def calling(self):\n",
    "        return 'I am motorola phone and calling'"
   ]
  },
  {
   "cell_type": "code",
   "execution_count": 53,
   "id": "3b26c845-5bb3-4dc2-9c83-8a4dff9d7bcc",
   "metadata": {},
   "outputs": [],
   "source": [
    "m = moto()"
   ]
  },
  {
   "cell_type": "code",
   "execution_count": 54,
   "id": "76d1f0dc-dbe2-46dc-91ae-2ea4c60b1c41",
   "metadata": {},
   "outputs": [
    {
     "data": {
      "text/plain": [
       "'I am motorola phone and calling'"
      ]
     },
     "execution_count": 54,
     "metadata": {},
     "output_type": "execute_result"
    }
   ],
   "source": [
    "m.calling()"
   ]
  },
  {
   "cell_type": "code",
   "execution_count": 55,
   "id": "655254d8-bb60-4df6-9028-5b09b15489ae",
   "metadata": {},
   "outputs": [],
   "source": [
    "p = phone()"
   ]
  },
  {
   "cell_type": "code",
   "execution_count": 57,
   "id": "d4cfb955-1087-4bc6-b4af-8244fadb7ef5",
   "metadata": {},
   "outputs": [
    {
     "data": {
      "text/plain": [
       "'I am phone and calling'"
      ]
     },
     "execution_count": 57,
     "metadata": {},
     "output_type": "execute_result"
    }
   ],
   "source": [
    "p.calling()"
   ]
  },
  {
   "cell_type": "code",
   "execution_count": null,
   "id": "b8168ece-b033-4431-9084-bbe0dc8ee9e1",
   "metadata": {},
   "outputs": [],
   "source": []
  }
 ],
 "metadata": {
  "kernelspec": {
   "display_name": "Python 3 (ipykernel)",
   "language": "python",
   "name": "python3"
  },
  "language_info": {
   "codemirror_mode": {
    "name": "ipython",
    "version": 3
   },
   "file_extension": ".py",
   "mimetype": "text/x-python",
   "name": "python",
   "nbconvert_exporter": "python",
   "pygments_lexer": "ipython3",
   "version": "3.12.4"
  }
 },
 "nbformat": 4,
 "nbformat_minor": 5
}

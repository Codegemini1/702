{
 "cells": [
  {
   "cell_type": "code",
   "execution_count": 3,
   "id": "ca5fb75f-15a7-45c9-9c9c-570f616226e3",
   "metadata": {},
   "outputs": [],
   "source": [
    "# Filter out list type of dataset\n",
    "l = [1,1.5,[1,2,3,], (1,2,3,4),{1,2,3}, True,[1,2,3,40]]"
   ]
  },
  {
   "cell_type": "code",
   "execution_count": 4,
   "id": "abfa5336-761a-4ae4-84f5-674476102049",
   "metadata": {},
   "outputs": [
    {
     "name": "stdout",
     "output_type": "stream",
     "text": [
      "[1, 2, 3]\n",
      "[1, 2, 3, 40]\n"
     ]
    }
   ],
   "source": [
    "for i in l:\n",
    "    if type(i) == list:\n",
    "        print(i)"
   ]
  },
  {
   "cell_type": "markdown",
   "id": "ef9957b1-df38-4c2e-a78b-3b365e13242d",
   "metadata": {},
   "source": [
    "# While loop"
   ]
  },
  {
   "cell_type": "code",
   "execution_count": 5,
   "id": "3646ae1f-d363-4d5c-ad7a-5f3f54f15bb3",
   "metadata": {},
   "outputs": [
    {
     "name": "stdout",
     "output_type": "stream",
     "text": [
      "5\n",
      "6\n",
      "7\n",
      "8\n",
      "9\n"
     ]
    }
   ],
   "source": [
    "n = 5\n",
    "while n < 10:\n",
    "    print(n)\n",
    "    n = n + 1"
   ]
  },
  {
   "cell_type": "code",
   "execution_count": 6,
   "id": "4b575cfd-e01f-44f7-bb3a-a742033be0f1",
   "metadata": {},
   "outputs": [
    {
     "name": "stdout",
     "output_type": "stream",
     "text": [
      "5\n",
      "6\n",
      "7\n",
      "8\n",
      "9\n",
      "10\n"
     ]
    }
   ],
   "source": [
    "n = 5\n",
    "while n <= 10:\n",
    "    print(n)\n",
    "    n = n + 1"
   ]
  },
  {
   "cell_type": "code",
   "execution_count": 8,
   "id": "1b5d6705-89f0-4f4d-a57c-2e80943c68f8",
   "metadata": {},
   "outputs": [
    {
     "name": "stdout",
     "output_type": "stream",
     "text": [
      "Your are student 0\n",
      "Your are student 1\n",
      "Your are student 2\n",
      "Your are student 3\n",
      "Your are student 4\n",
      "Your are student 5\n",
      "Your are student 6\n",
      "Your are student 7\n",
      "Your are student 8\n",
      "Your are student 9\n",
      "Your are student 10\n",
      "Your are student 11\n",
      "Your are student 12\n",
      "Your are student 13\n",
      "Your are student 14\n",
      "Your are student 15\n",
      "Your are student 16\n"
     ]
    }
   ],
   "source": [
    "age = 0\n",
    "while age <17:\n",
    "    print('Your are student', age)\n",
    "    age = age + 1"
   ]
  },
  {
   "cell_type": "code",
   "execution_count": 12,
   "id": "9c8d22ed-8480-4c72-89c4-8b76feedb786",
   "metadata": {},
   "outputs": [
    {
     "name": "stdout",
     "output_type": "stream",
     "text": [
      "\n"
     ]
    },
    {
     "name": "stdin",
     "output_type": "stream",
     "text": [
      "Enter \"exit\" to stop loop hello\n"
     ]
    },
    {
     "name": "stdout",
     "output_type": "stream",
     "text": [
      "hello\n"
     ]
    },
    {
     "name": "stdin",
     "output_type": "stream",
     "text": [
      "Enter \"exit\" to stop loop new\n"
     ]
    },
    {
     "name": "stdout",
     "output_type": "stream",
     "text": [
      "new\n"
     ]
    },
    {
     "name": "stdin",
     "output_type": "stream",
     "text": [
      "Enter \"exit\" to stop loop python\n"
     ]
    },
    {
     "name": "stdout",
     "output_type": "stream",
     "text": [
      "python\n"
     ]
    },
    {
     "name": "stdin",
     "output_type": "stream",
     "text": [
      "Enter \"exit\" to stop loop exit\n"
     ]
    }
   ],
   "source": [
    "word = ''\n",
    "while word != 'exit':\n",
    "    print(word)\n",
    "    word = input('Enter \"exit\" to stop loop')\n",
    "    "
   ]
  },
  {
   "cell_type": "code",
   "execution_count": 10,
   "id": "35c2dc7d-31aa-4cf9-af79-cee524124434",
   "metadata": {},
   "outputs": [
    {
     "data": {
      "text/plain": [
       "True"
      ]
     },
     "execution_count": 10,
     "metadata": {},
     "output_type": "execute_result"
    }
   ],
   "source": [
    "'hello' != 'exit'"
   ]
  },
  {
   "cell_type": "code",
   "execution_count": 11,
   "id": "f916d703-abc9-48bb-a8c1-cba912cc7dfb",
   "metadata": {},
   "outputs": [
    {
     "data": {
      "text/plain": [
       "False"
      ]
     },
     "execution_count": 11,
     "metadata": {},
     "output_type": "execute_result"
    }
   ],
   "source": [
    "'exit' != 'exit'"
   ]
  },
  {
   "cell_type": "code",
   "execution_count": 13,
   "id": "3a8c574b-50ef-4a55-911a-d51f363eceaa",
   "metadata": {},
   "outputs": [
    {
     "name": "stdout",
     "output_type": "stream",
     "text": [
      "0\n",
      "1\n",
      "2\n",
      "3\n",
      "4\n",
      "5\n",
      "6\n",
      "7\n",
      "8\n",
      "9\n",
      "10\n"
     ]
    }
   ],
   "source": [
    "start = 0\n",
    "while start <= 10:\n",
    "    print(start)\n",
    "    start = start + 1"
   ]
  },
  {
   "cell_type": "code",
   "execution_count": 14,
   "id": "3f0d9005-1be4-4029-94c0-3bd104424cb6",
   "metadata": {},
   "outputs": [],
   "source": [
    "start = 0\n",
    "while start == 10:\n",
    "    print(start)\n",
    "    start = start + 1"
   ]
  },
  {
   "cell_type": "code",
   "execution_count": 15,
   "id": "cb2d457b-82a9-4d0e-aa2d-e07323597711",
   "metadata": {},
   "outputs": [],
   "source": [
    "# Break, Continue, pass"
   ]
  },
  {
   "cell_type": "code",
   "execution_count": 17,
   "id": "e679eb51-dab5-47b2-ad0b-08931ecc38b8",
   "metadata": {},
   "outputs": [
    {
     "name": "stdout",
     "output_type": "stream",
     "text": [
      "1\n",
      "2\n",
      "3\n",
      "4\n"
     ]
    }
   ],
   "source": [
    "for i in range(1,10):\n",
    "    if i == 5:\n",
    "        break\n",
    "    print(i)"
   ]
  },
  {
   "cell_type": "code",
   "execution_count": 18,
   "id": "911bd94e-cf08-45b6-89bc-61157b9dee5b",
   "metadata": {},
   "outputs": [
    {
     "name": "stdout",
     "output_type": "stream",
     "text": [
      "p\n",
      "y\n",
      "t\n"
     ]
    }
   ],
   "source": [
    "for i in 'python':\n",
    "    if i == 'h':\n",
    "        break\n",
    "    print(i)"
   ]
  },
  {
   "cell_type": "code",
   "execution_count": 19,
   "id": "046697c7-aefd-4dac-9a4b-554d4428b001",
   "metadata": {},
   "outputs": [
    {
     "name": "stdout",
     "output_type": "stream",
     "text": [
      "0\n",
      "1\n",
      "2\n",
      "3\n",
      "4\n",
      "5\n",
      "6\n",
      "7\n",
      "8\n",
      "9\n"
     ]
    }
   ],
   "source": [
    "timer = 10\n",
    "for i in range(50):\n",
    "    if i == timer:\n",
    "        break\n",
    "    print(i)"
   ]
  },
  {
   "cell_type": "code",
   "execution_count": 20,
   "id": "38238bb7-1ba3-4e5e-a3cb-371489b3afa3",
   "metadata": {},
   "outputs": [],
   "source": [
    "# continue "
   ]
  },
  {
   "cell_type": "code",
   "execution_count": 21,
   "id": "161697fc-e7b2-4d51-9979-4c016b258c01",
   "metadata": {},
   "outputs": [
    {
     "name": "stdout",
     "output_type": "stream",
     "text": [
      "1\n",
      "2\n",
      "4\n",
      "5\n"
     ]
    }
   ],
   "source": [
    "for i in range(1,6):\n",
    "    if i == 3:\n",
    "        continue\n",
    "    print(i)"
   ]
  },
  {
   "cell_type": "code",
   "execution_count": 22,
   "id": "99b0cfa2-83b9-44ee-805a-99f2931350ae",
   "metadata": {},
   "outputs": [
    {
     "name": "stdout",
     "output_type": "stream",
     "text": [
      "p\n",
      "y\n",
      "t\n",
      "o\n",
      "n\n"
     ]
    }
   ],
   "source": [
    "for i in 'python':\n",
    "    if i == 'h':\n",
    "        continue\n",
    "    print(i)"
   ]
  },
  {
   "cell_type": "code",
   "execution_count": 23,
   "id": "883a40f6-39fc-4aa9-8768-793ef338b612",
   "metadata": {},
   "outputs": [],
   "source": [
    "# Pass"
   ]
  },
  {
   "cell_type": "code",
   "execution_count": 26,
   "id": "2fa27e56-a102-418e-89bc-fe4ed3769e6d",
   "metadata": {},
   "outputs": [],
   "source": [
    "if 10 < 5:\n",
    "    pass"
   ]
  },
  {
   "cell_type": "code",
   "execution_count": 27,
   "id": "09326125-0d87-474e-b976-024062735cba",
   "metadata": {},
   "outputs": [],
   "source": [
    "# Completng the block of code"
   ]
  },
  {
   "cell_type": "code",
   "execution_count": null,
   "id": "a7fcad0a-ebb4-47bb-8af7-bec0c815da4a",
   "metadata": {},
   "outputs": [],
   "source": []
  }
 ],
 "metadata": {
  "kernelspec": {
   "display_name": "Python 3 (ipykernel)",
   "language": "python",
   "name": "python3"
  },
  "language_info": {
   "codemirror_mode": {
    "name": "ipython",
    "version": 3
   },
   "file_extension": ".py",
   "mimetype": "text/x-python",
   "name": "python",
   "nbconvert_exporter": "python",
   "pygments_lexer": "ipython3",
   "version": "3.12.4"
  }
 },
 "nbformat": 4,
 "nbformat_minor": 5
}

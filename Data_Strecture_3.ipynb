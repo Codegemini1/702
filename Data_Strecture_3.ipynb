{
 "cells": [
  {
   "cell_type": "markdown",
   "id": "acc857f5-45f7-4010-b48f-9aaa1b899af5",
   "metadata": {},
   "source": [
    "# Dict"
   ]
  },
  {
   "cell_type": "code",
   "execution_count": null,
   "id": "38f56a3f-d9c7-49c1-a6a3-bd3fe757f7f2",
   "metadata": {},
   "outputs": [],
   "source": [
    "1.Dict is written in curly bracket\n",
    "2.Key and Values"
   ]
  },
  {
   "cell_type": "code",
   "execution_count": null,
   "id": "a223b9a5-7061-4fbb-9d88-82890d31e336",
   "metadata": {},
   "outputs": [],
   "source": [
    "How to acces dict element"
   ]
  },
  {
   "cell_type": "code",
   "execution_count": 2,
   "id": "3ab863c3-f641-40d9-a02b-24de11f28e65",
   "metadata": {},
   "outputs": [],
   "source": [
    "a = {'Name':'Vaibhav','City':'Solapur','Age':45}"
   ]
  },
  {
   "cell_type": "code",
   "execution_count": 4,
   "id": "f0f704fc-0016-490e-b7a5-1e3690d1f535",
   "metadata": {},
   "outputs": [
    {
     "data": {
      "text/plain": [
       "{'Name': 'Vaibhav', 'City': 'Solapur', 'Age': 45}"
      ]
     },
     "execution_count": 4,
     "metadata": {},
     "output_type": "execute_result"
    }
   ],
   "source": [
    "a"
   ]
  },
  {
   "cell_type": "code",
   "execution_count": 6,
   "id": "8ad203be-6db2-4fb5-a398-db465b840d85",
   "metadata": {},
   "outputs": [
    {
     "data": {
      "text/plain": [
       "dict_keys(['Name', 'City', 'Age'])"
      ]
     },
     "execution_count": 6,
     "metadata": {},
     "output_type": "execute_result"
    }
   ],
   "source": [
    "a.keys()"
   ]
  },
  {
   "cell_type": "code",
   "execution_count": 8,
   "id": "178de96c-ee5e-4af2-b14b-1a37287ceed8",
   "metadata": {},
   "outputs": [
    {
     "data": {
      "text/plain": [
       "dict_values(['Vaibhav', 'Solapur', 45])"
      ]
     },
     "execution_count": 8,
     "metadata": {},
     "output_type": "execute_result"
    }
   ],
   "source": [
    "a.values()"
   ]
  },
  {
   "cell_type": "code",
   "execution_count": 10,
   "id": "4f02ca45-0167-462d-802b-d2954dba10a8",
   "metadata": {},
   "outputs": [
    {
     "data": {
      "text/plain": [
       "{'Name': 'Vaibhav', 'City': 'Solapur', 'Age': 45}"
      ]
     },
     "execution_count": 10,
     "metadata": {},
     "output_type": "execute_result"
    }
   ],
   "source": [
    "a"
   ]
  },
  {
   "cell_type": "code",
   "execution_count": 12,
   "id": "c1a05cf5-b4c5-4b20-ade2-0f282cf13837",
   "metadata": {},
   "outputs": [
    {
     "ename": "KeyError",
     "evalue": "0",
     "output_type": "error",
     "traceback": [
      "\u001b[1;31m---------------------------------------------------------------------------\u001b[0m",
      "\u001b[1;31mKeyError\u001b[0m                                  Traceback (most recent call last)",
      "Cell \u001b[1;32mIn[12], line 1\u001b[0m\n\u001b[1;32m----> 1\u001b[0m a[\u001b[38;5;241m0\u001b[39m]\n",
      "\u001b[1;31mKeyError\u001b[0m: 0"
     ]
    }
   ],
   "source": [
    "a[0]"
   ]
  },
  {
   "cell_type": "code",
   "execution_count": 14,
   "id": "87d45fde-2095-45a5-ab95-874b29c3d05f",
   "metadata": {},
   "outputs": [
    {
     "data": {
      "text/plain": [
       "'Vaibhav'"
      ]
     },
     "execution_count": 14,
     "metadata": {},
     "output_type": "execute_result"
    }
   ],
   "source": [
    "a['Name']"
   ]
  },
  {
   "cell_type": "code",
   "execution_count": 16,
   "id": "8430edb8-9262-43ff-9805-6b0442956aa7",
   "metadata": {},
   "outputs": [],
   "source": [
    "b = {'a':10, 'b':20, 'c':30, 'd':40}"
   ]
  },
  {
   "cell_type": "code",
   "execution_count": 18,
   "id": "4142eb9b-3d20-436f-834c-014f9f2cc1ec",
   "metadata": {},
   "outputs": [
    {
     "data": {
      "text/plain": [
       "{'a': 10, 'b': 20, 'c': 30, 'd': 40}"
      ]
     },
     "execution_count": 18,
     "metadata": {},
     "output_type": "execute_result"
    }
   ],
   "source": [
    "b"
   ]
  },
  {
   "cell_type": "code",
   "execution_count": 20,
   "id": "9aa61821-3fd7-433c-95ce-3a3e41817871",
   "metadata": {},
   "outputs": [
    {
     "data": {
      "text/plain": [
       "dict"
      ]
     },
     "execution_count": 20,
     "metadata": {},
     "output_type": "execute_result"
    }
   ],
   "source": [
    "type(b)"
   ]
  },
  {
   "cell_type": "code",
   "execution_count": 22,
   "id": "ae2cc1eb-d5e1-46e5-ae60-71a551a2ed76",
   "metadata": {},
   "outputs": [
    {
     "data": {
      "text/plain": [
       "dict_items([('a', 10), ('b', 20), ('c', 30), ('d', 40)])"
      ]
     },
     "execution_count": 22,
     "metadata": {},
     "output_type": "execute_result"
    }
   ],
   "source": [
    "b.items()"
   ]
  },
  {
   "cell_type": "code",
   "execution_count": 24,
   "id": "0c8a2bfe-c79d-4b0b-bb11-ff17393b8ae8",
   "metadata": {},
   "outputs": [
    {
     "data": {
      "text/plain": [
       "{'a': 10, 'b': 20, 'c': 30, 'd': 40}"
      ]
     },
     "execution_count": 24,
     "metadata": {},
     "output_type": "execute_result"
    }
   ],
   "source": [
    "b"
   ]
  },
  {
   "cell_type": "code",
   "execution_count": 26,
   "id": "6aae2c0b-6f0b-40c2-bc38-f6950aeb7a1f",
   "metadata": {},
   "outputs": [
    {
     "data": {
      "text/plain": [
       "10"
      ]
     },
     "execution_count": 26,
     "metadata": {},
     "output_type": "execute_result"
    }
   ],
   "source": [
    "b['a']"
   ]
  },
  {
   "cell_type": "code",
   "execution_count": 28,
   "id": "acf03ec2-a8fd-4571-ac5b-1cf16211da3a",
   "metadata": {},
   "outputs": [],
   "source": [
    "b['a'] = 1000"
   ]
  },
  {
   "cell_type": "code",
   "execution_count": 30,
   "id": "42ab3d22-b591-47a7-b4af-0ffe32997205",
   "metadata": {},
   "outputs": [
    {
     "data": {
      "text/plain": [
       "{'a': 1000, 'b': 20, 'c': 30, 'd': 40}"
      ]
     },
     "execution_count": 30,
     "metadata": {},
     "output_type": "execute_result"
    }
   ],
   "source": [
    "b"
   ]
  },
  {
   "cell_type": "code",
   "execution_count": 32,
   "id": "61edd081-4ac5-4872-bc9e-d2c50a243617",
   "metadata": {},
   "outputs": [],
   "source": [
    "dict1 = {'a':{1,2,3,4,5},\n",
    "     'b':[1,2,3,4,5],\n",
    "     'c':(1,2,3,4,5)\n",
    "    }"
   ]
  },
  {
   "cell_type": "code",
   "execution_count": 34,
   "id": "aa578d6a-6b91-48f9-92ba-33fa274a4367",
   "metadata": {},
   "outputs": [
    {
     "data": {
      "text/plain": [
       "{'a': {1, 2, 3, 4, 5}, 'b': [1, 2, 3, 4, 5], 'c': (1, 2, 3, 4, 5)}"
      ]
     },
     "execution_count": 34,
     "metadata": {},
     "output_type": "execute_result"
    }
   ],
   "source": [
    "dict1"
   ]
  },
  {
   "cell_type": "code",
   "execution_count": 36,
   "id": "fa91e804-f7b2-408e-b523-c87edd27e4c7",
   "metadata": {},
   "outputs": [
    {
     "data": {
      "text/plain": [
       "{1, 2, 3, 4, 5}"
      ]
     },
     "execution_count": 36,
     "metadata": {},
     "output_type": "execute_result"
    }
   ],
   "source": [
    "dict1['a']"
   ]
  },
  {
   "cell_type": "code",
   "execution_count": 38,
   "id": "b2fe6254-dcfc-47b9-a7d2-55b5af3acd15",
   "metadata": {},
   "outputs": [
    {
     "data": {
      "text/plain": [
       "[1, 2, 3, 4, 5]"
      ]
     },
     "execution_count": 38,
     "metadata": {},
     "output_type": "execute_result"
    }
   ],
   "source": [
    "dict1['b']"
   ]
  },
  {
   "cell_type": "code",
   "execution_count": 40,
   "id": "b476e53d-30bb-46e6-8d5f-9c7ca0840851",
   "metadata": {},
   "outputs": [],
   "source": [
    "l = [ {1, 2, 3, 4, 5}, [1, 2, 3, 4, 5], (1, 2, 3, 4, 5)]"
   ]
  },
  {
   "cell_type": "code",
   "execution_count": 42,
   "id": "41eff156-ed32-44af-bc7d-169eb1ea03de",
   "metadata": {},
   "outputs": [
    {
     "data": {
      "text/plain": [
       "[{1, 2, 3, 4, 5}, [1, 2, 3, 4, 5], (1, 2, 3, 4, 5)]"
      ]
     },
     "execution_count": 42,
     "metadata": {},
     "output_type": "execute_result"
    }
   ],
   "source": [
    "l"
   ]
  },
  {
   "cell_type": "code",
   "execution_count": 44,
   "id": "70e40b2c-cf44-452a-9e3f-f9d37b3d6e77",
   "metadata": {},
   "outputs": [
    {
     "data": {
      "text/plain": [
       "{1, 2, 3, 4, 5}"
      ]
     },
     "execution_count": 44,
     "metadata": {},
     "output_type": "execute_result"
    }
   ],
   "source": [
    "l[0]"
   ]
  },
  {
   "cell_type": "code",
   "execution_count": 46,
   "id": "4c93b549-4421-44f4-be5d-4eff2569e1ca",
   "metadata": {},
   "outputs": [
    {
     "data": {
      "text/plain": [
       "{'a': {1, 2, 3, 4, 5}, 'b': [1, 2, 3, 4, 5], 'c': (1, 2, 3, 4, 5)}"
      ]
     },
     "execution_count": 46,
     "metadata": {},
     "output_type": "execute_result"
    }
   ],
   "source": [
    "dict1"
   ]
  },
  {
   "cell_type": "code",
   "execution_count": 50,
   "id": "241c442d-01f6-4439-9812-96a5f155fdc5",
   "metadata": {},
   "outputs": [
    {
     "data": {
      "text/plain": [
       "(1, 2, 3, 4, 5)"
      ]
     },
     "execution_count": 50,
     "metadata": {},
     "output_type": "execute_result"
    }
   ],
   "source": [
    "dict1.pop('c')"
   ]
  },
  {
   "cell_type": "code",
   "execution_count": 52,
   "id": "aa29be79-698c-45d8-ac0b-c971d9c254a6",
   "metadata": {},
   "outputs": [
    {
     "data": {
      "text/plain": [
       "{'a': {1, 2, 3, 4, 5}, 'b': [1, 2, 3, 4, 5]}"
      ]
     },
     "execution_count": 52,
     "metadata": {},
     "output_type": "execute_result"
    }
   ],
   "source": [
    "dict1"
   ]
  },
  {
   "cell_type": "code",
   "execution_count": 63,
   "id": "555e5286-3de7-45ea-b95d-5991b2de60fe",
   "metadata": {},
   "outputs": [
    {
     "data": {
      "text/plain": [
       "{'a': {1, 2, 3, 4, 5}, 'b': [1, 2, 3, 4, 5]}"
      ]
     },
     "execution_count": 63,
     "metadata": {},
     "output_type": "execute_result"
    }
   ],
   "source": [
    "dict1"
   ]
  },
  {
   "cell_type": "code",
   "execution_count": 65,
   "id": "9e72b733-d31d-4694-a81b-683765241de0",
   "metadata": {},
   "outputs": [
    {
     "data": {
      "text/plain": [
       "[1, 2, 3, 4, 5]"
      ]
     },
     "execution_count": 65,
     "metadata": {},
     "output_type": "execute_result"
    }
   ],
   "source": [
    "dict1['b']"
   ]
  },
  {
   "cell_type": "code",
   "execution_count": null,
   "id": "7dfaa502-cad0-4876-98ef-856c7a92e4ec",
   "metadata": {},
   "outputs": [],
   "source": [
    "# List\n",
    "# Tuple\n",
    "# Set\n",
    "# Dict"
   ]
  },
  {
   "cell_type": "code",
   "execution_count": 67,
   "id": "74927a9a-5fab-4d79-8ff8-82659af05f91",
   "metadata": {},
   "outputs": [],
   "source": [
    "to_do_list = ['Buy Grocary', 'Clean House', 'pay bill']"
   ]
  },
  {
   "cell_type": "code",
   "execution_count": 69,
   "id": "6346c050-4d37-4c15-b3e8-2912aae30a5f",
   "metadata": {},
   "outputs": [
    {
     "data": {
      "text/plain": [
       "['Buy Grocary', 'Clean House', 'pay bill']"
      ]
     },
     "execution_count": 69,
     "metadata": {},
     "output_type": "execute_result"
    }
   ],
   "source": [
    "to_do_list"
   ]
  },
  {
   "cell_type": "code",
   "execution_count": 71,
   "id": "a9cbc697-131d-46ae-8438-61891eab48e5",
   "metadata": {},
   "outputs": [],
   "source": [
    "to_do_list.append('Go for gym')"
   ]
  },
  {
   "cell_type": "code",
   "execution_count": 73,
   "id": "1efc9c6a-1867-4ecc-b6bf-febedf904fbd",
   "metadata": {},
   "outputs": [],
   "source": [
    "to_do_list.append('Buy milk')"
   ]
  },
  {
   "cell_type": "code",
   "execution_count": 75,
   "id": "c1a8bffa-8daf-4914-a080-52926fb36cde",
   "metadata": {},
   "outputs": [
    {
     "data": {
      "text/plain": [
       "['Buy Grocary', 'Clean House', 'pay bill', 'Go for gym', 'Buy milk']"
      ]
     },
     "execution_count": 75,
     "metadata": {},
     "output_type": "execute_result"
    }
   ],
   "source": [
    "to_do_list"
   ]
  },
  {
   "cell_type": "code",
   "execution_count": 77,
   "id": "7174f26f-0b7f-46a6-a31a-327d76a380a9",
   "metadata": {},
   "outputs": [],
   "source": [
    "to_do_list.remove('Clean House')"
   ]
  },
  {
   "cell_type": "code",
   "execution_count": 79,
   "id": "3ec67ed4-0741-4785-bf14-4bac48adef77",
   "metadata": {},
   "outputs": [
    {
     "data": {
      "text/plain": [
       "['Buy Grocary', 'pay bill', 'Go for gym', 'Buy milk']"
      ]
     },
     "execution_count": 79,
     "metadata": {},
     "output_type": "execute_result"
    }
   ],
   "source": [
    "to_do_list"
   ]
  },
  {
   "cell_type": "code",
   "execution_count": 81,
   "id": "a25876e1-75ca-48d7-940f-5adf54bd7a0a",
   "metadata": {},
   "outputs": [],
   "source": [
    "marks = [86,95,89,79]"
   ]
  },
  {
   "cell_type": "code",
   "execution_count": 83,
   "id": "112698d6-d8ae-4abc-b49b-9f013a11b8b3",
   "metadata": {},
   "outputs": [
    {
     "data": {
      "text/plain": [
       "[86, 95, 89, 79]"
      ]
     },
     "execution_count": 83,
     "metadata": {},
     "output_type": "execute_result"
    }
   ],
   "source": [
    "marks"
   ]
  },
  {
   "cell_type": "code",
   "execution_count": 95,
   "id": "8c94125d-64d9-4049-a778-a9e7c186ad69",
   "metadata": {},
   "outputs": [],
   "source": [
    "sum_marks = sum(marks)"
   ]
  },
  {
   "cell_type": "code",
   "execution_count": 105,
   "id": "609d2e1f-8a91-4ab2-bf10-792af144c727",
   "metadata": {},
   "outputs": [],
   "source": [
    "max_marks = max(marks)"
   ]
  },
  {
   "cell_type": "code",
   "execution_count": 107,
   "id": "142a2e81-b3d0-4d6e-a3bb-b1a234ce271f",
   "metadata": {},
   "outputs": [],
   "source": [
    "min_marks = min(marks)"
   ]
  },
  {
   "cell_type": "code",
   "execution_count": 97,
   "id": "ced02683-3e67-43e2-8056-aba65e61fdff",
   "metadata": {},
   "outputs": [],
   "source": [
    "n = len(marks)"
   ]
  },
  {
   "cell_type": "code",
   "execution_count": 99,
   "id": "7780666c-fb6b-471a-9323-17291486dc5f",
   "metadata": {},
   "outputs": [
    {
     "data": {
      "text/plain": [
       "4"
      ]
     },
     "execution_count": 99,
     "metadata": {},
     "output_type": "execute_result"
    }
   ],
   "source": [
    "n"
   ]
  },
  {
   "cell_type": "code",
   "execution_count": 93,
   "id": "625b2b5a-4ac3-4047-86c3-fb38e3192d60",
   "metadata": {},
   "outputs": [],
   "source": [
    "# Average"
   ]
  },
  {
   "cell_type": "code",
   "execution_count": 101,
   "id": "b8774d0a-3431-4c04-937b-f8a1b430ffec",
   "metadata": {},
   "outputs": [
    {
     "name": "stdout",
     "output_type": "stream",
     "text": [
      "87.25\n"
     ]
    }
   ],
   "source": [
    "print(sum_marks/n)"
   ]
  },
  {
   "cell_type": "code",
   "execution_count": 111,
   "id": "3ed3fd96-147e-4e52-ba45-f51838b654a5",
   "metadata": {},
   "outputs": [
    {
     "name": "stdout",
     "output_type": "stream",
     "text": [
      "Minimum marks is: 79\n"
     ]
    }
   ],
   "source": [
    "print('Minimum marks is:',min_marks)"
   ]
  },
  {
   "cell_type": "code",
   "execution_count": 113,
   "id": "44c4f648-fe37-43d3-928b-99c819ade942",
   "metadata": {},
   "outputs": [
    {
     "name": "stdout",
     "output_type": "stream",
     "text": [
      "Maximum mark is: 95\n"
     ]
    }
   ],
   "source": [
    "print('Maximum mark is:', max_marks)"
   ]
  },
  {
   "cell_type": "code",
   "execution_count": 121,
   "id": "cfa5dd3d-8c2b-4d68-98be-c7870a187746",
   "metadata": {},
   "outputs": [
    {
     "name": "stdout",
     "output_type": "stream",
     "text": [
      "Maximum mark:95 and minimum mark is:79 \n"
     ]
    }
   ],
   "source": [
    "print(f\"Maximum mark:{max_marks} and minimum mark is:{min_marks} \")"
   ]
  },
  {
   "cell_type": "code",
   "execution_count": 127,
   "id": "ba17832a-b2c0-4328-9325-185b60ce40f8",
   "metadata": {},
   "outputs": [
    {
     "name": "stdout",
     "output_type": "stream",
     "text": [
      "Total sum of marks is:349\n"
     ]
    }
   ],
   "source": [
    "print(f\"Total sum of marks is:{sum_marks}\")"
   ]
  },
  {
   "cell_type": "code",
   "execution_count": 109,
   "id": "71847507-aee4-4f06-b8d9-23492a7618f9",
   "metadata": {},
   "outputs": [
    {
     "data": {
      "text/plain": [
       "79"
      ]
     },
     "execution_count": 109,
     "metadata": {},
     "output_type": "execute_result"
    }
   ],
   "source": [
    "min_marks"
   ]
  },
  {
   "cell_type": "code",
   "execution_count": null,
   "id": "738785f8-183d-4d10-a93e-ddb628da6b2a",
   "metadata": {},
   "outputs": [],
   "source": [
    "Q1"
   ]
  },
  {
   "cell_type": "code",
   "execution_count": null,
   "id": "2dd91214-8ea1-4fb7-a0f5-5ee3fa08d9ed",
   "metadata": {},
   "outputs": [],
   "source": []
  },
  {
   "cell_type": "code",
   "execution_count": null,
   "id": "f4c53209-132c-48d2-8f2b-0842a9e68c0e",
   "metadata": {},
   "outputs": [],
   "source": [
    "Q2"
   ]
  }
 ],
 "metadata": {
  "kernelspec": {
   "display_name": "Python 3 (ipykernel)",
   "language": "python",
   "name": "python3"
  },
  "language_info": {
   "codemirror_mode": {
    "name": "ipython",
    "version": 3
   },
   "file_extension": ".py",
   "mimetype": "text/x-python",
   "name": "python",
   "nbconvert_exporter": "python",
   "pygments_lexer": "ipython3",
   "version": "3.12.4"
  }
 },
 "nbformat": 4,
 "nbformat_minor": 5
}

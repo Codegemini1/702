{
 "cells": [
  {
   "cell_type": "code",
   "execution_count": 2,
   "id": "c3236223-eb0b-4de7-a1ea-93996fa45b04",
   "metadata": {},
   "outputs": [
    {
     "ename": "NameError",
     "evalue": "name 'test' is not defined",
     "output_type": "error",
     "traceback": [
      "\u001b[1;31m---------------------------------------------------------------------------\u001b[0m",
      "\u001b[1;31mNameError\u001b[0m                                 Traceback (most recent call last)",
      "Cell \u001b[1;32mIn[2], line 1\u001b[0m\n\u001b[1;32m----> 1\u001b[0m test()\n",
      "\u001b[1;31mNameError\u001b[0m: name 'test' is not defined"
     ]
    }
   ],
   "source": [
    "test()"
   ]
  },
  {
   "cell_type": "code",
   "execution_count": 3,
   "id": "8174357d-516c-482d-b55b-51d02c1b6375",
   "metadata": {},
   "outputs": [],
   "source": [
    "import addition_function"
   ]
  },
  {
   "cell_type": "code",
   "execution_count": 4,
   "id": "1fa0e82d-aefc-4e32-8c24-50864e52f27b",
   "metadata": {},
   "outputs": [
    {
     "data": {
      "text/plain": [
       "15"
      ]
     },
     "execution_count": 4,
     "metadata": {},
     "output_type": "execute_result"
    }
   ],
   "source": [
    "addition_function.addition(10,5)"
   ]
  },
  {
   "cell_type": "code",
   "execution_count": 5,
   "id": "b0688471-c7af-4a01-a59b-c1f5505f16f0",
   "metadata": {},
   "outputs": [],
   "source": [
    "import data_types as G"
   ]
  },
  {
   "cell_type": "code",
   "execution_count": 6,
   "id": "2ea67512-2dc8-4b5a-b873-e90780490af7",
   "metadata": {},
   "outputs": [
    {
     "name": "stdout",
     "output_type": "stream",
     "text": [
      "1\n",
      "10\n"
     ]
    }
   ],
   "source": [
    "G.int_filter(1,1.5,'Data',10)"
   ]
  },
  {
   "cell_type": "code",
   "execution_count": 7,
   "id": "531e9894-44f4-496e-96e5-8eb0d2bbb5a6",
   "metadata": {},
   "outputs": [
    {
     "name": "stdout",
     "output_type": "stream",
     "text": [
      "1.5\n"
     ]
    }
   ],
   "source": [
    "G.float_filter(1,1.5,'Data',10)"
   ]
  },
  {
   "cell_type": "code",
   "execution_count": 8,
   "id": "a1302a0e-020b-47ba-972f-5d68ddcf05a2",
   "metadata": {},
   "outputs": [
    {
     "ename": "NameError",
     "evalue": "name 'string' is not defined",
     "output_type": "error",
     "traceback": [
      "\u001b[1;31m---------------------------------------------------------------------------\u001b[0m",
      "\u001b[1;31mNameError\u001b[0m                                 Traceback (most recent call last)",
      "Cell \u001b[1;32mIn[8], line 1\u001b[0m\n\u001b[1;32m----> 1\u001b[0m G\u001b[38;5;241m.\u001b[39mstring_filter(\u001b[38;5;241m1\u001b[39m,\u001b[38;5;241m1.5\u001b[39m,\u001b[38;5;124m'\u001b[39m\u001b[38;5;124mData\u001b[39m\u001b[38;5;124m'\u001b[39m,\u001b[38;5;241m10\u001b[39m)\n",
      "File \u001b[1;32m~\\Downloads\\703\\Python\\Modules&Packages\\data_types.py:15\u001b[0m, in \u001b[0;36mstring_filter\u001b[1;34m(*args)\u001b[0m\n\u001b[0;32m     13\u001b[0m \u001b[38;5;28;01mdef\u001b[39;00m \u001b[38;5;21mstring_filter\u001b[39m(\u001b[38;5;241m*\u001b[39margs):\n\u001b[0;32m     14\u001b[0m \t\u001b[38;5;28;01mfor\u001b[39;00m i \u001b[38;5;129;01min\u001b[39;00m args:\n\u001b[1;32m---> 15\u001b[0m \t\t\u001b[38;5;28;01mif\u001b[39;00m \u001b[38;5;28mtype\u001b[39m(i) \u001b[38;5;241m==\u001b[39m string:\n\u001b[0;32m     16\u001b[0m \t\t\t\u001b[38;5;28mprint\u001b[39m(i)\n",
      "\u001b[1;31mNameError\u001b[0m: name 'string' is not defined"
     ]
    }
   ],
   "source": [
    "G.string_filter(1,1.5,'Data',10)"
   ]
  },
  {
   "cell_type": "code",
   "execution_count": null,
   "id": "7258b613-0659-4653-a8ef-c6a7de134000",
   "metadata": {},
   "outputs": [],
   "source": [
    "# Task\n",
    "# Create 5 function on arethgematic Operations like +, - , * , / , %"
   ]
  }
 ],
 "metadata": {
  "kernelspec": {
   "display_name": "Python 3 (ipykernel)",
   "language": "python",
   "name": "python3"
  },
  "language_info": {
   "codemirror_mode": {
    "name": "ipython",
    "version": 3
   },
   "file_extension": ".py",
   "mimetype": "text/x-python",
   "name": "python",
   "nbconvert_exporter": "python",
   "pygments_lexer": "ipython3",
   "version": "3.12.4"
  }
 },
 "nbformat": 4,
 "nbformat_minor": 5
}

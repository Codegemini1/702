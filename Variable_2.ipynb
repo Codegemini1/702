{
 "cells": [
  {
   "cell_type": "code",
   "execution_count": 1,
   "id": "233b3611-c6d6-4f97-833a-bc226aa2550a",
   "metadata": {},
   "outputs": [],
   "source": [
    "age = 30\n",
    "height = 6.5\n",
    "name = 'XYZ'"
   ]
  },
  {
   "cell_type": "code",
   "execution_count": 3,
   "id": "7c95b963-c8b7-41aa-a3fa-47150106a3d9",
   "metadata": {},
   "outputs": [
    {
     "data": {
      "text/plain": [
       "30"
      ]
     },
     "execution_count": 3,
     "metadata": {},
     "output_type": "execute_result"
    }
   ],
   "source": [
    "age"
   ]
  },
  {
   "cell_type": "code",
   "execution_count": 5,
   "id": "c1dc0830-17ed-48ca-87e5-d4b98d7fe871",
   "metadata": {},
   "outputs": [
    {
     "data": {
      "text/plain": [
       "6.5"
      ]
     },
     "execution_count": 5,
     "metadata": {},
     "output_type": "execute_result"
    }
   ],
   "source": [
    "height"
   ]
  },
  {
   "cell_type": "code",
   "execution_count": 7,
   "id": "e6884858-6a14-4d0c-bed8-1a65e20c2862",
   "metadata": {},
   "outputs": [
    {
     "data": {
      "text/plain": [
       "'XYZ'"
      ]
     },
     "execution_count": 7,
     "metadata": {},
     "output_type": "execute_result"
    }
   ],
   "source": [
    "name"
   ]
  },
  {
   "cell_type": "code",
   "execution_count": 9,
   "id": "2861dc0e-ce7e-45cb-b928-41bd1a081a56",
   "metadata": {},
   "outputs": [
    {
     "ename": "SyntaxError",
     "evalue": "cannot assign to literal here. Maybe you meant '==' instead of '='? (3891884129.py, line 1)",
     "output_type": "error",
     "traceback": [
      "\u001b[1;36m  Cell \u001b[1;32mIn[9], line 1\u001b[1;36m\u001b[0m\n\u001b[1;33m    5 = 10\u001b[0m\n\u001b[1;37m    ^\u001b[0m\n\u001b[1;31mSyntaxError\u001b[0m\u001b[1;31m:\u001b[0m cannot assign to literal here. Maybe you meant '==' instead of '='?\n"
     ]
    }
   ],
   "source": [
    "5 = 10"
   ]
  },
  {
   "cell_type": "code",
   "execution_count": 11,
   "id": "4c800a02-d171-4966-af1c-02065eefd7e7",
   "metadata": {},
   "outputs": [],
   "source": [
    "a5 = 10"
   ]
  },
  {
   "cell_type": "code",
   "execution_count": 13,
   "id": "1f7e6d9a-773b-43fc-8691-c7e7d3453e01",
   "metadata": {},
   "outputs": [
    {
     "data": {
      "text/plain": [
       "10"
      ]
     },
     "execution_count": 13,
     "metadata": {},
     "output_type": "execute_result"
    }
   ],
   "source": [
    "a5"
   ]
  },
  {
   "cell_type": "code",
   "execution_count": 17,
   "id": "8fd45c6d-a716-4b9f-9d6e-1254cd25f859",
   "metadata": {},
   "outputs": [],
   "source": [
    "Age = 30\n",
    "age = 35"
   ]
  },
  {
   "cell_type": "code",
   "execution_count": 19,
   "id": "5fdc43e5-a57b-47f5-979e-61b514dfe3d6",
   "metadata": {},
   "outputs": [
    {
     "data": {
      "text/plain": [
       "30"
      ]
     },
     "execution_count": 19,
     "metadata": {},
     "output_type": "execute_result"
    }
   ],
   "source": [
    "Age"
   ]
  },
  {
   "cell_type": "code",
   "execution_count": 21,
   "id": "464e36f3-69f0-464b-bcd8-e6dac7cae3d1",
   "metadata": {},
   "outputs": [
    {
     "data": {
      "text/plain": [
       "35"
      ]
     },
     "execution_count": 21,
     "metadata": {},
     "output_type": "execute_result"
    }
   ],
   "source": [
    "age"
   ]
  },
  {
   "cell_type": "code",
   "execution_count": 23,
   "id": "68cc27f7-750a-4a0b-b6aa-183796f9c6e8",
   "metadata": {},
   "outputs": [
    {
     "ename": "SyntaxError",
     "evalue": "invalid syntax. Maybe you meant '==' or ':=' instead of '='? (899716977.py, line 1)",
     "output_type": "error",
     "traceback": [
      "\u001b[1;36m  Cell \u001b[1;32mIn[23], line 1\u001b[1;36m\u001b[0m\n\u001b[1;33m    @name = 'Hello'\u001b[0m\n\u001b[1;37m     ^\u001b[0m\n\u001b[1;31mSyntaxError\u001b[0m\u001b[1;31m:\u001b[0m invalid syntax. Maybe you meant '==' or ':=' instead of '='?\n"
     ]
    }
   ],
   "source": [
    "@name = 'Hello'"
   ]
  },
  {
   "cell_type": "code",
   "execution_count": 25,
   "id": "25578a65-3bc7-45fb-87e0-4c68e09de282",
   "metadata": {},
   "outputs": [
    {
     "data": {
      "text/plain": [
       "'5'"
      ]
     },
     "execution_count": 25,
     "metadata": {},
     "output_type": "execute_result"
    }
   ],
   "source": [
    "'5'"
   ]
  },
  {
   "cell_type": "code",
   "execution_count": 27,
   "id": "d16b503b-2713-4a5d-8ffd-ad115a9fb77f",
   "metadata": {},
   "outputs": [
    {
     "data": {
      "text/plain": [
       "5"
      ]
     },
     "execution_count": 27,
     "metadata": {},
     "output_type": "execute_result"
    }
   ],
   "source": [
    "int('5')"
   ]
  },
  {
   "cell_type": "code",
   "execution_count": 29,
   "id": "51badc9e-e1b1-41eb-a006-22ef36e369f7",
   "metadata": {},
   "outputs": [
    {
     "ename": "ValueError",
     "evalue": "invalid literal for int() with base 10: 'hello'",
     "output_type": "error",
     "traceback": [
      "\u001b[1;31m---------------------------------------------------------------------------\u001b[0m",
      "\u001b[1;31mValueError\u001b[0m                                Traceback (most recent call last)",
      "Cell \u001b[1;32mIn[29], line 1\u001b[0m\n\u001b[1;32m----> 1\u001b[0m \u001b[38;5;28mint\u001b[39m(\u001b[38;5;124m'\u001b[39m\u001b[38;5;124mhello\u001b[39m\u001b[38;5;124m'\u001b[39m)\n",
      "\u001b[1;31mValueError\u001b[0m: invalid literal for int() with base 10: 'hello'"
     ]
    }
   ],
   "source": [
    "int('hello')"
   ]
  },
  {
   "cell_type": "code",
   "execution_count": 35,
   "id": "a12121e5-e474-49b6-b1fe-2a626da86132",
   "metadata": {},
   "outputs": [
    {
     "name": "stdin",
     "output_type": "stream",
     "text": [
      "Enter num1 10\n",
      "Enter num2 7\n"
     ]
    }
   ],
   "source": [
    "num1 = float(input('Enter num1'))\n",
    "num2 = float(input('Enter num2'))\n",
    "sum = num1 + num2"
   ]
  },
  {
   "cell_type": "code",
   "execution_count": 37,
   "id": "15ef2c8b-4d01-4d8d-b224-5244ab6283d9",
   "metadata": {},
   "outputs": [
    {
     "data": {
      "text/plain": [
       "17.0"
      ]
     },
     "execution_count": 37,
     "metadata": {},
     "output_type": "execute_result"
    }
   ],
   "source": [
    "sum"
   ]
  },
  {
   "cell_type": "code",
   "execution_count": 39,
   "id": "4f08c6ef-f26a-4144-910c-ab0aa508ecee",
   "metadata": {},
   "outputs": [
    {
     "name": "stdout",
     "output_type": "stream",
     "text": [
      "Total sum of num1 and num2 is: 17.0\n"
     ]
    }
   ],
   "source": [
    "print('Total sum of num1 and num2 is:', sum)"
   ]
  },
  {
   "cell_type": "code",
   "execution_count": 41,
   "id": "4efec5bd-9dc9-46a8-9ce5-cd0aa877bc03",
   "metadata": {},
   "outputs": [],
   "source": [
    "age,name = 30, 'Hello' "
   ]
  },
  {
   "cell_type": "code",
   "execution_count": 43,
   "id": "08eba8c1-0f68-4f74-b593-c91373ba7038",
   "metadata": {},
   "outputs": [
    {
     "data": {
      "text/plain": [
       "30"
      ]
     },
     "execution_count": 43,
     "metadata": {},
     "output_type": "execute_result"
    }
   ],
   "source": [
    "age"
   ]
  },
  {
   "cell_type": "code",
   "execution_count": 45,
   "id": "40e1ea9a-c710-407a-9bd3-763e46d92c0a",
   "metadata": {},
   "outputs": [
    {
     "data": {
      "text/plain": [
       "'Hello'"
      ]
     },
     "execution_count": 45,
     "metadata": {},
     "output_type": "execute_result"
    }
   ],
   "source": [
    "name"
   ]
  },
  {
   "cell_type": "code",
   "execution_count": 47,
   "id": "e9bde94e-69b8-4ee0-a89d-aaf5c5f33c4d",
   "metadata": {},
   "outputs": [
    {
     "data": {
      "text/plain": [
       "False"
      ]
     },
     "execution_count": 47,
     "metadata": {},
     "output_type": "execute_result"
    }
   ],
   "source": [
    "'Hello' == 'hello'"
   ]
  },
  {
   "cell_type": "code",
   "execution_count": 49,
   "id": "e43199e4-c9ce-4e4b-a3ae-85d0c6547759",
   "metadata": {},
   "outputs": [
    {
     "data": {
      "text/plain": [
       "True"
      ]
     },
     "execution_count": 49,
     "metadata": {},
     "output_type": "execute_result"
    }
   ],
   "source": [
    "'Hello' != 'hello'"
   ]
  },
  {
   "cell_type": "code",
   "execution_count": 51,
   "id": "9049c5f9-ad98-409e-be7c-8edc6cca6746",
   "metadata": {},
   "outputs": [],
   "source": [
    "age = 30\n",
    "Age = 30"
   ]
  },
  {
   "cell_type": "code",
   "execution_count": 53,
   "id": "d6feba2c-c5ef-4f6c-9b88-a5d8c483f146",
   "metadata": {},
   "outputs": [
    {
     "data": {
      "text/plain": [
       "True"
      ]
     },
     "execution_count": 53,
     "metadata": {},
     "output_type": "execute_result"
    }
   ],
   "source": [
    "age == Age"
   ]
  },
  {
   "cell_type": "code",
   "execution_count": 55,
   "id": "053ab085-08ca-4385-978a-72e014f48d91",
   "metadata": {},
   "outputs": [
    {
     "data": {
      "text/plain": [
       "False"
      ]
     },
     "execution_count": 55,
     "metadata": {},
     "output_type": "execute_result"
    }
   ],
   "source": [
    "'age' == 'Age'"
   ]
  },
  {
   "cell_type": "code",
   "execution_count": null,
   "id": "7b9ec831-efa4-4c86-a951-e6bf0c5cf606",
   "metadata": {},
   "outputs": [],
   "source": []
  }
 ],
 "metadata": {
  "kernelspec": {
   "display_name": "Python 3 (ipykernel)",
   "language": "python",
   "name": "python3"
  },
  "language_info": {
   "codemirror_mode": {
    "name": "ipython",
    "version": 3
   },
   "file_extension": ".py",
   "mimetype": "text/x-python",
   "name": "python",
   "nbconvert_exporter": "python",
   "pygments_lexer": "ipython3",
   "version": "3.12.4"
  }
 },
 "nbformat": 4,
 "nbformat_minor": 5
}

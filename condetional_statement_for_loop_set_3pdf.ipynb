{
 "cells": [
  {
   "cell_type": "code",
   "execution_count": 1,
   "id": "34ac7fee-fb18-4813-928f-4abc882a839d",
   "metadata": {},
   "outputs": [],
   "source": [
    "# Range Function"
   ]
  },
  {
   "cell_type": "code",
   "execution_count": 2,
   "id": "4dd1829c-f242-4afb-8aa3-8c28ce4b39ae",
   "metadata": {},
   "outputs": [
    {
     "data": {
      "text/plain": [
       "range(1, 10)"
      ]
     },
     "execution_count": 2,
     "metadata": {},
     "output_type": "execute_result"
    }
   ],
   "source": [
    "range(1,10)"
   ]
  },
  {
   "cell_type": "code",
   "execution_count": 3,
   "id": "a9fc47ad-5fdf-4a0b-a1d7-0ae976a7af09",
   "metadata": {},
   "outputs": [
    {
     "data": {
      "text/plain": [
       "[1, 2, 3, 4, 5, 6, 7, 8, 9]"
      ]
     },
     "execution_count": 3,
     "metadata": {},
     "output_type": "execute_result"
    }
   ],
   "source": [
    "list(range(1,10))"
   ]
  },
  {
   "cell_type": "code",
   "execution_count": 4,
   "id": "17ddbbd0-7ba6-4bd0-89da-04f62972a2eb",
   "metadata": {},
   "outputs": [
    {
     "data": {
      "text/plain": [
       "[1, 2, 3, 4, 5, 6, 7, 8, 9, 10]"
      ]
     },
     "execution_count": 4,
     "metadata": {},
     "output_type": "execute_result"
    }
   ],
   "source": [
    "list(range(1,11))"
   ]
  },
  {
   "cell_type": "code",
   "execution_count": 5,
   "id": "65cd7ee1-7f62-4191-b781-e55d24795b8c",
   "metadata": {},
   "outputs": [
    {
     "name": "stdout",
     "output_type": "stream",
     "text": [
      "1\n",
      "2\n",
      "3\n",
      "4\n",
      "5\n"
     ]
    }
   ],
   "source": [
    "for i in range(1,6):\n",
    "    print(i)"
   ]
  },
  {
   "cell_type": "code",
   "execution_count": 6,
   "id": "63502b80-90c7-40f9-aada-47dc51cf092a",
   "metadata": {},
   "outputs": [
    {
     "name": "stdout",
     "output_type": "stream",
     "text": [
      "0\n",
      "1\n",
      "2\n",
      "3\n",
      "4\n"
     ]
    }
   ],
   "source": [
    "for i in range(5): # 0 start and 5 end\n",
    "    print(i)"
   ]
  },
  {
   "cell_type": "code",
   "execution_count": 7,
   "id": "03f41398-f6cb-4a2b-960f-4e24539a88bd",
   "metadata": {},
   "outputs": [
    {
     "name": "stdout",
     "output_type": "stream",
     "text": [
      "1\n",
      "2\n",
      "3\n",
      "4\n",
      "5\n",
      "6\n",
      "7\n",
      "8\n",
      "9\n",
      "10\n",
      "11\n",
      "12\n",
      "13\n",
      "14\n",
      "15\n",
      "16\n",
      "17\n",
      "18\n",
      "19\n",
      "20\n"
     ]
    }
   ],
   "source": [
    "for i in range(1,21):\n",
    "    print(i)"
   ]
  },
  {
   "cell_type": "code",
   "execution_count": 9,
   "id": "92edda8f-444a-427b-8559-7dcd82c37dde",
   "metadata": {},
   "outputs": [
    {
     "name": "stdout",
     "output_type": "stream",
     "text": [
      "2\n",
      "4\n",
      "6\n",
      "8\n",
      "10\n",
      "12\n",
      "14\n",
      "16\n",
      "18\n",
      "20\n"
     ]
    }
   ],
   "source": [
    "for i in range(2,21,2):\n",
    "    print(i)"
   ]
  },
  {
   "cell_type": "code",
   "execution_count": 10,
   "id": "e0680047-6172-43ac-b940-73357499deb8",
   "metadata": {},
   "outputs": [
    {
     "name": "stdout",
     "output_type": "stream",
     "text": [
      "0\n",
      "1\n",
      "2\n",
      "3\n",
      "4\n"
     ]
    }
   ],
   "source": [
    "for i in range(5):\n",
    "    print(i)"
   ]
  },
  {
   "cell_type": "code",
   "execution_count": 11,
   "id": "17d94469-3941-4339-bfc6-39792f3b8ddf",
   "metadata": {},
   "outputs": [
    {
     "name": "stdout",
     "output_type": "stream",
     "text": [
      "*\n",
      "*\n",
      "*\n",
      "*\n",
      "*\n"
     ]
    }
   ],
   "source": [
    "for i in range(5):\n",
    "    print('*')"
   ]
  },
  {
   "cell_type": "code",
   "execution_count": 12,
   "id": "be553076-1dcf-4dfb-984b-8d853c47aa73",
   "metadata": {},
   "outputs": [
    {
     "name": "stdout",
     "output_type": "stream",
     "text": [
      "\n",
      ".\n",
      "..\n",
      "...\n",
      "....\n"
     ]
    }
   ],
   "source": [
    "for i in range(5):\n",
    "    print('.'  * i )"
   ]
  },
  {
   "cell_type": "code",
   "execution_count": 13,
   "id": "5c8c38e9-2925-4444-bffc-3d7df47eebd5",
   "metadata": {},
   "outputs": [
    {
     "name": "stdout",
     "output_type": "stream",
     "text": [
      "\n",
      ".\n",
      "..\n",
      "...\n",
      "....\n",
      ".....\n",
      "......\n",
      ".......\n",
      "........\n",
      ".........\n"
     ]
    }
   ],
   "source": [
    "for i in range(10):\n",
    "    print('.'  * i )"
   ]
  },
  {
   "cell_type": "code",
   "execution_count": 14,
   "id": "611cb65c-95a6-40f8-84c9-0a1b714b9dc8",
   "metadata": {},
   "outputs": [
    {
     "name": "stdout",
     "output_type": "stream",
     "text": [
      "5\n",
      "4\n",
      "3\n",
      "2\n",
      "1\n"
     ]
    }
   ],
   "source": [
    "for i in range(5,0,-1):\n",
    "    print(i)"
   ]
  },
  {
   "cell_type": "code",
   "execution_count": 15,
   "id": "42b7b975-37f7-4492-a0ca-d6655b400670",
   "metadata": {},
   "outputs": [
    {
     "name": "stdout",
     "output_type": "stream",
     "text": [
      ".....\n",
      "....\n",
      "...\n",
      "..\n",
      ".\n"
     ]
    }
   ],
   "source": [
    "for i in range(5,0,-1):\n",
    "    print('.' *  i)"
   ]
  },
  {
   "cell_type": "code",
   "execution_count": 16,
   "id": "35c1b8e1-de24-4040-afb0-a3baee2a3773",
   "metadata": {},
   "outputs": [
    {
     "name": "stdout",
     "output_type": "stream",
     "text": [
      "..........\n",
      ".........\n",
      "........\n",
      ".......\n",
      "......\n",
      ".....\n",
      "....\n",
      "...\n",
      "..\n",
      ".\n"
     ]
    }
   ],
   "source": [
    "for i in range(10,0,-1):\n",
    "    print('.' *  i)"
   ]
  },
  {
   "cell_type": "code",
   "execution_count": null,
   "id": "1204994a-8e3e-47b2-a16c-5c15e1149e3a",
   "metadata": {},
   "outputs": [],
   "source": []
  },
  {
   "cell_type": "code",
   "execution_count": null,
   "id": "b0a09267-4623-49a4-8dcd-fca6c57b9893",
   "metadata": {},
   "outputs": [],
   "source": [
    "2. Number Classification:\n",
    "o Take a number as input and print whether it is positive, negative, or zero."
   ]
  },
  {
   "cell_type": "code",
   "execution_count": 19,
   "id": "29eaf4fe-a0b6-4ee4-887a-9dc27679f72d",
   "metadata": {},
   "outputs": [
    {
     "name": "stdin",
     "output_type": "stream",
     "text": [
      " 7\n"
     ]
    },
    {
     "name": "stdout",
     "output_type": "stream",
     "text": [
      "Positive\n"
     ]
    }
   ],
   "source": [
    "num = int(input())\n",
    "if num > 0:\n",
    "    print('Positive')\n",
    "elif num < 0:\n",
    "    print('Negative')\n",
    "else:\n",
    "    print('Zero')"
   ]
  },
  {
   "cell_type": "code",
   "execution_count": null,
   "id": "160c43b6-908b-40fc-885a-6d90d9c5a843",
   "metadata": {},
   "outputs": [],
   "source": [
    "Leap Year Checker:\n",
    "o Write a program to check if a given year is a leap year. (Hint: A year is a leap\n",
    "year if it is divisible by 4 but not by 100, except when it’s also divisible by 400.)"
   ]
  },
  {
   "cell_type": "code",
   "execution_count": 54,
   "id": "fc884c95-18ea-4bc3-8adb-a45126e01c39",
   "metadata": {},
   "outputs": [
    {
     "name": "stdin",
     "output_type": "stream",
     "text": [
      " 2025\n"
     ]
    },
    {
     "name": "stdout",
     "output_type": "stream",
     "text": [
      "Not leap year\n"
     ]
    }
   ],
   "source": [
    "year = int(input())\n",
    "if year % 4 == 0 and year % 100 != 0:\n",
    "    print('Leap year')\n",
    "elif year % 400 == 0:\n",
    "    print('Leap ')\n",
    "else:\n",
    "    print('Not leap year')"
   ]
  },
  {
   "cell_type": "code",
   "execution_count": 56,
   "id": "a3504a34-a5f4-4efc-baa4-e9764155a2ad",
   "metadata": {},
   "outputs": [
    {
     "name": "stdin",
     "output_type": "stream",
     "text": [
      " 100\n",
      " 50\n",
      " 25\n"
     ]
    },
    {
     "name": "stdout",
     "output_type": "stream",
     "text": [
      "Number1 is maximum 100\n"
     ]
    }
   ],
   "source": [
    "num1 = int(input())\n",
    "num2 = int(input())\n",
    "num3 = int(input())\n",
    "\n",
    "if num1 > num2 and num1>num3:\n",
    "    print('Number1 is maximum', num1)\n",
    "elif num2 > num1 and num2 > num3:\n",
    "    print('Number 2 is greater', num2)\n",
    "else:\n",
    "    print('Number 3 is greater', num3)"
   ]
  },
  {
   "cell_type": "code",
   "execution_count": 57,
   "id": "0de769c9-e160-4658-b6fa-443d5b167629",
   "metadata": {},
   "outputs": [],
   "source": [
    "l = [1,2,3,4]"
   ]
  },
  {
   "cell_type": "code",
   "execution_count": 58,
   "id": "0a11e195-4efe-431c-9b10-7bc70534877a",
   "metadata": {},
   "outputs": [
    {
     "data": {
      "text/plain": [
       "4"
      ]
     },
     "execution_count": 58,
     "metadata": {},
     "output_type": "execute_result"
    }
   ],
   "source": [
    "max(l)"
   ]
  },
  {
   "cell_type": "code",
   "execution_count": null,
   "id": "c5599bfa-ed77-4a88-b0fe-2aa5ff5311eb",
   "metadata": {},
   "outputs": [],
   "source": [
    "6. Even or Odd:\n",
    "o Write a program that takes an integer input and checks if it is even or odd"
   ]
  },
  {
   "cell_type": "code",
   "execution_count": 60,
   "id": "998bb284-f253-4b6f-81f9-8ab6da4b2077",
   "metadata": {},
   "outputs": [
    {
     "name": "stdin",
     "output_type": "stream",
     "text": [
      " 6\n"
     ]
    },
    {
     "name": "stdout",
     "output_type": "stream",
     "text": [
      "Even number 6\n"
     ]
    }
   ],
   "source": [
    "num = int(input())\n",
    "if num % 2 == 0:\n",
    "    print('Even number', num)\n",
    "elif num % 2 != 0:\n",
    "    print('Odd number', num)\n",
    "else:\n",
    "    print('Wrong input')"
   ]
  },
  {
   "cell_type": "code",
   "execution_count": null,
   "id": "4019dd14-043a-48ef-939b-9e041f5b1cc5",
   "metadata": {},
   "outputs": [],
   "source": [
    "7. Login System:\n",
    "o Create a simple login system that asks for a username and password and checks if\n",
    "they match predefined values. Print “Login Successful” if correct, otherwise\n",
    "“Login Failed.”\n"
   ]
  },
  {
   "cell_type": "code",
   "execution_count": 62,
   "id": "b990bd06-19b4-4c61-9de1-e9bd187c80d7",
   "metadata": {},
   "outputs": [
    {
     "name": "stdin",
     "output_type": "stream",
     "text": [
      "Enter username admin\n",
      "Enter password helloworld\n"
     ]
    },
    {
     "name": "stdout",
     "output_type": "stream",
     "text": [
      "Log in Successful\n"
     ]
    }
   ],
   "source": [
    "username = input('Enter username')\n",
    "password = input('Enter password')\n",
    "\n",
    "if username == 'admin' and password == 'helloworld':\n",
    "    print('Log in Successful')\n",
    "else:\n",
    "    print('Login failed')"
   ]
  },
  {
   "cell_type": "code",
   "execution_count": null,
   "id": "fdb36d77-3791-48f6-8262-459263fac931",
   "metadata": {},
   "outputs": [],
   "source": [
    "1. Print Numbers from 1 to 10:\n",
    "o Write a program using a for loop to print numbers from 1 to 10"
   ]
  },
  {
   "cell_type": "code",
   "execution_count": 63,
   "id": "6b813537-6207-4bd2-b705-3237cbfe7807",
   "metadata": {},
   "outputs": [
    {
     "name": "stdout",
     "output_type": "stream",
     "text": [
      "1\n",
      "2\n",
      "3\n",
      "4\n",
      "5\n",
      "6\n",
      "7\n",
      "8\n",
      "9\n",
      "10\n"
     ]
    }
   ],
   "source": [
    "for i in range(1,11):\n",
    "    print(i)"
   ]
  },
  {
   "cell_type": "code",
   "execution_count": null,
   "id": "26be162c-c80c-480a-91b8-fe3821b8b350",
   "metadata": {},
   "outputs": [],
   "source": [
    "Print Each Character in a String:\n",
    "o Ask the user to enter a word and use a for loop to print each character in the word.\n",
    "o Example Input: Hello"
   ]
  },
  {
   "cell_type": "code",
   "execution_count": 64,
   "id": "4ddafc7d-7c99-46f8-b3fa-bebf0b62e1c0",
   "metadata": {},
   "outputs": [
    {
     "name": "stdin",
     "output_type": "stream",
     "text": [
      " Hello\n"
     ]
    },
    {
     "name": "stdout",
     "output_type": "stream",
     "text": [
      "H\n",
      "e\n",
      "l\n",
      "l\n",
      "o\n"
     ]
    }
   ],
   "source": [
    "name = input()\n",
    "for i in name:\n",
    "    print(i)"
   ]
  },
  {
   "cell_type": "code",
   "execution_count": null,
   "id": "cebb891d-389d-4578-b979-bb50ec4a4cfc",
   "metadata": {},
   "outputs": [],
   "source": [
    "Print Elements of a List:\n",
    "o Define a list of fruits ([\"apple\", \"banana\", \"cherry\", \"date\"]) and use a\n",
    "for loop to print each fruit in the list."
   ]
  },
  {
   "cell_type": "code",
   "execution_count": 65,
   "id": "efee49e5-cfe7-49f1-a1da-92e2b6c6684d",
   "metadata": {},
   "outputs": [
    {
     "name": "stdout",
     "output_type": "stream",
     "text": [
      "apple\n",
      "banana\n",
      "cherry\n",
      "date\n"
     ]
    }
   ],
   "source": [
    "fruits = [\"apple\", \"banana\", \"cherry\", \"date\"]\n",
    "for i in fruits:\n",
    "    print(i)"
   ]
  },
  {
   "cell_type": "code",
   "execution_count": 66,
   "id": "b712b2b8-715f-418e-b401-8e548a717aec",
   "metadata": {},
   "outputs": [
    {
     "name": "stdout",
     "output_type": "stream",
     "text": [
      "2\n",
      "4\n",
      "6\n",
      "8\n",
      "10\n"
     ]
    }
   ],
   "source": [
    "for i in range(1,11):\n",
    "    if i % 2 == 0:\n",
    "        print(i)"
   ]
  },
  {
   "cell_type": "code",
   "execution_count": 67,
   "id": "1e0fe2b7-ca8e-434c-9687-c29b948e638b",
   "metadata": {},
   "outputs": [
    {
     "name": "stdout",
     "output_type": "stream",
     "text": [
      "1\n",
      "3\n",
      "5\n",
      "7\n",
      "9\n"
     ]
    }
   ],
   "source": [
    "for i in range(1,11):\n",
    "    if i % 2 != 0:\n",
    "        print(i)"
   ]
  },
  {
   "cell_type": "code",
   "execution_count": null,
   "id": "7b3f2e07-d3e3-4e88-902a-286305297cb1",
   "metadata": {},
   "outputs": [],
   "source": [
    "Simple Sum of a List:\n",
    "o Write a program that calculates the sum of numbers in a list ([1, 2, 3, 4, 5])\n",
    "using a for loop.\n",
    "o Expected Output: 15"
   ]
  },
  {
   "cell_type": "code",
   "execution_count": 68,
   "id": "c1d7ae6d-5b6c-4240-86ed-9ea96afc5461",
   "metadata": {},
   "outputs": [],
   "source": [
    "l = [1, 2, 3, 4, 5]"
   ]
  },
  {
   "cell_type": "code",
   "execution_count": 69,
   "id": "bcc36bc3-7454-466a-8eef-70e89796a1bb",
   "metadata": {},
   "outputs": [],
   "source": [
    "total = 0\n",
    "for i in l:\n",
    "    total = total + i"
   ]
  },
  {
   "cell_type": "code",
   "execution_count": 70,
   "id": "2e5a717c-cba3-4de4-a005-1e6b241c50a9",
   "metadata": {},
   "outputs": [
    {
     "data": {
      "text/plain": [
       "15"
      ]
     },
     "execution_count": 70,
     "metadata": {},
     "output_type": "execute_result"
    }
   ],
   "source": [
    "total"
   ]
  },
  {
   "cell_type": "code",
   "execution_count": null,
   "id": "2c752070-7cc9-447d-98ca-970fc190269e",
   "metadata": {},
   "outputs": [],
   "source": [
    "7. Count Down from 5 to 1:\n",
    "o Use a for loop to print numbers in reverse from 5 to 1."
   ]
  },
  {
   "cell_type": "code",
   "execution_count": 71,
   "id": "e00c1ed5-ae7d-48b2-a2a2-6f152fa4d075",
   "metadata": {},
   "outputs": [
    {
     "name": "stdout",
     "output_type": "stream",
     "text": [
      "5\n",
      "4\n",
      "3\n",
      "2\n",
      "1\n"
     ]
    }
   ],
   "source": [
    "for i in range(5,0,-1):\n",
    "    print(i)"
   ]
  },
  {
   "cell_type": "code",
   "execution_count": null,
   "id": "53b06698-a297-4f2a-b8c7-c5e90b0cbf23",
   "metadata": {},
   "outputs": [],
   "source": [
    "8. Square Each Number in a List:\n",
    "o Given a list of numbers [1, 2, 3, 4, 5], use a for loop to print the square of\n",
    "each number."
   ]
  },
  {
   "cell_type": "code",
   "execution_count": 72,
   "id": "fb9bd8a0-82c9-4ba8-a64a-9cfef121501a",
   "metadata": {},
   "outputs": [
    {
     "name": "stdout",
     "output_type": "stream",
     "text": [
      "1\n",
      "4\n",
      "9\n",
      "16\n",
      "25\n"
     ]
    }
   ],
   "source": [
    "num = [1, 2, 3, 4, 5]\n",
    "for i in num:\n",
    "    print( i * i)"
   ]
  },
  {
   "cell_type": "code",
   "execution_count": null,
   "id": "2435d9a5-11e0-4429-9c08-a3bfd8c72d4e",
   "metadata": {},
   "outputs": [],
   "source": [
    "Repeat a Word Multiple Times:\n",
    "o Ask the user for a word and a number N. Use a for loop to print the word N times.\n",
    "o Example Input: word = \"Hi\", N = 3"
   ]
  },
  {
   "cell_type": "code",
   "execution_count": 73,
   "id": "3e3c5f6a-8d46-47b0-9fe6-96ef7acc714f",
   "metadata": {},
   "outputs": [
    {
     "name": "stdin",
     "output_type": "stream",
     "text": [
      " hello\n",
      " 5\n"
     ]
    },
    {
     "name": "stdout",
     "output_type": "stream",
     "text": [
      "hello\n",
      "hello\n",
      "hello\n",
      "hello\n",
      "hello\n"
     ]
    }
   ],
   "source": [
    "word = input()\n",
    "N = int(input())\n",
    "for i in range(N):\n",
    "    print(word)"
   ]
  },
  {
   "cell_type": "code",
   "execution_count": null,
   "id": "a012083f-879d-4dcb-afb6-5cbe3b44429d",
   "metadata": {},
   "outputs": [],
   "source": [
    "range(5q)"
   ]
  }
 ],
 "metadata": {
  "kernelspec": {
   "display_name": "Python 3 (ipykernel)",
   "language": "python",
   "name": "python3"
  },
  "language_info": {
   "codemirror_mode": {
    "name": "ipython",
    "version": 3
   },
   "file_extension": ".py",
   "mimetype": "text/x-python",
   "name": "python",
   "nbconvert_exporter": "python",
   "pygments_lexer": "ipython3",
   "version": "3.12.4"
  }
 },
 "nbformat": 4,
 "nbformat_minor": 5
}

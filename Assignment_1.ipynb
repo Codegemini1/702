{
 "cells": [
  {
   "cell_type": "markdown",
   "id": "0ec4c7d8-0608-4e2c-a22b-e67d0d9aab71",
   "metadata": {},
   "source": [
    " How would you convert one data type to another in Python? For example, an integer to a\n",
    "string."
   ]
  },
  {
   "cell_type": "code",
   "execution_count": 21,
   "id": "8fc4fe44-966f-42b4-8c13-42bd8ceed72a",
   "metadata": {},
   "outputs": [],
   "source": [
    "a = 5"
   ]
  },
  {
   "cell_type": "code",
   "execution_count": 23,
   "id": "4137030b-76fc-420e-8f14-4fee7b68b5d6",
   "metadata": {},
   "outputs": [
    {
     "data": {
      "text/plain": [
       "int"
      ]
     },
     "execution_count": 23,
     "metadata": {},
     "output_type": "execute_result"
    }
   ],
   "source": [
    "type(a)"
   ]
  },
  {
   "cell_type": "code",
   "execution_count": 25,
   "id": "3b0d3132-0e28-44c5-9983-7a903accd29c",
   "metadata": {},
   "outputs": [],
   "source": [
    "result = str(a)"
   ]
  },
  {
   "cell_type": "code",
   "execution_count": 27,
   "id": "4f385178-e245-406e-ba72-64335b179962",
   "metadata": {},
   "outputs": [
    {
     "data": {
      "text/plain": [
       "'5'"
      ]
     },
     "execution_count": 27,
     "metadata": {},
     "output_type": "execute_result"
    }
   ],
   "source": [
    "result"
   ]
  },
  {
   "cell_type": "code",
   "execution_count": 29,
   "id": "ab430bbf-6dd5-432c-a52f-db510787f417",
   "metadata": {},
   "outputs": [
    {
     "data": {
      "text/plain": [
       "str"
      ]
     },
     "execution_count": 29,
     "metadata": {},
     "output_type": "execute_result"
    }
   ],
   "source": [
    "type(result)"
   ]
  },
  {
   "cell_type": "raw",
   "id": "73bfb970-5d24-4667-b884-7efb1502931d",
   "metadata": {},
   "source": [
    " What is the difference between == and = in Python?"
   ]
  },
  {
   "cell_type": "code",
   "execution_count": 31,
   "id": "4a85fbdc-b2bd-4855-9547-e70fa5938a11",
   "metadata": {},
   "outputs": [
    {
     "data": {
      "text/plain": [
       "True"
      ]
     },
     "execution_count": 31,
     "metadata": {},
     "output_type": "execute_result"
    }
   ],
   "source": [
    "5 == 5 "
   ]
  },
  {
   "cell_type": "code",
   "execution_count": 33,
   "id": "7eb53903-24d4-4dd0-94cf-c4446fe7e98e",
   "metadata": {},
   "outputs": [],
   "source": [
    "a = 5"
   ]
  },
  {
   "cell_type": "code",
   "execution_count": 35,
   "id": "967ef96e-ee31-4a53-8ab8-1f6fea9e894a",
   "metadata": {},
   "outputs": [
    {
     "data": {
      "text/plain": [
       "5"
      ]
     },
     "execution_count": 35,
     "metadata": {},
     "output_type": "execute_result"
    }
   ],
   "source": [
    "a"
   ]
  },
  {
   "cell_type": "markdown",
   "id": "b37f822b-4361-47cf-86e2-306e7197cd8f",
   "metadata": {},
   "source": [
    "How does the modulus operator (%) work in Python?"
   ]
  },
  {
   "cell_type": "code",
   "execution_count": 38,
   "id": "aa6fdc89-4c0e-4d98-b27a-710d5f19e019",
   "metadata": {},
   "outputs": [
    {
     "data": {
      "text/plain": [
       "0"
      ]
     },
     "execution_count": 38,
     "metadata": {},
     "output_type": "execute_result"
    }
   ],
   "source": [
    "10 % 2"
   ]
  },
  {
   "cell_type": "code",
   "execution_count": 40,
   "id": "ba307bb7-a5c1-428c-97a9-7749282ca6d3",
   "metadata": {},
   "outputs": [
    {
     "data": {
      "text/plain": [
       "1"
      ]
     },
     "execution_count": 40,
     "metadata": {},
     "output_type": "execute_result"
    }
   ],
   "source": [
    "11 % 2"
   ]
  },
  {
   "cell_type": "code",
   "execution_count": 42,
   "id": "44b9ea18-2206-4212-9fb3-a48b3c3b88a0",
   "metadata": {},
   "outputs": [],
   "source": [
    "# We check remender in module"
   ]
  },
  {
   "cell_type": "code",
   "execution_count": 44,
   "id": "0cfbcd5a-0132-4574-9b03-645b9a0a994a",
   "metadata": {},
   "outputs": [
    {
     "data": {
      "text/plain": [
       "0"
      ]
     },
     "execution_count": 44,
     "metadata": {},
     "output_type": "execute_result"
    }
   ],
   "source": [
    "10 % 2"
   ]
  },
  {
   "cell_type": "code",
   "execution_count": 46,
   "id": "ae02591d-699a-4811-ace2-a04616e700d3",
   "metadata": {},
   "outputs": [
    {
     "data": {
      "text/plain": [
       "True"
      ]
     },
     "execution_count": 46,
     "metadata": {},
     "output_type": "execute_result"
    }
   ],
   "source": [
    "10 % 2 == 0 #Even number logic"
   ]
  },
  {
   "cell_type": "code",
   "execution_count": 48,
   "id": "4d2dd706-8885-40ce-a9e8-712725641030",
   "metadata": {},
   "outputs": [
    {
     "data": {
      "text/plain": [
       "False"
      ]
     },
     "execution_count": 48,
     "metadata": {},
     "output_type": "execute_result"
    }
   ],
   "source": [
    "10 % 2 != 0 #Odd number logic"
   ]
  },
  {
   "cell_type": "markdown",
   "id": "bcacaa1a-8e64-46f3-a2ef-f21304123a61",
   "metadata": {},
   "source": [
    "What is type casting, and why is it important in Python?"
   ]
  },
  {
   "cell_type": "raw",
   "id": "9b14eb84-6905-4be5-a277-5531ab609c4e",
   "metadata": {},
   "source": [
    "Conver one data type into another.\n",
    "Eg: int --> Str\n",
    "Eg: Str --> int\n",
    "Refer Question one for Code"
   ]
  },
  {
   "cell_type": "markdown",
   "id": "78ed1786-a0ed-47b8-84b2-578b15c3caa5",
   "metadata": {},
   "source": [
    "What will be the output of 3 * \"Hello\" in Python? Explain why"
   ]
  },
  {
   "cell_type": "raw",
   "id": "ba2d6ed2-3fba-46cb-a62f-7ed06be9567d",
   "metadata": {},
   "source": [
    "We will get 'Hello' string 3 times"
   ]
  },
  {
   "cell_type": "markdown",
   "id": "1f05ca2b-1a5e-4348-a0a1-2e70a1998ea0",
   "metadata": {},
   "source": [
    " What is string concatenation, and how would you do it in Python?"
   ]
  },
  {
   "cell_type": "code",
   "execution_count": 54,
   "id": "195d1273-fafe-4ae4-b13c-91496dc4f466",
   "metadata": {},
   "outputs": [],
   "source": [
    "first_name = 'Vaibhav'\n",
    "last_name = 'Bhosale'"
   ]
  },
  {
   "cell_type": "code",
   "execution_count": 56,
   "id": "31dc0ad1-8696-4f03-bb62-a0d9df070784",
   "metadata": {},
   "outputs": [
    {
     "data": {
      "text/plain": [
       "'VaibhavBhosale'"
      ]
     },
     "execution_count": 56,
     "metadata": {},
     "output_type": "execute_result"
    }
   ],
   "source": [
    "first_name + last_name"
   ]
  },
  {
   "cell_type": "code",
   "execution_count": 58,
   "id": "011f0ce2-aaa1-4c4d-9f7d-5d67154fae20",
   "metadata": {},
   "outputs": [
    {
     "data": {
      "text/plain": [
       "'Vaibhav Bhosale'"
      ]
     },
     "execution_count": 58,
     "metadata": {},
     "output_type": "execute_result"
    }
   ],
   "source": [
    "first_name + ' ' + last_name"
   ]
  },
  {
   "cell_type": "code",
   "execution_count": null,
   "id": "caa52bc8-30d8-4ab7-8e9d-031799f257b9",
   "metadata": {},
   "outputs": [],
   "source": []
  }
 ],
 "metadata": {
  "kernelspec": {
   "display_name": "Python 3 (ipykernel)",
   "language": "python",
   "name": "python3"
  },
  "language_info": {
   "codemirror_mode": {
    "name": "ipython",
    "version": 3
   },
   "file_extension": ".py",
   "mimetype": "text/x-python",
   "name": "python",
   "nbconvert_exporter": "python",
   "pygments_lexer": "ipython3",
   "version": "3.12.4"
  }
 },
 "nbformat": 4,
 "nbformat_minor": 5
}

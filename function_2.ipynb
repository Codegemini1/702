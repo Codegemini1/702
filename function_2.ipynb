{
 "cells": [
  {
   "cell_type": "code",
   "execution_count": 1,
   "id": "69ab05e9-ad4f-48c7-a121-8caf51e96932",
   "metadata": {},
   "outputs": [],
   "source": [
    "def test():\n",
    "    print('Hello')"
   ]
  },
  {
   "cell_type": "code",
   "execution_count": 2,
   "id": "f4816b72-8dc2-40a4-8235-9a7996493501",
   "metadata": {},
   "outputs": [
    {
     "name": "stdout",
     "output_type": "stream",
     "text": [
      "Hello\n"
     ]
    },
    {
     "data": {
      "text/plain": [
       "NoneType"
      ]
     },
     "execution_count": 2,
     "metadata": {},
     "output_type": "execute_result"
    }
   ],
   "source": [
    "type(test())"
   ]
  },
  {
   "cell_type": "code",
   "execution_count": 3,
   "id": "51a84c21-932c-4832-b85f-dca09db5930f",
   "metadata": {},
   "outputs": [
    {
     "name": "stdout",
     "output_type": "stream",
     "text": [
      "Hey\n"
     ]
    }
   ],
   "source": [
    "print('Hey')"
   ]
  },
  {
   "cell_type": "code",
   "execution_count": 4,
   "id": "45422681-2df9-4682-a07b-50aea2825458",
   "metadata": {},
   "outputs": [],
   "source": [
    "def test1(x):\n",
    "    for i in range(x):\n",
    "        print(i)"
   ]
  },
  {
   "cell_type": "code",
   "execution_count": 5,
   "id": "e01fe052-2fab-43a9-ab1a-86e55636691b",
   "metadata": {},
   "outputs": [
    {
     "name": "stdout",
     "output_type": "stream",
     "text": [
      "0\n",
      "1\n",
      "2\n",
      "3\n",
      "4\n"
     ]
    }
   ],
   "source": [
    "test1(5)"
   ]
  },
  {
   "cell_type": "code",
   "execution_count": 10,
   "id": "5eca93ea-a658-48e7-b244-dbfd9255f72e",
   "metadata": {},
   "outputs": [],
   "source": [
    "def test2(x):\n",
    "    l = [] #local variable\n",
    "    for i in range(x):\n",
    "        l.append(i)\n",
    "    return l"
   ]
  },
  {
   "cell_type": "code",
   "execution_count": 11,
   "id": "00357053-3028-4383-8fee-7b2dd80d6b9a",
   "metadata": {},
   "outputs": [
    {
     "data": {
      "text/plain": [
       "[0, 1, 2, 3, 4]"
      ]
     },
     "execution_count": 11,
     "metadata": {},
     "output_type": "execute_result"
    }
   ],
   "source": [
    "test2(5)"
   ]
  },
  {
   "cell_type": "code",
   "execution_count": 12,
   "id": "53848800-69c4-49d9-8e05-9283f0f7b286",
   "metadata": {},
   "outputs": [
    {
     "ename": "NameError",
     "evalue": "name 'l' is not defined",
     "output_type": "error",
     "traceback": [
      "\u001b[1;31m---------------------------------------------------------------------------\u001b[0m",
      "\u001b[1;31mNameError\u001b[0m                                 Traceback (most recent call last)",
      "Cell \u001b[1;32mIn[12], line 1\u001b[0m\n\u001b[1;32m----> 1\u001b[0m l\n",
      "\u001b[1;31mNameError\u001b[0m: name 'l' is not defined"
     ]
    }
   ],
   "source": [
    "l"
   ]
  },
  {
   "cell_type": "code",
   "execution_count": 13,
   "id": "54276ad6-d480-474d-b92c-a9c888bc2fb9",
   "metadata": {},
   "outputs": [],
   "source": [
    "k = [1,2,3]  #Global Variable"
   ]
  },
  {
   "cell_type": "code",
   "execution_count": 14,
   "id": "1a1a9c44-d9bb-4b09-ae28-7a73edaf2d7c",
   "metadata": {},
   "outputs": [
    {
     "data": {
      "text/plain": [
       "[1, 2, 3]"
      ]
     },
     "execution_count": 14,
     "metadata": {},
     "output_type": "execute_result"
    }
   ],
   "source": [
    "k"
   ]
  },
  {
   "cell_type": "code",
   "execution_count": 15,
   "id": "42a3f222-6e37-41cf-93fb-9e9a4ff55cce",
   "metadata": {},
   "outputs": [
    {
     "ename": "NameError",
     "evalue": "name 'l' is not defined",
     "output_type": "error",
     "traceback": [
      "\u001b[1;31m---------------------------------------------------------------------------\u001b[0m",
      "\u001b[1;31mNameError\u001b[0m                                 Traceback (most recent call last)",
      "Cell \u001b[1;32mIn[15], line 1\u001b[0m\n\u001b[1;32m----> 1\u001b[0m l\n",
      "\u001b[1;31mNameError\u001b[0m: name 'l' is not defined"
     ]
    }
   ],
   "source": [
    "l"
   ]
  },
  {
   "cell_type": "code",
   "execution_count": 22,
   "id": "2ef0cf06-5283-4e40-9024-6ae9cfdece2b",
   "metadata": {},
   "outputs": [],
   "source": [
    "# Checking out numbers is even or odd\n",
    "def even_odd(x):\n",
    "    '''This is function for checking number is even or odd.\n",
    "    This will return output as even or odd'''\n",
    "    if x % 2 == 0:\n",
    "        return x ,'is even number'\n",
    "    elif x % 2 != 0:\n",
    "        return x ,'is odd number'\n",
    "    else:\n",
    "        return 'something is wrong'"
   ]
  },
  {
   "cell_type": "code",
   "execution_count": 23,
   "id": "a5cfbf00-340b-4fa3-9454-a711a7e9e4e8",
   "metadata": {},
   "outputs": [
    {
     "data": {
      "text/plain": [
       "(4, 'is even number')"
      ]
     },
     "execution_count": 23,
     "metadata": {},
     "output_type": "execute_result"
    }
   ],
   "source": [
    "even_odd(4)"
   ]
  },
  {
   "cell_type": "code",
   "execution_count": 24,
   "id": "3935b902-7e7f-4e74-a7ea-ec7b0aa0ec3f",
   "metadata": {},
   "outputs": [],
   "source": [
    "# Function for filtering out int type of dataset\n",
    "def int_filter(x):\n",
    "    l = []\n",
    "    for i in x:\n",
    "        if type(i) == int:\n",
    "            l.append(i)\n",
    "    return l"
   ]
  },
  {
   "cell_type": "code",
   "execution_count": 25,
   "id": "9ecc235c-48f7-40ec-ba79-20a269f5f0cd",
   "metadata": {},
   "outputs": [
    {
     "data": {
      "text/plain": [
       "[1, 2, 30]"
      ]
     },
     "execution_count": 25,
     "metadata": {},
     "output_type": "execute_result"
    }
   ],
   "source": [
    "int_filter([1,1.5,2,30,True,\"Hello\"])"
   ]
  },
  {
   "cell_type": "code",
   "execution_count": 26,
   "id": "4f153c79-0371-4bdb-b6bb-bbc30b607e0c",
   "metadata": {},
   "outputs": [],
   "source": [
    "d = [1,2,3,1.1,1.2]"
   ]
  },
  {
   "cell_type": "code",
   "execution_count": 27,
   "id": "d933400a-cdef-49cf-ab56-531b9081a478",
   "metadata": {},
   "outputs": [
    {
     "data": {
      "text/plain": [
       "[1, 2, 3]"
      ]
     },
     "execution_count": 27,
     "metadata": {},
     "output_type": "execute_result"
    }
   ],
   "source": [
    "int_filter(d)"
   ]
  },
  {
   "cell_type": "code",
   "execution_count": 28,
   "id": "105a52e1-061d-42e5-855d-eea5468de8cb",
   "metadata": {},
   "outputs": [],
   "source": [
    "# String"
   ]
  },
  {
   "cell_type": "code",
   "execution_count": 30,
   "id": "1544615e-3663-4949-83af-d0b338df8827",
   "metadata": {},
   "outputs": [],
   "source": [
    "def string_filter(x):\n",
    "    l = []\n",
    "    for i in x:\n",
    "        if type(i) == str:\n",
    "            for letters in i:\n",
    "                l.append(letters)\n",
    "    return l"
   ]
  },
  {
   "cell_type": "code",
   "execution_count": 31,
   "id": "fe76c4ed-7b2a-4ef1-a9c6-92ed7764fbb8",
   "metadata": {},
   "outputs": [
    {
     "data": {
      "text/plain": [
       "['H', 'e', 'l', 'l', 'o', 'D', 'a', 't', 'a']"
      ]
     },
     "execution_count": 31,
     "metadata": {},
     "output_type": "execute_result"
    }
   ],
   "source": [
    "string_filter([10,2.4,'Hello', True, 'Data'])"
   ]
  },
  {
   "cell_type": "code",
   "execution_count": 29,
   "id": "dfced10a-ef7d-4f6d-aa8c-4fdf34cb3be0",
   "metadata": {},
   "outputs": [
    {
     "name": "stdout",
     "output_type": "stream",
     "text": [
      "H\n",
      "e\n",
      "l\n",
      "l\n",
      "o\n"
     ]
    }
   ],
   "source": [
    "for i in 'Hello':\n",
    "    print(i)"
   ]
  },
  {
   "cell_type": "code",
   "execution_count": 32,
   "id": "6e6d761a-cff7-4b94-b249-e765069d23a7",
   "metadata": {},
   "outputs": [],
   "source": [
    "# Nested list dataset"
   ]
  },
  {
   "cell_type": "code",
   "execution_count": 33,
   "id": "798b6f84-f503-4b5d-aaf5-e2154cb93eca",
   "metadata": {},
   "outputs": [],
   "source": [
    "def nested_data(x):\n",
    "    l = []\n",
    "    for i in x:\n",
    "        if type(i) == list:\n",
    "            for data in i:\n",
    "                l.append(data)\n",
    "    return l"
   ]
  },
  {
   "cell_type": "code",
   "execution_count": 34,
   "id": "fc346a3d-cefa-48ad-bd96-686b5125ccd9",
   "metadata": {},
   "outputs": [
    {
     "data": {
      "text/plain": [
       "[1, True, 'Hello']"
      ]
     },
     "execution_count": 34,
     "metadata": {},
     "output_type": "execute_result"
    }
   ],
   "source": [
    "nested_data([1,2,3,[1,True,'Hello'], 32,43])"
   ]
  },
  {
   "cell_type": "code",
   "execution_count": 35,
   "id": "e29681ea-4d3a-4563-bef7-a8d0c32ecd81",
   "metadata": {},
   "outputs": [],
   "source": [
    "def test3(x):\n",
    "    l = []\n",
    "    for i in x:\n",
    "        if type(i) == int:\n",
    "            l.append(i)\n",
    "        elif type(i) == list:\n",
    "            for data in i:\n",
    "                if type(data) == int:\n",
    "                    l.append(data)\n",
    "    return l"
   ]
  },
  {
   "cell_type": "code",
   "execution_count": 36,
   "id": "ddba91b8-0c95-4ef1-97ed-6c9eab65b2b7",
   "metadata": {},
   "outputs": [
    {
     "data": {
      "text/plain": [
       "[1, 2, 3, 1, 32, 43]"
      ]
     },
     "execution_count": 36,
     "metadata": {},
     "output_type": "execute_result"
    }
   ],
   "source": [
    "test3([1,2,3,[1,True,'Hello'], 32,43])"
   ]
  },
  {
   "cell_type": "code",
   "execution_count": 37,
   "id": "04d6a0d8-56e3-4334-946c-15abe2c0b72c",
   "metadata": {},
   "outputs": [],
   "source": [
    "# Square of number"
   ]
  },
  {
   "cell_type": "code",
   "execution_count": 38,
   "id": "4f1980a1-5492-4028-b9bd-6f79391ecc89",
   "metadata": {},
   "outputs": [],
   "source": [
    "def square_num(x):\n",
    "    result = x * x # x ** 2\n",
    "    return result"
   ]
  },
  {
   "cell_type": "code",
   "execution_count": 39,
   "id": "4f118c5a-ab98-4fba-8a74-317a24f79dcb",
   "metadata": {},
   "outputs": [
    {
     "data": {
      "text/plain": [
       "64"
      ]
     },
     "execution_count": 39,
     "metadata": {},
     "output_type": "execute_result"
    }
   ],
   "source": [
    "square_num(8)"
   ]
  },
  {
   "cell_type": "code",
   "execution_count": 40,
   "id": "daf87808-05b1-46e4-a922-c1d0358daef6",
   "metadata": {},
   "outputs": [
    {
     "data": {
      "text/plain": [
       "116964"
      ]
     },
     "execution_count": 40,
     "metadata": {},
     "output_type": "execute_result"
    }
   ],
   "source": [
    "square_num(342)"
   ]
  },
  {
   "cell_type": "code",
   "execution_count": 41,
   "id": "f67a52f7-8301-4574-a0a5-f1bb8fc455f0",
   "metadata": {},
   "outputs": [],
   "source": [
    "def cube_num(x):\n",
    "    result = x ** 3\n",
    "    return result"
   ]
  },
  {
   "cell_type": "code",
   "execution_count": 42,
   "id": "77573755-14b9-42d7-bcf7-e54d2b1acfc2",
   "metadata": {},
   "outputs": [
    {
     "data": {
      "text/plain": [
       "27"
      ]
     },
     "execution_count": 42,
     "metadata": {},
     "output_type": "execute_result"
    }
   ],
   "source": [
    "cube_num(3)"
   ]
  },
  {
   "cell_type": "code",
   "execution_count": 43,
   "id": "a7b3e2ba-0875-4804-b670-2c61bcf8532e",
   "metadata": {},
   "outputs": [
    {
     "data": {
      "text/plain": [
       "8"
      ]
     },
     "execution_count": 43,
     "metadata": {},
     "output_type": "execute_result"
    }
   ],
   "source": [
    "cube_num(2)"
   ]
  },
  {
   "cell_type": "code",
   "execution_count": 44,
   "id": "3589a77d-a39b-43e2-9045-d0f42761966b",
   "metadata": {},
   "outputs": [],
   "source": [
    "# Args kwargs"
   ]
  },
  {
   "cell_type": "code",
   "execution_count": null,
   "id": "a362802f-ac95-4833-9b29-e8ad649805a5",
   "metadata": {},
   "outputs": [],
   "source": []
  }
 ],
 "metadata": {
  "kernelspec": {
   "display_name": "Python 3 (ipykernel)",
   "language": "python",
   "name": "python3"
  },
  "language_info": {
   "codemirror_mode": {
    "name": "ipython",
    "version": 3
   },
   "file_extension": ".py",
   "mimetype": "text/x-python",
   "name": "python",
   "nbconvert_exporter": "python",
   "pygments_lexer": "ipython3",
   "version": "3.12.4"
  }
 },
 "nbformat": 4,
 "nbformat_minor": 5
}

{
 "cells": [
  {
   "cell_type": "markdown",
   "id": "8d24a8bd-b88a-41ee-bad4-0c64341e5246",
   "metadata": {},
   "source": [
    "# First Day"
   ]
  },
  {
   "cell_type": "markdown",
   "id": "e01a66dd-8db7-4868-976e-abd2b07612d3",
   "metadata": {},
   "source": [
    "Today I am going to learn python"
   ]
  },
  {
   "cell_type": "raw",
   "id": "c58e39a9-0f46-4ff0-8fd0-6c265eb894f4",
   "metadata": {},
   "source": [
    "Raw work \n",
    "x --> 73\n",
    "d --> \n"
   ]
  },
  {
   "cell_type": "code",
   "execution_count": 8,
   "id": "c905c22a-72e9-49d3-8ee9-a5e062d2e6ef",
   "metadata": {},
   "outputs": [
    {
     "data": {
      "text/plain": [
       "15"
      ]
     },
     "execution_count": 8,
     "metadata": {},
     "output_type": "execute_result"
    }
   ],
   "source": [
    "10 + 5"
   ]
  },
  {
   "cell_type": "code",
   "execution_count": 10,
   "id": "b60ec684-4847-4e50-9f19-b1b8bf647576",
   "metadata": {},
   "outputs": [
    {
     "data": {
      "text/plain": [
       "50"
      ]
     },
     "execution_count": 10,
     "metadata": {},
     "output_type": "execute_result"
    }
   ],
   "source": [
    "10 * 5"
   ]
  },
  {
   "cell_type": "markdown",
   "id": "fd106914-656b-4064-9284-b8add2c41129",
   "metadata": {},
   "source": [
    "# What is python & Why python is used for data analysis or Science ?"
   ]
  },
  {
   "cell_type": "code",
   "execution_count": 13,
   "id": "0c72a1e5-a271-41af-b5a6-86069113fe05",
   "metadata": {},
   "outputs": [],
   "source": [
    "import numpy as np"
   ]
  },
  {
   "cell_type": "code",
   "execution_count": 15,
   "id": "6ecb0b67-b1ea-4160-81b0-7936f7daeee6",
   "metadata": {},
   "outputs": [
    {
     "data": {
      "text/plain": [
       "55.5"
      ]
     },
     "execution_count": 15,
     "metadata": {},
     "output_type": "execute_result"
    }
   ],
   "source": [
    "np.mean([12,65,89,56])"
   ]
  },
  {
   "cell_type": "markdown",
   "id": "46796fb0-61b2-464a-b310-01307932f723",
   "metadata": {},
   "source": [
    "# Data Types in Python"
   ]
  },
  {
   "cell_type": "markdown",
   "id": "0c8de216-5a98-440d-b05f-74f6b0086442",
   "metadata": {},
   "source": [
    "# Int "
   ]
  },
  {
   "cell_type": "raw",
   "id": "dd6bb4b8-df74-48c7-954f-14cd2e8d3ab3",
   "metadata": {},
   "source": [
    "Complete Number\n",
    "Eg: No family members\n",
    "--> 5,7,2,6\n",
    "\n",
    "Eg: No of bank account\n",
    "-->1,3,2"
   ]
  },
  {
   "cell_type": "code",
   "execution_count": 19,
   "id": "ebe23801-50ef-4e9c-88da-21f59fdf7005",
   "metadata": {},
   "outputs": [
    {
     "data": {
      "text/plain": [
       "3"
      ]
     },
     "execution_count": 19,
     "metadata": {},
     "output_type": "execute_result"
    }
   ],
   "source": [
    "3"
   ]
  },
  {
   "cell_type": "code",
   "execution_count": 21,
   "id": "ee40cb2e-34de-4c4b-843a-a4ebef7f09d8",
   "metadata": {},
   "outputs": [
    {
     "data": {
      "text/plain": [
       "int"
      ]
     },
     "execution_count": 21,
     "metadata": {},
     "output_type": "execute_result"
    }
   ],
   "source": [
    "type(3)"
   ]
  },
  {
   "cell_type": "code",
   "execution_count": 23,
   "id": "41542d48-93bc-4ac6-a3bc-c382c17e11c7",
   "metadata": {},
   "outputs": [
    {
     "data": {
      "text/plain": [
       "int"
      ]
     },
     "execution_count": 23,
     "metadata": {},
     "output_type": "execute_result"
    }
   ],
   "source": [
    "type(6)"
   ]
  },
  {
   "cell_type": "raw",
   "id": "c899246d-8b2a-40d1-bd36-edcda8519c7f",
   "metadata": {},
   "source": [
    "# Float \n",
    "Values in decimal format\n",
    "\n",
    "Eg: Height\n",
    "--> 5.5, 6.4\n",
    "\n",
    "Eg: Weight\n",
    "--> 60.320, 55.450"
   ]
  },
  {
   "cell_type": "code",
   "execution_count": 25,
   "id": "5de74c79-a166-4f42-8186-987b36113059",
   "metadata": {},
   "outputs": [
    {
     "data": {
      "text/plain": [
       "5.5"
      ]
     },
     "execution_count": 25,
     "metadata": {},
     "output_type": "execute_result"
    }
   ],
   "source": [
    "5.5"
   ]
  },
  {
   "cell_type": "code",
   "execution_count": 27,
   "id": "3de746cd-aa80-4020-8821-9d406d0b8d2d",
   "metadata": {},
   "outputs": [
    {
     "data": {
      "text/plain": [
       "float"
      ]
     },
     "execution_count": 27,
     "metadata": {},
     "output_type": "execute_result"
    }
   ],
   "source": [
    "type(5.5)"
   ]
  },
  {
   "cell_type": "code",
   "execution_count": 29,
   "id": "8dba24db-4e0d-49ea-96aa-fed91a6d5fc8",
   "metadata": {},
   "outputs": [
    {
     "data": {
      "text/plain": [
       "float"
      ]
     },
     "execution_count": 29,
     "metadata": {},
     "output_type": "execute_result"
    }
   ],
   "source": [
    "type(60.300)"
   ]
  },
  {
   "cell_type": "raw",
   "id": "3d4f6cb2-5c54-4060-91d9-b0ef5cc1006c",
   "metadata": {},
   "source": [
    "# Complex Number\n",
    "Vector Values\n",
    "\n",
    "Eg: 3+5j\n"
   ]
  },
  {
   "cell_type": "code",
   "execution_count": 31,
   "id": "70b24a4c-9910-4247-9fce-3ef806de1a61",
   "metadata": {},
   "outputs": [
    {
     "data": {
      "text/plain": [
       "complex"
      ]
     },
     "execution_count": 31,
     "metadata": {},
     "output_type": "execute_result"
    }
   ],
   "source": [
    "type(3+5j)"
   ]
  },
  {
   "cell_type": "code",
   "execution_count": 37,
   "id": "f043a746-28e3-4570-af61-85c0f080824c",
   "metadata": {},
   "outputs": [
    {
     "data": {
      "text/plain": [
       "complex"
      ]
     },
     "execution_count": 37,
     "metadata": {},
     "output_type": "execute_result"
    }
   ],
   "source": [
    "type(5+1j)"
   ]
  },
  {
   "cell_type": "markdown",
   "id": "85f5713a-8c5a-4cd5-895e-309f853b658a",
   "metadata": {},
   "source": [
    "# String \n",
    "For writing down Words, letters, Sentences"
   ]
  },
  {
   "cell_type": "code",
   "execution_count": 40,
   "id": "ef17ee43-4eac-4908-91b4-8a64361cd118",
   "metadata": {},
   "outputs": [
    {
     "data": {
      "text/plain": [
       "'Hello'"
      ]
     },
     "execution_count": 40,
     "metadata": {},
     "output_type": "execute_result"
    }
   ],
   "source": [
    "'Hello'"
   ]
  },
  {
   "cell_type": "code",
   "execution_count": 50,
   "id": "0819b11b-ae19-4eef-9cb3-ecc51fbd48cc",
   "metadata": {},
   "outputs": [
    {
     "name": "stdout",
     "output_type": "stream",
     "text": [
      "Hello\n"
     ]
    }
   ],
   "source": [
    "print('Hello')"
   ]
  },
  {
   "cell_type": "code",
   "execution_count": 42,
   "id": "4be95491-f3e3-4e13-aa80-0fb96f96f94e",
   "metadata": {},
   "outputs": [
    {
     "data": {
      "text/plain": [
       "'Hello'"
      ]
     },
     "execution_count": 42,
     "metadata": {},
     "output_type": "execute_result"
    }
   ],
   "source": [
    "\"Hello\""
   ]
  },
  {
   "cell_type": "code",
   "execution_count": 44,
   "id": "c11dcce4-02f1-4a95-815d-9fd311df571a",
   "metadata": {},
   "outputs": [
    {
     "ename": "SyntaxError",
     "evalue": "unterminated string literal (detected at line 1) (622898148.py, line 1)",
     "output_type": "error",
     "traceback": [
      "\u001b[1;36m  Cell \u001b[1;32mIn[44], line 1\u001b[1;36m\u001b[0m\n\u001b[1;33m    'line1\u001b[0m\n\u001b[1;37m    ^\u001b[0m\n\u001b[1;31mSyntaxError\u001b[0m\u001b[1;31m:\u001b[0m unterminated string literal (detected at line 1)\n"
     ]
    }
   ],
   "source": [
    "'line1\n",
    "line2\n",
    "line3'"
   ]
  },
  {
   "cell_type": "code",
   "execution_count": 46,
   "id": "e15a91e6-f2ca-4b5c-a489-a4ae7c5bf951",
   "metadata": {},
   "outputs": [
    {
     "data": {
      "text/plain": [
       "'\\nline1\\nline2\\nline3\\n'"
      ]
     },
     "execution_count": 46,
     "metadata": {},
     "output_type": "execute_result"
    }
   ],
   "source": [
    "'''\n",
    "line1\n",
    "line2\n",
    "line3\n",
    "'''"
   ]
  },
  {
   "cell_type": "code",
   "execution_count": 48,
   "id": "d8ed9fd1-5aa9-4f89-af65-8e5e8942b2a9",
   "metadata": {},
   "outputs": [
    {
     "name": "stdout",
     "output_type": "stream",
     "text": [
      "\n",
      "line1\n",
      "line2\n",
      "line3\n",
      "\n"
     ]
    }
   ],
   "source": [
    "print('''\n",
    "line1\n",
    "line2\n",
    "line3\n",
    "''')"
   ]
  },
  {
   "cell_type": "markdown",
   "id": "dd13a3c3-54e3-4f7c-bc5b-3c953da9f227",
   "metadata": {},
   "source": [
    "# Boolean Values"
   ]
  },
  {
   "cell_type": "markdown",
   "id": "63061baa-16c1-414a-a87d-d26c347e7947",
   "metadata": {},
   "source": [
    "True or False"
   ]
  },
  {
   "cell_type": "code",
   "execution_count": 54,
   "id": "9daf955a-a82e-4997-b944-e8e6443c7048",
   "metadata": {},
   "outputs": [
    {
     "data": {
      "text/plain": [
       "False"
      ]
     },
     "execution_count": 54,
     "metadata": {},
     "output_type": "execute_result"
    }
   ],
   "source": [
    "'i' in 'Hello'"
   ]
  },
  {
   "cell_type": "code",
   "execution_count": 56,
   "id": "277072cc-b9fd-43ad-8846-49a92ea241af",
   "metadata": {},
   "outputs": [
    {
     "data": {
      "text/plain": [
       "True"
      ]
     },
     "execution_count": 56,
     "metadata": {},
     "output_type": "execute_result"
    }
   ],
   "source": [
    "'e' in 'Hello'"
   ]
  },
  {
   "cell_type": "code",
   "execution_count": 58,
   "id": "69ab2417-31ac-4d57-b119-fc13306bf88c",
   "metadata": {},
   "outputs": [
    {
     "data": {
      "text/plain": [
       "True"
      ]
     },
     "execution_count": 58,
     "metadata": {},
     "output_type": "execute_result"
    }
   ],
   "source": [
    "5 > 2"
   ]
  },
  {
   "cell_type": "code",
   "execution_count": 60,
   "id": "e482f8e6-6366-4232-87df-ba4132054a77",
   "metadata": {},
   "outputs": [
    {
     "data": {
      "text/plain": [
       "True"
      ]
     },
     "execution_count": 60,
     "metadata": {},
     "output_type": "execute_result"
    }
   ],
   "source": [
    "10 < 100"
   ]
  },
  {
   "cell_type": "code",
   "execution_count": 62,
   "id": "97d5031c-0895-4d88-a1b3-70254372ef20",
   "metadata": {},
   "outputs": [
    {
     "data": {
      "text/plain": [
       "False"
      ]
     },
     "execution_count": 62,
     "metadata": {},
     "output_type": "execute_result"
    }
   ],
   "source": [
    "10 > 100"
   ]
  },
  {
   "cell_type": "code",
   "execution_count": null,
   "id": "4af0cfa6-af15-45fb-b2d7-7c1157bbcda2",
   "metadata": {},
   "outputs": [],
   "source": [
    "What is python?\n",
    "Why python is used for data science / Analyis ?\n",
    "Data types in python ?"
   ]
  }
 ],
 "metadata": {
  "kernelspec": {
   "display_name": "Python 3 (ipykernel)",
   "language": "python",
   "name": "python3"
  },
  "language_info": {
   "codemirror_mode": {
    "name": "ipython",
    "version": 3
   },
   "file_extension": ".py",
   "mimetype": "text/x-python",
   "name": "python",
   "nbconvert_exporter": "python",
   "pygments_lexer": "ipython3",
   "version": "3.12.4"
  }
 },
 "nbformat": 4,
 "nbformat_minor": 5
}

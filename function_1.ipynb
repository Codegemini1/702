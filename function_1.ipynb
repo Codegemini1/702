{
 "cells": [
  {
   "cell_type": "code",
   "execution_count": 5,
   "id": "9a19af3d-b7d7-4ec7-9d1e-ecf8acbd0b5b",
   "metadata": {},
   "outputs": [],
   "source": [
    "l = [1,2,3,[10,20,30,4.5],4,5]"
   ]
  },
  {
   "cell_type": "code",
   "execution_count": 6,
   "id": "fb1cb6c6-0029-4f00-98a4-c383a8ff8df9",
   "metadata": {},
   "outputs": [
    {
     "name": "stdout",
     "output_type": "stream",
     "text": [
      "10\n",
      "20\n",
      "30\n",
      "4.5\n"
     ]
    }
   ],
   "source": [
    "for i in l:\n",
    "   if type(i) == list:\n",
    "       for num in i:\n",
    "           print(num)"
   ]
  },
  {
   "cell_type": "code",
   "execution_count": 12,
   "id": "6473b51a-c891-4bda-9815-11d3b73a3391",
   "metadata": {},
   "outputs": [],
   "source": [
    "l1 = []\n",
    "for i in l:\n",
    "   if type(i) == list:\n",
    "       for num in i:\n",
    "           l1.append(num)"
   ]
  },
  {
   "cell_type": "code",
   "execution_count": 13,
   "id": "34b74c52-c108-4a3d-a2dd-0d17b3ba3171",
   "metadata": {},
   "outputs": [
    {
     "data": {
      "text/plain": [
       "[10, 20, 30, 4.5]"
      ]
     },
     "execution_count": 13,
     "metadata": {},
     "output_type": "execute_result"
    }
   ],
   "source": [
    "l1"
   ]
  },
  {
   "cell_type": "code",
   "execution_count": 9,
   "id": "392fa82b-1a3d-48d9-a3e9-d21fe7ecf669",
   "metadata": {},
   "outputs": [
    {
     "name": "stdout",
     "output_type": "stream",
     "text": [
      "1\n",
      "2\n",
      "3\n",
      "10\n",
      "20\n",
      "30\n",
      "4\n",
      "5\n"
     ]
    }
   ],
   "source": [
    "for i in l:\n",
    "    if type(i) == int:\n",
    "        print(i)\n",
    "    elif type(i) == list:\n",
    "        for num in i:\n",
    "            if type(num) == int:\n",
    "                print(num)"
   ]
  },
  {
   "cell_type": "code",
   "execution_count": 14,
   "id": "26c4011e-85eb-40a2-a7cd-06e2462441e9",
   "metadata": {},
   "outputs": [
    {
     "data": {
      "text/plain": [
       "[1, 2, 3, [10, 20, 30, 4.5], 4, 5]"
      ]
     },
     "execution_count": 14,
     "metadata": {},
     "output_type": "execute_result"
    }
   ],
   "source": [
    "l"
   ]
  },
  {
   "cell_type": "code",
   "execution_count": 15,
   "id": "32c23c5a-8e8b-4c79-8d71-67fdc9bb36c6",
   "metadata": {},
   "outputs": [
    {
     "data": {
      "text/plain": [
       "6"
      ]
     },
     "execution_count": 15,
     "metadata": {},
     "output_type": "execute_result"
    }
   ],
   "source": [
    "len(l)"
   ]
  },
  {
   "cell_type": "markdown",
   "id": "e4568c14-91b4-47d0-ad89-d9fa2160acaa",
   "metadata": {},
   "source": [
    "# Function"
   ]
  },
  {
   "cell_type": "code",
   "execution_count": 16,
   "id": "a98011f9-8d1a-4cc7-a043-3891f7accde5",
   "metadata": {},
   "outputs": [],
   "source": [
    "def test():\n",
    "    print('This is test funcion')"
   ]
  },
  {
   "cell_type": "code",
   "execution_count": 17,
   "id": "33c45c38-6977-46df-8c9d-351e75475e3c",
   "metadata": {},
   "outputs": [
    {
     "name": "stdout",
     "output_type": "stream",
     "text": [
      "This is test funcion\n"
     ]
    }
   ],
   "source": [
    "test()"
   ]
  },
  {
   "cell_type": "code",
   "execution_count": 18,
   "id": "a9fcb010-773b-4e93-94ad-469e4e551225",
   "metadata": {},
   "outputs": [
    {
     "name": "stdout",
     "output_type": "stream",
     "text": [
      "This is test funcion\n"
     ]
    }
   ],
   "source": [
    "test()"
   ]
  },
  {
   "cell_type": "code",
   "execution_count": 19,
   "id": "cc695a91-2e99-44a9-a8ca-2feefc3f5b8e",
   "metadata": {},
   "outputs": [],
   "source": [
    "def test1():\n",
    "    print('Test2 function')"
   ]
  },
  {
   "cell_type": "code",
   "execution_count": 20,
   "id": "0bc403cc-032d-4745-b47e-1e3a519d223f",
   "metadata": {},
   "outputs": [
    {
     "name": "stdout",
     "output_type": "stream",
     "text": [
      "Test2 function\n"
     ]
    }
   ],
   "source": [
    "test1()"
   ]
  },
  {
   "cell_type": "code",
   "execution_count": 23,
   "id": "aefa7bab-8c24-4e3d-ba50-de515f271f01",
   "metadata": {},
   "outputs": [],
   "source": [
    "def test2(x):\n",
    "    if x > 5:\n",
    "        print('Greater than 5', x)\n",
    "    else:\n",
    "        print('Not greater than 5')"
   ]
  },
  {
   "cell_type": "code",
   "execution_count": 24,
   "id": "457a19d5-97e0-48a0-bb82-6769b52e0525",
   "metadata": {},
   "outputs": [
    {
     "name": "stdout",
     "output_type": "stream",
     "text": [
      "Greater than 5 10\n"
     ]
    }
   ],
   "source": [
    "test2(10)"
   ]
  },
  {
   "cell_type": "code",
   "execution_count": 25,
   "id": "f4864aef-d6d8-446c-b2b5-6095b34b5caa",
   "metadata": {},
   "outputs": [
    {
     "name": "stdout",
     "output_type": "stream",
     "text": [
      "Not greater than 5\n"
     ]
    }
   ],
   "source": [
    "test2(1)"
   ]
  },
  {
   "cell_type": "code",
   "execution_count": 26,
   "id": "39b636c4-2daa-47ac-a265-a9427c078739",
   "metadata": {},
   "outputs": [],
   "source": [
    "# Description of function"
   ]
  },
  {
   "cell_type": "code",
   "execution_count": 27,
   "id": "2b908392-4ef8-4cd3-b410-ae4c92fb1ac5",
   "metadata": {},
   "outputs": [],
   "source": [
    "def test3(x):\n",
    "    \"\"\"This is test3 function.\n",
    "    This test3 function will find out x is even or odd.\"\"\"\n",
    "    if x % 2 == 0:\n",
    "        print(x,':is even number')\n",
    "    else:\n",
    "        print(x,'is odd number')"
   ]
  },
  {
   "cell_type": "code",
   "execution_count": 30,
   "id": "cad0b402-4360-4072-94f6-f6555fb620df",
   "metadata": {},
   "outputs": [
    {
     "name": "stdout",
     "output_type": "stream",
     "text": [
      "20 :is even number\n"
     ]
    }
   ],
   "source": [
    "test3(20)"
   ]
  },
  {
   "cell_type": "code",
   "execution_count": 31,
   "id": "ff5ca86d-b1e1-4611-88bf-74b9862ee66c",
   "metadata": {},
   "outputs": [
    {
     "name": "stdout",
     "output_type": "stream",
     "text": [
      "3 is odd number\n"
     ]
    }
   ],
   "source": [
    "test3(3)"
   ]
  },
  {
   "cell_type": "code",
   "execution_count": 32,
   "id": "de56190a-f214-4a3d-b3e6-753b32b715d3",
   "metadata": {},
   "outputs": [],
   "source": [
    "# Return "
   ]
  },
  {
   "cell_type": "code",
   "execution_count": 33,
   "id": "d898eae2-d31c-4f27-9550-b46cf7c02ee8",
   "metadata": {},
   "outputs": [],
   "source": [
    "def test4(x):\n",
    "    print(x)"
   ]
  },
  {
   "cell_type": "code",
   "execution_count": 34,
   "id": "6f111e35-eca2-4027-aecd-16473554492a",
   "metadata": {},
   "outputs": [
    {
     "name": "stdout",
     "output_type": "stream",
     "text": [
      "10\n"
     ]
    }
   ],
   "source": [
    "test4(10)"
   ]
  },
  {
   "cell_type": "code",
   "execution_count": 35,
   "id": "afc77bce-ef82-43c7-ba6f-0eaa43635526",
   "metadata": {},
   "outputs": [
    {
     "name": "stdout",
     "output_type": "stream",
     "text": [
      "10\n"
     ]
    },
    {
     "data": {
      "text/plain": [
       "NoneType"
      ]
     },
     "execution_count": 35,
     "metadata": {},
     "output_type": "execute_result"
    }
   ],
   "source": [
    "type(test4(10))"
   ]
  },
  {
   "cell_type": "code",
   "execution_count": 36,
   "id": "128273c4-9bbd-4433-aa15-e4a1ca67ecef",
   "metadata": {},
   "outputs": [],
   "source": [
    "def test5(x):\n",
    "    return x"
   ]
  },
  {
   "cell_type": "code",
   "execution_count": 37,
   "id": "482814a3-b1e1-41c4-a24d-72a76ca18501",
   "metadata": {},
   "outputs": [
    {
     "data": {
      "text/plain": [
       "2"
      ]
     },
     "execution_count": 37,
     "metadata": {},
     "output_type": "execute_result"
    }
   ],
   "source": [
    "test5(2)"
   ]
  },
  {
   "cell_type": "code",
   "execution_count": 38,
   "id": "e9ee7139-64c6-45e7-b5e8-b4621b548782",
   "metadata": {},
   "outputs": [
    {
     "data": {
      "text/plain": [
       "int"
      ]
     },
     "execution_count": 38,
     "metadata": {},
     "output_type": "execute_result"
    }
   ],
   "source": [
    "type(test5(2))"
   ]
  },
  {
   "cell_type": "code",
   "execution_count": 39,
   "id": "ba7c30e8-6ce5-41f9-aa5a-515b262a3de6",
   "metadata": {},
   "outputs": [],
   "source": [
    "# Diff b/w print and return"
   ]
  },
  {
   "cell_type": "code",
   "execution_count": null,
   "id": "bde6f858-2b71-4340-b368-1f502aea7d98",
   "metadata": {},
   "outputs": [],
   "source": []
  }
 ],
 "metadata": {
  "kernelspec": {
   "display_name": "Python 3 (ipykernel)",
   "language": "python",
   "name": "python3"
  },
  "language_info": {
   "codemirror_mode": {
    "name": "ipython",
    "version": 3
   },
   "file_extension": ".py",
   "mimetype": "text/x-python",
   "name": "python",
   "nbconvert_exporter": "python",
   "pygments_lexer": "ipython3",
   "version": "3.12.4"
  }
 },
 "nbformat": 4,
 "nbformat_minor": 5
}

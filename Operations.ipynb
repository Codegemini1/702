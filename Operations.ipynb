{
 "cells": [
  {
   "cell_type": "code",
   "execution_count": 1,
   "id": "3cbae2ea-9b21-4fd1-b2b8-7211e2653d07",
   "metadata": {},
   "outputs": [
    {
     "data": {
      "text/plain": [
       "10"
      ]
     },
     "execution_count": 1,
     "metadata": {},
     "output_type": "execute_result"
    }
   ],
   "source": [
    "5 * 2"
   ]
  },
  {
   "cell_type": "code",
   "execution_count": 3,
   "id": "1d82b6f8-cab6-4bf4-8ef4-fee77a5b7b92",
   "metadata": {},
   "outputs": [
    {
     "data": {
      "text/plain": [
       "15"
      ]
     },
     "execution_count": 3,
     "metadata": {},
     "output_type": "execute_result"
    }
   ],
   "source": [
    "10 + 5"
   ]
  },
  {
   "cell_type": "code",
   "execution_count": 7,
   "id": "21f8ea72-3790-41eb-bdeb-005f3f073ba2",
   "metadata": {},
   "outputs": [
    {
     "data": {
      "text/plain": [
       "2.0"
      ]
     },
     "execution_count": 7,
     "metadata": {},
     "output_type": "execute_result"
    }
   ],
   "source": [
    "10/5"
   ]
  },
  {
   "cell_type": "code",
   "execution_count": 9,
   "id": "347217e5-d5ce-48e0-892a-39864e774916",
   "metadata": {},
   "outputs": [
    {
     "ename": "TypeError",
     "evalue": "unsupported operand type(s) for +: 'int' and 'str'",
     "output_type": "error",
     "traceback": [
      "\u001b[1;31m---------------------------------------------------------------------------\u001b[0m",
      "\u001b[1;31mTypeError\u001b[0m                                 Traceback (most recent call last)",
      "Cell \u001b[1;32mIn[9], line 1\u001b[0m\n\u001b[1;32m----> 1\u001b[0m \u001b[38;5;241m5\u001b[39m \u001b[38;5;241m+\u001b[39m \u001b[38;5;124m'\u001b[39m\u001b[38;5;124mhello\u001b[39m\u001b[38;5;124m'\u001b[39m\n",
      "\u001b[1;31mTypeError\u001b[0m: unsupported operand type(s) for +: 'int' and 'str'"
     ]
    }
   ],
   "source": [
    "5 + 'hello' #Int + Str"
   ]
  },
  {
   "cell_type": "code",
   "execution_count": 11,
   "id": "8ed843e2-2476-4e9a-9180-a2c080165023",
   "metadata": {},
   "outputs": [
    {
     "data": {
      "text/plain": [
       "'HelloPython'"
      ]
     },
     "execution_count": 11,
     "metadata": {},
     "output_type": "execute_result"
    }
   ],
   "source": [
    "'Hello' + 'Python'  #Str + Str"
   ]
  },
  {
   "cell_type": "code",
   "execution_count": 13,
   "id": "cd2a34d8-64b6-4938-9ee4-e783c32d43eb",
   "metadata": {},
   "outputs": [
    {
     "data": {
      "text/plain": [
       "'HelloHelloHelloHelloHello'"
      ]
     },
     "execution_count": 13,
     "metadata": {},
     "output_type": "execute_result"
    }
   ],
   "source": [
    "'Hello' * 5"
   ]
  },
  {
   "cell_type": "code",
   "execution_count": 15,
   "id": "f0abb7c5-3a1f-46de-94e1-460b4b9c93ea",
   "metadata": {},
   "outputs": [
    {
     "data": {
      "text/plain": [
       "2.5"
      ]
     },
     "execution_count": 15,
     "metadata": {},
     "output_type": "execute_result"
    }
   ],
   "source": [
    "5 / 2"
   ]
  },
  {
   "cell_type": "code",
   "execution_count": 17,
   "id": "75cc03a5-7c24-4943-8551-999a5d0dedd0",
   "metadata": {},
   "outputs": [
    {
     "data": {
      "text/plain": [
       "'PythonHello'"
      ]
     },
     "execution_count": 17,
     "metadata": {},
     "output_type": "execute_result"
    }
   ],
   "source": [
    "'Python' + 'Hello'"
   ]
  },
  {
   "cell_type": "code",
   "execution_count": 19,
   "id": "58a048ad-b02d-4413-9a6b-77992936ab1b",
   "metadata": {},
   "outputs": [
    {
     "data": {
      "text/plain": [
       "'Python Hello'"
      ]
     },
     "execution_count": 19,
     "metadata": {},
     "output_type": "execute_result"
    }
   ],
   "source": [
    "'Python ' + 'Hello'"
   ]
  },
  {
   "cell_type": "code",
   "execution_count": 21,
   "id": "0efccae3-5343-4438-86d1-e5f2f490d079",
   "metadata": {},
   "outputs": [
    {
     "data": {
      "text/plain": [
       "'Python Hello'"
      ]
     },
     "execution_count": 21,
     "metadata": {},
     "output_type": "execute_result"
    }
   ],
   "source": [
    "'Python'+ ' ' + 'Hello'"
   ]
  },
  {
   "cell_type": "code",
   "execution_count": 23,
   "id": "1ed54b10-0ac5-4c51-8a9d-e97c4e15e578",
   "metadata": {},
   "outputs": [
    {
     "data": {
      "text/plain": [
       "1"
      ]
     },
     "execution_count": 23,
     "metadata": {},
     "output_type": "execute_result"
    }
   ],
   "source": [
    "9 % 2"
   ]
  },
  {
   "cell_type": "code",
   "execution_count": 25,
   "id": "24dc8abd-425d-4ee4-8c3c-a7ff1028ece0",
   "metadata": {},
   "outputs": [
    {
     "data": {
      "text/plain": [
       "4.5"
      ]
     },
     "execution_count": 25,
     "metadata": {},
     "output_type": "execute_result"
    }
   ],
   "source": [
    "9 / 2"
   ]
  },
  {
   "cell_type": "markdown",
   "id": "4823974e-7fef-47c7-95ee-24d28c6f84e8",
   "metadata": {},
   "source": [
    "# Variable"
   ]
  },
  {
   "cell_type": "code",
   "execution_count": 28,
   "id": "022cfec9-b4af-4402-9750-27d665fc600f",
   "metadata": {},
   "outputs": [],
   "source": [
    "# Variable is used for stoaring dat type / Object"
   ]
  },
  {
   "cell_type": "code",
   "execution_count": 30,
   "id": "c90cd6e7-4682-4640-a1da-70bf079d0e7d",
   "metadata": {},
   "outputs": [],
   "source": [
    "x = 5\n",
    "y = 5\n",
    "c = x + y"
   ]
  },
  {
   "cell_type": "code",
   "execution_count": 32,
   "id": "cd8f86ce-8b99-43df-93a1-1ba5e9238948",
   "metadata": {},
   "outputs": [
    {
     "data": {
      "text/plain": [
       "10"
      ]
     },
     "execution_count": 32,
     "metadata": {},
     "output_type": "execute_result"
    }
   ],
   "source": [
    "c"
   ]
  },
  {
   "cell_type": "code",
   "execution_count": 34,
   "id": "f3f1b45a-8916-4a43-91cd-e91d09c19d69",
   "metadata": {},
   "outputs": [],
   "source": [
    "x1 = 10"
   ]
  },
  {
   "cell_type": "code",
   "execution_count": 36,
   "id": "4a636b65-f25a-4595-91ac-0bf902acbacd",
   "metadata": {},
   "outputs": [
    {
     "data": {
      "text/plain": [
       "50"
      ]
     },
     "execution_count": 36,
     "metadata": {},
     "output_type": "execute_result"
    }
   ],
   "source": [
    "x1 * y "
   ]
  },
  {
   "cell_type": "code",
   "execution_count": 38,
   "id": "7c756ec8-ede7-48c1-923a-bd0716322c41",
   "metadata": {},
   "outputs": [],
   "source": [
    "x_1 = 100"
   ]
  },
  {
   "cell_type": "code",
   "execution_count": 40,
   "id": "52d373b2-b8cb-4818-b416-9ff5a24fe94a",
   "metadata": {},
   "outputs": [
    {
     "data": {
      "text/plain": [
       "20.0"
      ]
     },
     "execution_count": 40,
     "metadata": {},
     "output_type": "execute_result"
    }
   ],
   "source": [
    "x_1 / 5"
   ]
  },
  {
   "cell_type": "code",
   "execution_count": 42,
   "id": "20bdd42e-919d-42b0-9875-927784bc1c88",
   "metadata": {},
   "outputs": [],
   "source": [
    "a = \"hello\"\n",
    "b = \"Python\""
   ]
  },
  {
   "cell_type": "code",
   "execution_count": 44,
   "id": "56cd69f2-0209-46dd-bc0d-6f86b661803c",
   "metadata": {},
   "outputs": [
    {
     "data": {
      "text/plain": [
       "'helloPython'"
      ]
     },
     "execution_count": 44,
     "metadata": {},
     "output_type": "execute_result"
    }
   ],
   "source": [
    "a + b"
   ]
  },
  {
   "cell_type": "code",
   "execution_count": 46,
   "id": "12b2e030-c0bd-445d-8a2b-6916028b918c",
   "metadata": {},
   "outputs": [],
   "source": [
    "c = a + b"
   ]
  },
  {
   "cell_type": "code",
   "execution_count": 48,
   "id": "03a10dc5-5e3d-4b88-8a02-8d8148967130",
   "metadata": {},
   "outputs": [
    {
     "data": {
      "text/plain": [
       "'helloPython'"
      ]
     },
     "execution_count": 48,
     "metadata": {},
     "output_type": "execute_result"
    }
   ],
   "source": [
    "c"
   ]
  },
  {
   "cell_type": "code",
   "execution_count": 50,
   "id": "e79bcf12-22bc-4222-9e31-ee67c0cbe6f7",
   "metadata": {},
   "outputs": [
    {
     "data": {
      "text/plain": [
       "str"
      ]
     },
     "execution_count": 50,
     "metadata": {},
     "output_type": "execute_result"
    }
   ],
   "source": [
    "type(c)"
   ]
  },
  {
   "cell_type": "code",
   "execution_count": 52,
   "id": "6c83611e-e534-4d09-9882-ed5bf9253137",
   "metadata": {},
   "outputs": [
    {
     "data": {
      "text/plain": [
       "int"
      ]
     },
     "execution_count": 52,
     "metadata": {},
     "output_type": "execute_result"
    }
   ],
   "source": [
    "type(x)"
   ]
  },
  {
   "cell_type": "code",
   "execution_count": 54,
   "id": "eedc4506-b53d-4801-b274-b29fb7c4b729",
   "metadata": {},
   "outputs": [
    {
     "data": {
      "text/plain": [
       "5"
      ]
     },
     "execution_count": 54,
     "metadata": {},
     "output_type": "execute_result"
    }
   ],
   "source": [
    "x"
   ]
  },
  {
   "cell_type": "code",
   "execution_count": 56,
   "id": "8f45f800-9947-405f-a48e-c8a9bf479b6a",
   "metadata": {},
   "outputs": [],
   "source": [
    "z = x_1 / 5"
   ]
  },
  {
   "cell_type": "code",
   "execution_count": 58,
   "id": "f333f80d-7e05-494b-b313-3d87d00cfbec",
   "metadata": {},
   "outputs": [
    {
     "data": {
      "text/plain": [
       "20.0"
      ]
     },
     "execution_count": 58,
     "metadata": {},
     "output_type": "execute_result"
    }
   ],
   "source": [
    "z"
   ]
  },
  {
   "cell_type": "code",
   "execution_count": 60,
   "id": "9b3ef01b-f75e-4c5a-8495-6f8fdba26881",
   "metadata": {},
   "outputs": [
    {
     "data": {
      "text/plain": [
       "float"
      ]
     },
     "execution_count": 60,
     "metadata": {},
     "output_type": "execute_result"
    }
   ],
   "source": [
    "type(z)"
   ]
  },
  {
   "cell_type": "code",
   "execution_count": 62,
   "id": "767482b6-4adf-4614-80ad-7bec4d460214",
   "metadata": {},
   "outputs": [
    {
     "data": {
      "text/plain": [
       "'5'"
      ]
     },
     "execution_count": 62,
     "metadata": {},
     "output_type": "execute_result"
    }
   ],
   "source": [
    "'5'"
   ]
  },
  {
   "cell_type": "code",
   "execution_count": 64,
   "id": "b9d0eda4-fcab-445d-9b98-e99eb26d8911",
   "metadata": {},
   "outputs": [],
   "source": [
    "d = '5'"
   ]
  },
  {
   "cell_type": "code",
   "execution_count": 66,
   "id": "8ca4b320-794d-4a53-bfe2-c45126e47f1d",
   "metadata": {},
   "outputs": [
    {
     "data": {
      "text/plain": [
       "str"
      ]
     },
     "execution_count": 66,
     "metadata": {},
     "output_type": "execute_result"
    }
   ],
   "source": [
    "type(d)"
   ]
  },
  {
   "cell_type": "code",
   "execution_count": 68,
   "id": "b0e4052b-207d-4446-a37e-06d11e8aae52",
   "metadata": {},
   "outputs": [],
   "source": [
    "# Input from user"
   ]
  },
  {
   "cell_type": "code",
   "execution_count": 70,
   "id": "fd599f53-3da1-4828-918f-93b418c9af95",
   "metadata": {},
   "outputs": [
    {
     "name": "stdin",
     "output_type": "stream",
     "text": [
      "Write your name Vaibhav\n"
     ]
    }
   ],
   "source": [
    "name = input(\"Write your name\")"
   ]
  },
  {
   "cell_type": "code",
   "execution_count": 72,
   "id": "0e0a30f8-9d83-425a-99ea-fa18a8898467",
   "metadata": {},
   "outputs": [
    {
     "data": {
      "text/plain": [
       "'Vaibhav'"
      ]
     },
     "execution_count": 72,
     "metadata": {},
     "output_type": "execute_result"
    }
   ],
   "source": [
    "name"
   ]
  },
  {
   "cell_type": "code",
   "execution_count": 78,
   "id": "d3432be4-4535-4ee8-b89c-59e1cba4e005",
   "metadata": {},
   "outputs": [],
   "source": [
    "x = \"My name is \" + name"
   ]
  },
  {
   "cell_type": "code",
   "execution_count": 80,
   "id": "c3df7414-9f0b-4399-98fe-bd44019165f3",
   "metadata": {},
   "outputs": [
    {
     "data": {
      "text/plain": [
       "'My name is Vaibhav'"
      ]
     },
     "execution_count": 80,
     "metadata": {},
     "output_type": "execute_result"
    }
   ],
   "source": [
    "x"
   ]
  },
  {
   "cell_type": "code",
   "execution_count": 82,
   "id": "6732198a-2755-4a59-9d19-20071c066bf9",
   "metadata": {},
   "outputs": [
    {
     "name": "stdin",
     "output_type": "stream",
     "text": [
      "Write your first name Vaibhav\n",
      "Write your last name Bhosale\n"
     ]
    }
   ],
   "source": [
    "first_name = input('Write your first name')\n",
    "last_name = input('Write your last name')\n",
    "full_name = first_name + ' ' + last_name"
   ]
  },
  {
   "cell_type": "code",
   "execution_count": 84,
   "id": "6967f212-2189-4500-985b-549cda1f1a47",
   "metadata": {},
   "outputs": [
    {
     "data": {
      "text/plain": [
       "'Vaibhav Bhosale'"
      ]
     },
     "execution_count": 84,
     "metadata": {},
     "output_type": "execute_result"
    }
   ],
   "source": [
    "full_name"
   ]
  },
  {
   "cell_type": "code",
   "execution_count": 86,
   "id": "77a94c58-8a5a-452a-b5ba-b12710dde87b",
   "metadata": {},
   "outputs": [
    {
     "name": "stdin",
     "output_type": "stream",
     "text": [
      "Enter your age 40\n"
     ]
    }
   ],
   "source": [
    "age = input('Enter your age') Str"
   ]
  },
  {
   "cell_type": "code",
   "execution_count": 88,
   "id": "1a857848-0655-416d-a310-29ca96e02ad6",
   "metadata": {},
   "outputs": [
    {
     "data": {
      "text/plain": [
       "'40'"
      ]
     },
     "execution_count": 88,
     "metadata": {},
     "output_type": "execute_result"
    }
   ],
   "source": [
    "age"
   ]
  },
  {
   "cell_type": "code",
   "execution_count": 90,
   "id": "d2a7d849-1edf-44ca-8fbd-3ce7796e1c31",
   "metadata": {},
   "outputs": [
    {
     "data": {
      "text/plain": [
       "str"
      ]
     },
     "execution_count": 90,
     "metadata": {},
     "output_type": "execute_result"
    }
   ],
   "source": [
    "type(age)"
   ]
  },
  {
   "cell_type": "code",
   "execution_count": 92,
   "id": "a41ff86d-0759-4e5a-a2d6-4c9b4a3e0239",
   "metadata": {},
   "outputs": [
    {
     "name": "stdin",
     "output_type": "stream",
     "text": [
      "Write your age 56\n"
     ]
    }
   ],
   "source": [
    "age = int(input(\"Write your age\"))"
   ]
  },
  {
   "cell_type": "code",
   "execution_count": 94,
   "id": "cb1bcb12-2e89-4e03-96a2-cc786a7b5eb8",
   "metadata": {},
   "outputs": [
    {
     "data": {
      "text/plain": [
       "56"
      ]
     },
     "execution_count": 94,
     "metadata": {},
     "output_type": "execute_result"
    }
   ],
   "source": [
    "age"
   ]
  },
  {
   "cell_type": "code",
   "execution_count": 96,
   "id": "1c10d6e2-9c1a-45a6-aba8-faf9c247757f",
   "metadata": {},
   "outputs": [
    {
     "data": {
      "text/plain": [
       "int"
      ]
     },
     "execution_count": 96,
     "metadata": {},
     "output_type": "execute_result"
    }
   ],
   "source": [
    "type(age)"
   ]
  },
  {
   "cell_type": "code",
   "execution_count": 102,
   "id": "cf8c64d2-be5b-4811-ac99-9f88193b0b31",
   "metadata": {},
   "outputs": [
    {
     "name": "stdin",
     "output_type": "stream",
     "text": [
      "Enter your height in cm 150.5\n"
     ]
    }
   ],
   "source": [
    "height = float(input('Enter your height in cm'))"
   ]
  },
  {
   "cell_type": "code",
   "execution_count": 104,
   "id": "4f041dd9-161d-4e57-9d99-a929062a03e8",
   "metadata": {},
   "outputs": [
    {
     "data": {
      "text/plain": [
       "150.5"
      ]
     },
     "execution_count": 104,
     "metadata": {},
     "output_type": "execute_result"
    }
   ],
   "source": [
    "height"
   ]
  },
  {
   "cell_type": "code",
   "execution_count": 106,
   "id": "1be16839-475d-48a7-b97e-7ce85d83942b",
   "metadata": {},
   "outputs": [
    {
     "name": "stdin",
     "output_type": "stream",
     "text": [
      " 15.6\n"
     ]
    },
    {
     "ename": "ValueError",
     "evalue": "invalid literal for int() with base 10: '15.6'",
     "output_type": "error",
     "traceback": [
      "\u001b[1;31m---------------------------------------------------------------------------\u001b[0m",
      "\u001b[1;31mValueError\u001b[0m                                Traceback (most recent call last)",
      "Cell \u001b[1;32mIn[106], line 1\u001b[0m\n\u001b[1;32m----> 1\u001b[0m x \u001b[38;5;241m=\u001b[39m \u001b[38;5;28mint\u001b[39m(\u001b[38;5;28minput\u001b[39m())\n",
      "\u001b[1;31mValueError\u001b[0m: invalid literal for int() with base 10: '15.6'"
     ]
    }
   ],
   "source": [
    "x = int(input())"
   ]
  },
  {
   "cell_type": "code",
   "execution_count": 108,
   "id": "f029e262-f622-4872-b718-ae6f97860b60",
   "metadata": {},
   "outputs": [
    {
     "name": "stdin",
     "output_type": "stream",
     "text": [
      "Enter age 76\n"
     ]
    },
    {
     "name": "stdout",
     "output_type": "stream",
     "text": [
      "Your age is: 76\n"
     ]
    }
   ],
   "source": [
    "age = int(input('Enter age'))\n",
    "print('Your age is:',age)"
   ]
  },
  {
   "cell_type": "code",
   "execution_count": 110,
   "id": "fa3aac73-75ad-42e1-85c2-4fe9c0aff71a",
   "metadata": {},
   "outputs": [
    {
     "data": {
      "text/plain": [
       "'Vaibhav'"
      ]
     },
     "execution_count": 110,
     "metadata": {},
     "output_type": "execute_result"
    }
   ],
   "source": [
    "first_name"
   ]
  },
  {
   "cell_type": "code",
   "execution_count": 112,
   "id": "c800c3e6-9806-40ac-a8b8-e8a3af712164",
   "metadata": {},
   "outputs": [
    {
     "data": {
      "text/plain": [
       "('Your good name is ', 'Vaibhav')"
      ]
     },
     "execution_count": 112,
     "metadata": {},
     "output_type": "execute_result"
    }
   ],
   "source": [
    "\"Your good name is \", first_name"
   ]
  },
  {
   "cell_type": "code",
   "execution_count": 114,
   "id": "97a6b983-9203-43b3-b8a2-c321cc7de128",
   "metadata": {},
   "outputs": [
    {
     "name": "stdout",
     "output_type": "stream",
     "text": [
      "Your good name is  Vaibhav\n"
     ]
    }
   ],
   "source": [
    "print(\"Your good name is \", first_name)"
   ]
  },
  {
   "cell_type": "code",
   "execution_count": 120,
   "id": "d7b52aee-7e3d-4611-9df9-23c9b4e4c60a",
   "metadata": {},
   "outputs": [
    {
     "name": "stdin",
     "output_type": "stream",
     "text": [
      "Enter your name om\n"
     ]
    },
    {
     "data": {
      "text/plain": [
       "str"
      ]
     },
     "execution_count": 120,
     "metadata": {},
     "output_type": "execute_result"
    }
   ],
   "source": [
    "name = input('Enter your name')\n",
    "type(name)"
   ]
  },
  {
   "cell_type": "code",
   "execution_count": null,
   "id": "e741d42f-a073-4bc0-aed4-5e4d8eb9919a",
   "metadata": {},
   "outputs": [],
   "source": []
  }
 ],
 "metadata": {
  "kernelspec": {
   "display_name": "Python 3 (ipykernel)",
   "language": "python",
   "name": "python3"
  },
  "language_info": {
   "codemirror_mode": {
    "name": "ipython",
    "version": 3
   },
   "file_extension": ".py",
   "mimetype": "text/x-python",
   "name": "python",
   "nbconvert_exporter": "python",
   "pygments_lexer": "ipython3",
   "version": "3.12.4"
  }
 },
 "nbformat": 4,
 "nbformat_minor": 5
}

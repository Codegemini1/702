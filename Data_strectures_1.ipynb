{
 "cells": [
  {
   "cell_type": "markdown",
   "id": "d58d72eb-9a2f-4bb7-a25d-b516559da493",
   "metadata": {},
   "source": [
    "# List"
   ]
  },
  {
   "cell_type": "raw",
   "id": "a3b7a62e-e396-477a-9469-bf17ce3db41c",
   "metadata": {},
   "source": [
    "List is written in Square Bracket"
   ]
  },
  {
   "cell_type": "code",
   "execution_count": 2,
   "id": "900d4abc-60a7-4c88-80e2-5cad16aa6480",
   "metadata": {},
   "outputs": [],
   "source": [
    "a = [1,2,3]"
   ]
  },
  {
   "cell_type": "code",
   "execution_count": 4,
   "id": "0c5ca665-80f2-4910-a7f4-0899d011dbc2",
   "metadata": {},
   "outputs": [
    {
     "data": {
      "text/plain": [
       "[1, 2, 3]"
      ]
     },
     "execution_count": 4,
     "metadata": {},
     "output_type": "execute_result"
    }
   ],
   "source": [
    "a"
   ]
  },
  {
   "cell_type": "code",
   "execution_count": 6,
   "id": "41070d69-826c-4f04-a997-f370c2519cc9",
   "metadata": {},
   "outputs": [
    {
     "data": {
      "text/plain": [
       "list"
      ]
     },
     "execution_count": 6,
     "metadata": {},
     "output_type": "execute_result"
    }
   ],
   "source": [
    "type(a)"
   ]
  },
  {
   "cell_type": "code",
   "execution_count": 8,
   "id": "4eb63511-e01f-4e7a-970e-f0060f6a0ad4",
   "metadata": {},
   "outputs": [],
   "source": [
    "mix_data = [1, 2.5, 10+5j, 'Hello', True]"
   ]
  },
  {
   "cell_type": "code",
   "execution_count": 10,
   "id": "877845d2-ec5f-4f38-8df4-746204630444",
   "metadata": {},
   "outputs": [
    {
     "data": {
      "text/plain": [
       "[1, 2.5, (10+5j), 'Hello', True]"
      ]
     },
     "execution_count": 10,
     "metadata": {},
     "output_type": "execute_result"
    }
   ],
   "source": [
    "mix_data"
   ]
  },
  {
   "cell_type": "code",
   "execution_count": 12,
   "id": "a54948f8-4cf2-4a32-b532-d65727d66e33",
   "metadata": {},
   "outputs": [],
   "source": [
    "numbers = [1,4,6,1,4,8,2]"
   ]
  },
  {
   "cell_type": "code",
   "execution_count": 14,
   "id": "c5e8c3ea-6dab-4944-ad54-b07f8703dc9c",
   "metadata": {},
   "outputs": [
    {
     "data": {
      "text/plain": [
       "[1, 4, 6, 1, 4, 8, 2]"
      ]
     },
     "execution_count": 14,
     "metadata": {},
     "output_type": "execute_result"
    }
   ],
   "source": [
    "numbers"
   ]
  },
  {
   "cell_type": "code",
   "execution_count": 16,
   "id": "127ce9da-536c-4e39-a267-af9f38b6fba5",
   "metadata": {},
   "outputs": [],
   "source": [
    "l = ['Om', 'Sham', 'Ram', 'Ganesh', 'Vaibhav']"
   ]
  },
  {
   "cell_type": "code",
   "execution_count": 18,
   "id": "1de53745-34f5-418c-9a4e-98e07dcb1a37",
   "metadata": {},
   "outputs": [
    {
     "data": {
      "text/plain": [
       "['Om', 'Sham', 'Ram', 'Ganesh', 'Vaibhav']"
      ]
     },
     "execution_count": 18,
     "metadata": {},
     "output_type": "execute_result"
    }
   ],
   "source": [
    "l"
   ]
  },
  {
   "cell_type": "code",
   "execution_count": 20,
   "id": "2355b111-49e6-4640-ad0e-e02b911c2a73",
   "metadata": {},
   "outputs": [],
   "source": [
    "# Fetch specific name/ Obj"
   ]
  },
  {
   "cell_type": "markdown",
   "id": "b043305c-4262-427d-9966-e036c9c9c78e",
   "metadata": {},
   "source": [
    "Indexing in Python"
   ]
  },
  {
   "cell_type": "markdown",
   "id": "ee83d9e5-f00f-4bea-8332-a3cf31cf5fff",
   "metadata": {},
   "source": [
    "Indexing Starts from 0 number"
   ]
  },
  {
   "cell_type": "code",
   "execution_count": 24,
   "id": "8d3f75bf-00fd-495f-916f-2c017d5e84a9",
   "metadata": {},
   "outputs": [
    {
     "data": {
      "text/plain": [
       "'Om'"
      ]
     },
     "execution_count": 24,
     "metadata": {},
     "output_type": "execute_result"
    }
   ],
   "source": [
    "l[0]"
   ]
  },
  {
   "cell_type": "code",
   "execution_count": 26,
   "id": "485a1140-b2f7-4993-a595-48a8418bf6d4",
   "metadata": {},
   "outputs": [
    {
     "data": {
      "text/plain": [
       "'Sham'"
      ]
     },
     "execution_count": 26,
     "metadata": {},
     "output_type": "execute_result"
    }
   ],
   "source": [
    "l[1]"
   ]
  },
  {
   "cell_type": "code",
   "execution_count": 28,
   "id": "947f35bb-ac5b-429e-936a-f443ff0a42a2",
   "metadata": {},
   "outputs": [
    {
     "data": {
      "text/plain": [
       "'Ram'"
      ]
     },
     "execution_count": 28,
     "metadata": {},
     "output_type": "execute_result"
    }
   ],
   "source": [
    "l[2]"
   ]
  },
  {
   "cell_type": "code",
   "execution_count": 30,
   "id": "81ff4d25-1619-469c-9e52-13c38cd5dba2",
   "metadata": {},
   "outputs": [
    {
     "data": {
      "text/plain": [
       "'Ganesh'"
      ]
     },
     "execution_count": 30,
     "metadata": {},
     "output_type": "execute_result"
    }
   ],
   "source": [
    "l[3]"
   ]
  },
  {
   "cell_type": "code",
   "execution_count": 32,
   "id": "6f862a4a-9f2a-45ab-afaf-4cd88b6d4567",
   "metadata": {},
   "outputs": [
    {
     "data": {
      "text/plain": [
       "'Vaibhav'"
      ]
     },
     "execution_count": 32,
     "metadata": {},
     "output_type": "execute_result"
    }
   ],
   "source": [
    "l[4]"
   ]
  },
  {
   "cell_type": "code",
   "execution_count": 34,
   "id": "5caa1aea-70f9-40f3-af85-f8ad68bfa75a",
   "metadata": {},
   "outputs": [
    {
     "data": {
      "text/plain": [
       "[1, 2.5, (10+5j), 'Hello', True]"
      ]
     },
     "execution_count": 34,
     "metadata": {},
     "output_type": "execute_result"
    }
   ],
   "source": [
    "mix_data"
   ]
  },
  {
   "cell_type": "code",
   "execution_count": 38,
   "id": "e06b31ff-f978-42c3-85d6-878f9a8fa2ca",
   "metadata": {},
   "outputs": [
    {
     "data": {
      "text/plain": [
       "'Hello'"
      ]
     },
     "execution_count": 38,
     "metadata": {},
     "output_type": "execute_result"
    }
   ],
   "source": [
    "mix_data[3]"
   ]
  },
  {
   "cell_type": "code",
   "execution_count": 40,
   "id": "462274ef-9eea-48fa-bbb3-1a4efbc8b558",
   "metadata": {},
   "outputs": [
    {
     "data": {
      "text/plain": [
       "['Om', 'Sham', 'Ram', 'Ganesh', 'Vaibhav']"
      ]
     },
     "execution_count": 40,
     "metadata": {},
     "output_type": "execute_result"
    }
   ],
   "source": [
    "l"
   ]
  },
  {
   "cell_type": "code",
   "execution_count": 42,
   "id": "0ea11bb8-ffce-4a98-83bc-a20c05cf7066",
   "metadata": {},
   "outputs": [
    {
     "data": {
      "text/plain": [
       "['Om', 'Sham', 'Ram']"
      ]
     },
     "execution_count": 42,
     "metadata": {},
     "output_type": "execute_result"
    }
   ],
   "source": [
    "l[0:3] #Starting point : End point"
   ]
  },
  {
   "cell_type": "code",
   "execution_count": 46,
   "id": "af61c22f-60ca-4d03-a833-dd56e5f68528",
   "metadata": {},
   "outputs": [
    {
     "data": {
      "text/plain": [
       "['Ram', 'Ganesh', 'Vaibhav']"
      ]
     },
     "execution_count": 46,
     "metadata": {},
     "output_type": "execute_result"
    }
   ],
   "source": [
    "l[2:5]"
   ]
  },
  {
   "cell_type": "code",
   "execution_count": 48,
   "id": "8887b9bb-d836-480e-bf00-d69a1f000a5b",
   "metadata": {},
   "outputs": [
    {
     "data": {
      "text/plain": [
       "['Sham', 'Ram', 'Ganesh']"
      ]
     },
     "execution_count": 48,
     "metadata": {},
     "output_type": "execute_result"
    }
   ],
   "source": [
    "l[1:4]"
   ]
  },
  {
   "cell_type": "code",
   "execution_count": 52,
   "id": "ce3f749f-7daa-4ec8-8149-3c673194fd11",
   "metadata": {},
   "outputs": [],
   "source": [
    "s = [1,2,3,4,5,6,7,8]"
   ]
  },
  {
   "cell_type": "code",
   "execution_count": 54,
   "id": "d1f62dfc-f95f-46d4-b5a6-10f7320274ab",
   "metadata": {},
   "outputs": [
    {
     "data": {
      "text/plain": [
       "[1, 2, 3, 4, 5, 6, 7, 8]"
      ]
     },
     "execution_count": 54,
     "metadata": {},
     "output_type": "execute_result"
    }
   ],
   "source": [
    "s"
   ]
  },
  {
   "cell_type": "code",
   "execution_count": 56,
   "id": "12ca8365-7e2e-40b7-9488-3d214fe87ab0",
   "metadata": {},
   "outputs": [
    {
     "data": {
      "text/plain": [
       "[1, 2, 3]"
      ]
     },
     "execution_count": 56,
     "metadata": {},
     "output_type": "execute_result"
    }
   ],
   "source": [
    "s[0:3]"
   ]
  },
  {
   "cell_type": "code",
   "execution_count": 58,
   "id": "2e7a34b5-f1e4-4ed2-bca2-7baa7961cfae",
   "metadata": {},
   "outputs": [
    {
     "data": {
      "text/plain": [
       "[3, 4, 5, 6, 7, 8]"
      ]
     },
     "execution_count": 58,
     "metadata": {},
     "output_type": "execute_result"
    }
   ],
   "source": [
    "s[2:]"
   ]
  },
  {
   "cell_type": "code",
   "execution_count": 60,
   "id": "81025ee1-d6d0-44d3-bb1e-a7192e85be78",
   "metadata": {},
   "outputs": [
    {
     "data": {
      "text/plain": [
       "[1, 2, 3]"
      ]
     },
     "execution_count": 60,
     "metadata": {},
     "output_type": "execute_result"
    }
   ],
   "source": [
    "s[:3]"
   ]
  },
  {
   "cell_type": "code",
   "execution_count": 62,
   "id": "c9ac7289-bf12-43c5-a611-fd0bd59de23e",
   "metadata": {},
   "outputs": [
    {
     "data": {
      "text/plain": [
       "[1, 2, 3, 4, 5, 6, 7, 8]"
      ]
     },
     "execution_count": 62,
     "metadata": {},
     "output_type": "execute_result"
    }
   ],
   "source": [
    "s[:]"
   ]
  },
  {
   "cell_type": "code",
   "execution_count": 64,
   "id": "5c20f85f-cd43-4346-bf21-bbe1f95dd8cb",
   "metadata": {},
   "outputs": [
    {
     "data": {
      "text/plain": [
       "[1, 2, 3, 4, 5, 6, 7, 8]"
      ]
     },
     "execution_count": 64,
     "metadata": {},
     "output_type": "execute_result"
    }
   ],
   "source": [
    "s"
   ]
  },
  {
   "cell_type": "code",
   "execution_count": 66,
   "id": "edda08f9-2678-4f0b-a29c-bafda9d4969a",
   "metadata": {},
   "outputs": [
    {
     "data": {
      "text/plain": [
       "[2, 3, 4]"
      ]
     },
     "execution_count": 66,
     "metadata": {},
     "output_type": "execute_result"
    }
   ],
   "source": [
    "s[1:4]"
   ]
  },
  {
   "cell_type": "code",
   "execution_count": 68,
   "id": "9bc15f01-221f-4b90-baf2-8001b4e10e4f",
   "metadata": {},
   "outputs": [
    {
     "data": {
      "text/plain": [
       "[2, 3, 4]"
      ]
     },
     "execution_count": 68,
     "metadata": {},
     "output_type": "execute_result"
    }
   ],
   "source": [
    "s[1:4:1]"
   ]
  },
  {
   "cell_type": "code",
   "execution_count": 72,
   "id": "9424a36b-2ac3-4745-ba24-f46917645954",
   "metadata": {},
   "outputs": [
    {
     "data": {
      "text/plain": [
       "[1, 2, 3, 4, 5, 6, 7, 8]"
      ]
     },
     "execution_count": 72,
     "metadata": {},
     "output_type": "execute_result"
    }
   ],
   "source": [
    "s[::1]"
   ]
  },
  {
   "cell_type": "code",
   "execution_count": 74,
   "id": "92cfb372-ef41-4e19-86fa-ad567ae8ffe0",
   "metadata": {},
   "outputs": [
    {
     "data": {
      "text/plain": [
       "[1, 3, 5, 7]"
      ]
     },
     "execution_count": 74,
     "metadata": {},
     "output_type": "execute_result"
    }
   ],
   "source": [
    "s[::2]"
   ]
  },
  {
   "cell_type": "code",
   "execution_count": 76,
   "id": "9c0b1828-994d-40bc-9469-7a7ae0e7481f",
   "metadata": {},
   "outputs": [
    {
     "data": {
      "text/plain": [
       "[2, 3, 4, 5, 6, 7, 8]"
      ]
     },
     "execution_count": 76,
     "metadata": {},
     "output_type": "execute_result"
    }
   ],
   "source": [
    "s[1:]"
   ]
  },
  {
   "cell_type": "code",
   "execution_count": 78,
   "id": "7337370c-1c39-40a9-bd12-733e7a6e6da7",
   "metadata": {},
   "outputs": [
    {
     "data": {
      "text/plain": [
       "[2, 4, 6, 8]"
      ]
     },
     "execution_count": 78,
     "metadata": {},
     "output_type": "execute_result"
    }
   ],
   "source": [
    "s[1::2]"
   ]
  },
  {
   "cell_type": "code",
   "execution_count": 80,
   "id": "8e40da2f-474a-43b3-8fc4-7cf280cd6405",
   "metadata": {},
   "outputs": [
    {
     "data": {
      "text/plain": [
       "[1, 2, 3, 4, 5, 6, 7, 8]"
      ]
     },
     "execution_count": 80,
     "metadata": {},
     "output_type": "execute_result"
    }
   ],
   "source": [
    "s"
   ]
  },
  {
   "cell_type": "code",
   "execution_count": 82,
   "id": "5610883c-fbf4-44b8-be53-787f4c788f44",
   "metadata": {},
   "outputs": [
    {
     "data": {
      "text/plain": [
       "[8, 7, 6, 5, 4, 3, 2, 1]"
      ]
     },
     "execution_count": 82,
     "metadata": {},
     "output_type": "execute_result"
    }
   ],
   "source": [
    "s[::-1]"
   ]
  },
  {
   "cell_type": "code",
   "execution_count": 84,
   "id": "61213b37-4154-4df3-82f8-54b8ad17b452",
   "metadata": {},
   "outputs": [
    {
     "data": {
      "text/plain": [
       "[8, 6, 4, 2]"
      ]
     },
     "execution_count": 84,
     "metadata": {},
     "output_type": "execute_result"
    }
   ],
   "source": [
    "s[::-2]"
   ]
  },
  {
   "cell_type": "code",
   "execution_count": 86,
   "id": "ccb5a05d-5e83-41e3-9479-4b70197b82ac",
   "metadata": {},
   "outputs": [
    {
     "data": {
      "text/plain": [
       "[]"
      ]
     },
     "execution_count": 86,
     "metadata": {},
     "output_type": "execute_result"
    }
   ],
   "source": [
    "s[7:4]"
   ]
  },
  {
   "cell_type": "code",
   "execution_count": 88,
   "id": "e666379b-1224-433c-a486-203e6f22a547",
   "metadata": {},
   "outputs": [
    {
     "data": {
      "text/plain": [
       "[8, 7, 6]"
      ]
     },
     "execution_count": 88,
     "metadata": {},
     "output_type": "execute_result"
    }
   ],
   "source": [
    "s[7:4:-1]"
   ]
  },
  {
   "cell_type": "code",
   "execution_count": null,
   "id": "b9bd2311-2e81-4597-be8e-2567397f5e15",
   "metadata": {},
   "outputs": [],
   "source": []
  }
 ],
 "metadata": {
  "kernelspec": {
   "display_name": "Python 3 (ipykernel)",
   "language": "python",
   "name": "python3"
  },
  "language_info": {
   "codemirror_mode": {
    "name": "ipython",
    "version": 3
   },
   "file_extension": ".py",
   "mimetype": "text/x-python",
   "name": "python",
   "nbconvert_exporter": "python",
   "pygments_lexer": "ipython3",
   "version": "3.12.4"
  }
 },
 "nbformat": 4,
 "nbformat_minor": 5
}

{
 "cells": [
  {
   "cell_type": "code",
   "execution_count": 1,
   "id": "d102637e-9d22-4fab-b6ff-f0b13baa2c02",
   "metadata": {},
   "outputs": [],
   "source": [
    "fruits = ['apple', 'banana', 'orange', 'kiwi']"
   ]
  },
  {
   "cell_type": "code",
   "execution_count": 3,
   "id": "f2db9451-bb6b-4f8e-947d-858ff5bd2566",
   "metadata": {},
   "outputs": [
    {
     "data": {
      "text/plain": [
       "'apple'"
      ]
     },
     "execution_count": 3,
     "metadata": {},
     "output_type": "execute_result"
    }
   ],
   "source": [
    "fruits[0]"
   ]
  },
  {
   "cell_type": "code",
   "execution_count": 5,
   "id": "9b8ba408-4266-4b78-abdb-dcc757548c23",
   "metadata": {},
   "outputs": [
    {
     "data": {
      "text/plain": [
       "['apple', 'banana', 'orange']"
      ]
     },
     "execution_count": 5,
     "metadata": {},
     "output_type": "execute_result"
    }
   ],
   "source": [
    "fruits[0:3]"
   ]
  },
  {
   "cell_type": "code",
   "execution_count": 7,
   "id": "43c4d737-6aa0-4fe4-b77b-8032d3e597bc",
   "metadata": {},
   "outputs": [],
   "source": [
    "# Chenge object"
   ]
  },
  {
   "cell_type": "code",
   "execution_count": 9,
   "id": "a97ff838-5507-4f83-8fbb-8d3fa91919c9",
   "metadata": {},
   "outputs": [
    {
     "data": {
      "text/plain": [
       "['apple', 'banana', 'orange', 'kiwi']"
      ]
     },
     "execution_count": 9,
     "metadata": {},
     "output_type": "execute_result"
    }
   ],
   "source": [
    "fruits"
   ]
  },
  {
   "cell_type": "code",
   "execution_count": 11,
   "id": "0def33e8-71f8-4bae-9d01-24f65eb05e80",
   "metadata": {},
   "outputs": [
    {
     "data": {
      "text/plain": [
       "'banana'"
      ]
     },
     "execution_count": 11,
     "metadata": {},
     "output_type": "execute_result"
    }
   ],
   "source": [
    "fruits[1]"
   ]
  },
  {
   "cell_type": "code",
   "execution_count": 13,
   "id": "4085e0cc-9750-412c-be2f-d454b61dfad9",
   "metadata": {},
   "outputs": [],
   "source": [
    "fruits[1] = 'XYZ'"
   ]
  },
  {
   "cell_type": "code",
   "execution_count": 15,
   "id": "d602d20a-4ae4-4e4e-bf01-4be24fdbd95b",
   "metadata": {},
   "outputs": [
    {
     "data": {
      "text/plain": [
       "['apple', 'XYZ', 'orange', 'kiwi']"
      ]
     },
     "execution_count": 15,
     "metadata": {},
     "output_type": "execute_result"
    }
   ],
   "source": [
    "fruits"
   ]
  },
  {
   "cell_type": "code",
   "execution_count": 17,
   "id": "a3a0a3a5-c9d5-4d25-a0b4-c80d0ee1b7d0",
   "metadata": {},
   "outputs": [],
   "source": [
    "fruits[1] = 'banana'"
   ]
  },
  {
   "cell_type": "code",
   "execution_count": 19,
   "id": "03ab9dd6-0f60-4112-ae72-0da3fa04bd40",
   "metadata": {},
   "outputs": [
    {
     "data": {
      "text/plain": [
       "['apple', 'banana', 'orange', 'kiwi']"
      ]
     },
     "execution_count": 19,
     "metadata": {},
     "output_type": "execute_result"
    }
   ],
   "source": [
    "fruits"
   ]
  },
  {
   "cell_type": "code",
   "execution_count": 21,
   "id": "2915c026-57a3-45af-9e78-9e94b7fa055c",
   "metadata": {},
   "outputs": [],
   "source": [
    "# Functions in list"
   ]
  },
  {
   "cell_type": "code",
   "execution_count": 23,
   "id": "325feb75-8321-48cb-8d29-99d832104d6b",
   "metadata": {},
   "outputs": [
    {
     "data": {
      "text/plain": [
       "['apple', 'banana', 'orange', 'kiwi']"
      ]
     },
     "execution_count": 23,
     "metadata": {},
     "output_type": "execute_result"
    }
   ],
   "source": [
    "fruits"
   ]
  },
  {
   "cell_type": "code",
   "execution_count": 25,
   "id": "9c629604-dc52-45ba-9e5b-0975ab09f2f5",
   "metadata": {},
   "outputs": [],
   "source": [
    "fruits.append('gova')"
   ]
  },
  {
   "cell_type": "code",
   "execution_count": 27,
   "id": "7dc4a2d4-30d9-4b3d-bde7-b5ddfb0ca704",
   "metadata": {},
   "outputs": [
    {
     "data": {
      "text/plain": [
       "['apple', 'banana', 'orange', 'kiwi', 'gova']"
      ]
     },
     "execution_count": 27,
     "metadata": {},
     "output_type": "execute_result"
    }
   ],
   "source": [
    "fruits"
   ]
  },
  {
   "cell_type": "code",
   "execution_count": 29,
   "id": "569b54c2-75ee-4710-85bf-ac700a822345",
   "metadata": {},
   "outputs": [],
   "source": [
    "fruits.insert(1,'XYZ')"
   ]
  },
  {
   "cell_type": "code",
   "execution_count": 31,
   "id": "e7df5bdc-7bab-4059-a1fe-ef0429dd2ece",
   "metadata": {},
   "outputs": [
    {
     "data": {
      "text/plain": [
       "['apple', 'XYZ', 'banana', 'orange', 'kiwi', 'gova']"
      ]
     },
     "execution_count": 31,
     "metadata": {},
     "output_type": "execute_result"
    }
   ],
   "source": [
    "fruits"
   ]
  },
  {
   "cell_type": "code",
   "execution_count": 33,
   "id": "98b2694a-5dfe-40e2-af21-df8c8a1ae4f7",
   "metadata": {},
   "outputs": [],
   "source": [
    "fruits.remove('XYZ')"
   ]
  },
  {
   "cell_type": "code",
   "execution_count": 35,
   "id": "8310957a-5b2c-4fcb-98f8-12cdf1f7e466",
   "metadata": {},
   "outputs": [
    {
     "data": {
      "text/plain": [
       "['apple', 'banana', 'orange', 'kiwi', 'gova']"
      ]
     },
     "execution_count": 35,
     "metadata": {},
     "output_type": "execute_result"
    }
   ],
   "source": [
    "fruits"
   ]
  },
  {
   "cell_type": "code",
   "execution_count": 37,
   "id": "ae58080d-4779-47f1-bbf7-5284e775073e",
   "metadata": {},
   "outputs": [
    {
     "data": {
      "text/plain": [
       "'gova'"
      ]
     },
     "execution_count": 37,
     "metadata": {},
     "output_type": "execute_result"
    }
   ],
   "source": [
    "fruits.pop() # Last object of list"
   ]
  },
  {
   "cell_type": "code",
   "execution_count": 39,
   "id": "69d0909c-9c04-4452-9e2a-197b35368039",
   "metadata": {},
   "outputs": [
    {
     "data": {
      "text/plain": [
       "['apple', 'banana', 'orange', 'kiwi']"
      ]
     },
     "execution_count": 39,
     "metadata": {},
     "output_type": "execute_result"
    }
   ],
   "source": [
    "fruits"
   ]
  },
  {
   "cell_type": "code",
   "execution_count": 41,
   "id": "c2b0e90b-8a93-4e86-a64f-38d2ededd3fe",
   "metadata": {},
   "outputs": [],
   "source": [
    "fruits.sort()"
   ]
  },
  {
   "cell_type": "code",
   "execution_count": 43,
   "id": "4ea4c6a8-0ffe-47dd-92f0-298be08fb1d9",
   "metadata": {},
   "outputs": [
    {
     "data": {
      "text/plain": [
       "['apple', 'banana', 'kiwi', 'orange']"
      ]
     },
     "execution_count": 43,
     "metadata": {},
     "output_type": "execute_result"
    }
   ],
   "source": [
    "fruits"
   ]
  },
  {
   "cell_type": "code",
   "execution_count": 45,
   "id": "f0710039-ff22-437d-b0d1-9dbef75f2fca",
   "metadata": {},
   "outputs": [],
   "source": [
    "l = [1,1,1,2,3,3,4,5,5]"
   ]
  },
  {
   "cell_type": "code",
   "execution_count": 47,
   "id": "717deaf9-4909-4c3a-9357-dcd1cf216bdb",
   "metadata": {},
   "outputs": [],
   "source": [
    "l.remove(1)"
   ]
  },
  {
   "cell_type": "code",
   "execution_count": 49,
   "id": "1357aba5-3692-4b13-95e1-3cc8ba1a9ae3",
   "metadata": {},
   "outputs": [
    {
     "data": {
      "text/plain": [
       "[1, 1, 2, 3, 3, 4, 5, 5]"
      ]
     },
     "execution_count": 49,
     "metadata": {},
     "output_type": "execute_result"
    }
   ],
   "source": [
    "l"
   ]
  },
  {
   "cell_type": "code",
   "execution_count": 51,
   "id": "063b3a85-35d6-40d3-834c-c644a3d24c7e",
   "metadata": {},
   "outputs": [],
   "source": [
    "l.remove(3)"
   ]
  },
  {
   "cell_type": "code",
   "execution_count": 53,
   "id": "8a7b5ef2-9ce2-4c2e-b5a5-35bc5246a7b2",
   "metadata": {},
   "outputs": [
    {
     "data": {
      "text/plain": [
       "[1, 1, 2, 3, 4, 5, 5]"
      ]
     },
     "execution_count": 53,
     "metadata": {},
     "output_type": "execute_result"
    }
   ],
   "source": [
    "l"
   ]
  },
  {
   "cell_type": "code",
   "execution_count": 55,
   "id": "54982f13-6ecf-4f5b-a3a0-d5b96f95ed37",
   "metadata": {},
   "outputs": [
    {
     "data": {
      "text/plain": [
       "7"
      ]
     },
     "execution_count": 55,
     "metadata": {},
     "output_type": "execute_result"
    }
   ],
   "source": [
    "len(l)"
   ]
  },
  {
   "cell_type": "code",
   "execution_count": 57,
   "id": "79c4b7ba-5ae9-4dd1-8db9-17fe1f3fb823",
   "metadata": {},
   "outputs": [
    {
     "data": {
      "text/plain": [
       "3"
      ]
     },
     "execution_count": 57,
     "metadata": {},
     "output_type": "execute_result"
    }
   ],
   "source": [
    "l.index(3)"
   ]
  },
  {
   "cell_type": "code",
   "execution_count": 59,
   "id": "1a4d2ab8-a7dc-4e71-a935-bdc68162c0d9",
   "metadata": {},
   "outputs": [
    {
     "data": {
      "text/plain": [
       "0"
      ]
     },
     "execution_count": 59,
     "metadata": {},
     "output_type": "execute_result"
    }
   ],
   "source": [
    "l.index(1)"
   ]
  },
  {
   "cell_type": "code",
   "execution_count": 61,
   "id": "abb1f811-214f-4c72-85f2-8f5d75909b0b",
   "metadata": {},
   "outputs": [
    {
     "data": {
      "text/plain": [
       "[1, 1, 2, 3, 4, 5, 5]"
      ]
     },
     "execution_count": 61,
     "metadata": {},
     "output_type": "execute_result"
    }
   ],
   "source": [
    "l"
   ]
  },
  {
   "cell_type": "code",
   "execution_count": 63,
   "id": "d16c1f68-c78b-4e7d-99c8-0e63d7cfd26f",
   "metadata": {},
   "outputs": [
    {
     "data": {
      "text/plain": [
       "[1, 1, 2, 3, 4, 5, 5]"
      ]
     },
     "execution_count": 63,
     "metadata": {},
     "output_type": "execute_result"
    }
   ],
   "source": [
    "l[:]"
   ]
  },
  {
   "cell_type": "code",
   "execution_count": 65,
   "id": "1693a760-6bcf-4162-b219-376d4be23062",
   "metadata": {},
   "outputs": [
    {
     "data": {
      "text/plain": [
       "[5, 5, 4, 3, 2, 1, 1]"
      ]
     },
     "execution_count": 65,
     "metadata": {},
     "output_type": "execute_result"
    }
   ],
   "source": [
    "l[::-1]"
   ]
  },
  {
   "cell_type": "code",
   "execution_count": 67,
   "id": "aba15d2d-6323-485b-9f6b-b3c722a86128",
   "metadata": {},
   "outputs": [
    {
     "data": {
      "text/plain": [
       "[1, 1, 2, 3, 4, 5, 5]"
      ]
     },
     "execution_count": 67,
     "metadata": {},
     "output_type": "execute_result"
    }
   ],
   "source": [
    "l"
   ]
  },
  {
   "cell_type": "code",
   "execution_count": 77,
   "id": "abf4a8b9-566b-421a-bdc1-fb1341e85554",
   "metadata": {},
   "outputs": [],
   "source": [
    "l = l[::-1]"
   ]
  },
  {
   "cell_type": "code",
   "execution_count": 81,
   "id": "528d7232-6804-467a-9dba-3359ce7c7407",
   "metadata": {},
   "outputs": [
    {
     "data": {
      "text/plain": [
       "[5, 5, 4, 3, 2, 1, 1]"
      ]
     },
     "execution_count": 81,
     "metadata": {},
     "output_type": "execute_result"
    }
   ],
   "source": [
    "l"
   ]
  },
  {
   "cell_type": "code",
   "execution_count": 83,
   "id": "10d00220-0100-4880-91a2-8b549acf7b6c",
   "metadata": {},
   "outputs": [],
   "source": [
    "l.reverse()"
   ]
  },
  {
   "cell_type": "code",
   "execution_count": 85,
   "id": "3a4ae3f3-d783-42c6-9c9a-5d7a77e8d182",
   "metadata": {},
   "outputs": [
    {
     "data": {
      "text/plain": [
       "[1, 1, 2, 3, 4, 5, 5]"
      ]
     },
     "execution_count": 85,
     "metadata": {},
     "output_type": "execute_result"
    }
   ],
   "source": [
    "l"
   ]
  },
  {
   "cell_type": "code",
   "execution_count": 87,
   "id": "dd2b14d0-971f-4d0e-910c-f427bcf7a3ce",
   "metadata": {},
   "outputs": [],
   "source": [
    "num = l"
   ]
  },
  {
   "cell_type": "code",
   "execution_count": 89,
   "id": "7d5a214a-3d86-40fd-b062-bc3c45654b77",
   "metadata": {},
   "outputs": [
    {
     "data": {
      "text/plain": [
       "[1, 1, 2, 3, 4, 5, 5]"
      ]
     },
     "execution_count": 89,
     "metadata": {},
     "output_type": "execute_result"
    }
   ],
   "source": [
    "num"
   ]
  },
  {
   "cell_type": "code",
   "execution_count": 91,
   "id": "5341e786-b7c7-4f23-b8ae-655b62768003",
   "metadata": {},
   "outputs": [],
   "source": [
    "l[1] = 1000"
   ]
  },
  {
   "cell_type": "code",
   "execution_count": 93,
   "id": "9c89a6e4-744e-4c4d-bc97-f64290c0dbfa",
   "metadata": {},
   "outputs": [
    {
     "data": {
      "text/plain": [
       "[1, 1000, 2, 3, 4, 5, 5]"
      ]
     },
     "execution_count": 93,
     "metadata": {},
     "output_type": "execute_result"
    }
   ],
   "source": [
    "l"
   ]
  },
  {
   "cell_type": "code",
   "execution_count": 95,
   "id": "53f8dbb9-61ca-410f-abd0-7c227e494a26",
   "metadata": {},
   "outputs": [
    {
     "data": {
      "text/plain": [
       "[1, 1000, 2, 3, 4, 5, 5]"
      ]
     },
     "execution_count": 95,
     "metadata": {},
     "output_type": "execute_result"
    }
   ],
   "source": [
    "num"
   ]
  },
  {
   "cell_type": "code",
   "execution_count": 97,
   "id": "4cf2bded-bf97-4690-a07d-15cf396e74b0",
   "metadata": {},
   "outputs": [],
   "source": [
    "l_copy = l.copy()  "
   ]
  },
  {
   "cell_type": "code",
   "execution_count": 99,
   "id": "a3985ffd-714e-44bd-8621-d5c5cf9fdad1",
   "metadata": {},
   "outputs": [
    {
     "data": {
      "text/plain": [
       "[1, 1000, 2, 3, 4, 5, 5]"
      ]
     },
     "execution_count": 99,
     "metadata": {},
     "output_type": "execute_result"
    }
   ],
   "source": [
    "l_copy"
   ]
  },
  {
   "cell_type": "code",
   "execution_count": 101,
   "id": "c24cd23b-3e75-4ebd-9668-919404a48bcc",
   "metadata": {},
   "outputs": [
    {
     "data": {
      "text/plain": [
       "[1, 1000, 2, 3, 4, 5, 5]"
      ]
     },
     "execution_count": 101,
     "metadata": {},
     "output_type": "execute_result"
    }
   ],
   "source": [
    "l"
   ]
  },
  {
   "cell_type": "code",
   "execution_count": 103,
   "id": "994f8b95-3da4-4d01-a72c-668dd674f3f9",
   "metadata": {},
   "outputs": [],
   "source": [
    "l[0] = 00000"
   ]
  },
  {
   "cell_type": "code",
   "execution_count": 105,
   "id": "1554abf9-6ae3-4ddc-899c-2ad97bef5aec",
   "metadata": {},
   "outputs": [
    {
     "data": {
      "text/plain": [
       "[0, 1000, 2, 3, 4, 5, 5]"
      ]
     },
     "execution_count": 105,
     "metadata": {},
     "output_type": "execute_result"
    }
   ],
   "source": [
    "l"
   ]
  },
  {
   "cell_type": "code",
   "execution_count": 107,
   "id": "f7c908c8-de50-4713-a4eb-40fefa7e5a59",
   "metadata": {},
   "outputs": [
    {
     "data": {
      "text/plain": [
       "[1, 1000, 2, 3, 4, 5, 5]"
      ]
     },
     "execution_count": 107,
     "metadata": {},
     "output_type": "execute_result"
    }
   ],
   "source": [
    "l_copy"
   ]
  },
  {
   "cell_type": "markdown",
   "id": "04b16ee8-d358-4df7-b024-0bc749bcccd2",
   "metadata": {},
   "source": [
    "# Nested List"
   ]
  },
  {
   "cell_type": "code",
   "execution_count": 133,
   "id": "d0aa0b7c-acc6-47cd-9033-947efff8348c",
   "metadata": {},
   "outputs": [],
   "source": [
    "l = [1,2,3,4,[1.5,2.5,3.5,4.5],5,6,7]"
   ]
  },
  {
   "cell_type": "code",
   "execution_count": 135,
   "id": "0dc09522-fea8-4d79-9064-7bed7f049a6c",
   "metadata": {},
   "outputs": [
    {
     "data": {
      "text/plain": [
       "[1, 2, 3, 4, [1.5, 2.5, 3.5, 4.5], 5, 6, 7]"
      ]
     },
     "execution_count": 135,
     "metadata": {},
     "output_type": "execute_result"
    }
   ],
   "source": [
    "l"
   ]
  },
  {
   "cell_type": "code",
   "execution_count": 137,
   "id": "1dfb213d-b8f3-46d7-bd17-e074b54e9067",
   "metadata": {},
   "outputs": [
    {
     "data": {
      "text/plain": [
       "4"
      ]
     },
     "execution_count": 137,
     "metadata": {},
     "output_type": "execute_result"
    }
   ],
   "source": [
    "l[3]"
   ]
  },
  {
   "cell_type": "code",
   "execution_count": 141,
   "id": "3b86850f-ca1d-417e-8a40-62e61bce62e1",
   "metadata": {},
   "outputs": [
    {
     "data": {
      "text/plain": [
       "[1.5, 2.5, 3.5, 4.5]"
      ]
     },
     "execution_count": 141,
     "metadata": {},
     "output_type": "execute_result"
    }
   ],
   "source": [
    "l[4]"
   ]
  },
  {
   "cell_type": "code",
   "execution_count": 145,
   "id": "363b2ded-2741-42b9-a6f0-dce1aa50ec99",
   "metadata": {},
   "outputs": [
    {
     "data": {
      "text/plain": [
       "3.5"
      ]
     },
     "execution_count": 145,
     "metadata": {},
     "output_type": "execute_result"
    }
   ],
   "source": [
    "l[4][2]"
   ]
  },
  {
   "cell_type": "code",
   "execution_count": 149,
   "id": "89a3d405-260a-4821-be7f-2af0a90eabb7",
   "metadata": {},
   "outputs": [],
   "source": [
    "l = [1,2,3,4,[10,20,30,[100,200,300]]]"
   ]
  },
  {
   "cell_type": "code",
   "execution_count": 151,
   "id": "465d01bb-55bb-466b-abfe-72b17bfb3ff3",
   "metadata": {},
   "outputs": [
    {
     "data": {
      "text/plain": [
       "[1, 2, 3, 4, [10, 20, 30, [100, 200, 300]]]"
      ]
     },
     "execution_count": 151,
     "metadata": {},
     "output_type": "execute_result"
    }
   ],
   "source": [
    "l"
   ]
  },
  {
   "cell_type": "code",
   "execution_count": 153,
   "id": "8d9d630c-61a8-4d0e-908d-8b61dbfb5b55",
   "metadata": {},
   "outputs": [
    {
     "data": {
      "text/plain": [
       "[10, 20, 30, [100, 200, 300]]"
      ]
     },
     "execution_count": 153,
     "metadata": {},
     "output_type": "execute_result"
    }
   ],
   "source": [
    "l[4]"
   ]
  },
  {
   "cell_type": "code",
   "execution_count": 155,
   "id": "cc7f65eb-e9fd-4631-82ae-57ec38ace788",
   "metadata": {},
   "outputs": [
    {
     "data": {
      "text/plain": [
       "[100, 200, 300]"
      ]
     },
     "execution_count": 155,
     "metadata": {},
     "output_type": "execute_result"
    }
   ],
   "source": [
    "l[4][3]"
   ]
  },
  {
   "cell_type": "code",
   "execution_count": 157,
   "id": "ffe6a5d8-9db9-47ef-aff9-4433cb428718",
   "metadata": {},
   "outputs": [
    {
     "data": {
      "text/plain": [
       "200"
      ]
     },
     "execution_count": 157,
     "metadata": {},
     "output_type": "execute_result"
    }
   ],
   "source": [
    "l[4][3][1]"
   ]
  },
  {
   "cell_type": "raw",
   "id": "59185f9c-0bd1-4cc1-9657-c9085ef1de4d",
   "metadata": {},
   "source": [
    "# List\n",
    "List is written in square brackets []\n",
    "List is mutable(changeble)"
   ]
  },
  {
   "cell_type": "markdown",
   "id": "6583d361-6449-43be-aa11-393e07fe9442",
   "metadata": {},
   "source": [
    "# Tuple"
   ]
  },
  {
   "cell_type": "raw",
   "id": "32559d3d-c1f8-45f3-9d66-54f7e50b9f00",
   "metadata": {},
   "source": [
    "tuple is written in circular bracket ( )\n",
    "tuple is immutable(unchengable)"
   ]
  },
  {
   "cell_type": "code",
   "execution_count": 111,
   "id": "df0168f2-73a2-47b6-be53-e2a7378f4b6b",
   "metadata": {},
   "outputs": [],
   "source": [
    "t = (1,2,3,4)"
   ]
  },
  {
   "cell_type": "code",
   "execution_count": 113,
   "id": "80fe314f-52d2-44aa-95d4-0d3d0be067b0",
   "metadata": {},
   "outputs": [
    {
     "data": {
      "text/plain": [
       "(1, 2, 3, 4)"
      ]
     },
     "execution_count": 113,
     "metadata": {},
     "output_type": "execute_result"
    }
   ],
   "source": [
    "t"
   ]
  },
  {
   "cell_type": "code",
   "execution_count": 115,
   "id": "44e32fd8-350a-4f05-ab02-ddbf4f07b56b",
   "metadata": {},
   "outputs": [
    {
     "data": {
      "text/plain": [
       "tuple"
      ]
     },
     "execution_count": 115,
     "metadata": {},
     "output_type": "execute_result"
    }
   ],
   "source": [
    "type(t)"
   ]
  },
  {
   "cell_type": "code",
   "execution_count": 117,
   "id": "a7fe4eb9-a2dd-43d9-a6cf-e5711f8b1ab5",
   "metadata": {},
   "outputs": [
    {
     "data": {
      "text/plain": [
       "1"
      ]
     },
     "execution_count": 117,
     "metadata": {},
     "output_type": "execute_result"
    }
   ],
   "source": [
    "t[0]"
   ]
  },
  {
   "cell_type": "code",
   "execution_count": 119,
   "id": "71b6d8d1-4dfd-43ff-a28c-1f2dbcedfb38",
   "metadata": {},
   "outputs": [
    {
     "data": {
      "text/plain": [
       "(1, 2, 3, 4)"
      ]
     },
     "execution_count": 119,
     "metadata": {},
     "output_type": "execute_result"
    }
   ],
   "source": [
    "t"
   ]
  },
  {
   "cell_type": "code",
   "execution_count": 121,
   "id": "2a029d1e-9801-4d31-a8b6-650a839a9085",
   "metadata": {},
   "outputs": [
    {
     "ename": "TypeError",
     "evalue": "'tuple' object does not support item assignment",
     "output_type": "error",
     "traceback": [
      "\u001b[1;31m---------------------------------------------------------------------------\u001b[0m",
      "\u001b[1;31mTypeError\u001b[0m                                 Traceback (most recent call last)",
      "Cell \u001b[1;32mIn[121], line 1\u001b[0m\n\u001b[1;32m----> 1\u001b[0m t[\u001b[38;5;241m0\u001b[39m] \u001b[38;5;241m=\u001b[39m \u001b[38;5;241m100\u001b[39m\n",
      "\u001b[1;31mTypeError\u001b[0m: 'tuple' object does not support item assignment"
     ]
    }
   ],
   "source": [
    "t[0] = 100"
   ]
  },
  {
   "cell_type": "code",
   "execution_count": 123,
   "id": "0fff29f7-07a4-4287-8c98-c73a4a6388f5",
   "metadata": {},
   "outputs": [],
   "source": [
    "k = ('h', 'e', 'l', 'l', 'o')"
   ]
  },
  {
   "cell_type": "code",
   "execution_count": 125,
   "id": "6e194be8-2cd2-4e97-bcc0-3e5480084411",
   "metadata": {},
   "outputs": [
    {
     "data": {
      "text/plain": [
       "('h', 'e', 'l', 'l', 'o')"
      ]
     },
     "execution_count": 125,
     "metadata": {},
     "output_type": "execute_result"
    }
   ],
   "source": [
    "k"
   ]
  },
  {
   "cell_type": "code",
   "execution_count": 127,
   "id": "98bd27a9-113e-49bf-865f-4737f17d5d68",
   "metadata": {},
   "outputs": [
    {
     "data": {
      "text/plain": [
       "4"
      ]
     },
     "execution_count": 127,
     "metadata": {},
     "output_type": "execute_result"
    }
   ],
   "source": [
    "k.index('o')"
   ]
  },
  {
   "cell_type": "code",
   "execution_count": 129,
   "id": "168b6c8e-758c-43c6-9bb1-7d68745b5861",
   "metadata": {},
   "outputs": [
    {
     "data": {
      "text/plain": [
       "2"
      ]
     },
     "execution_count": 129,
     "metadata": {},
     "output_type": "execute_result"
    }
   ],
   "source": [
    "k.count('l')"
   ]
  },
  {
   "cell_type": "markdown",
   "id": "28a0756e-c197-4ec5-b57b-271f91945aad",
   "metadata": {},
   "source": [
    "What is diff b/w list and tuple"
   ]
  },
  {
   "cell_type": "code",
   "execution_count": 159,
   "id": "c337a491-a6cf-4b54-91b8-54d1b40c507e",
   "metadata": {},
   "outputs": [],
   "source": [
    "t = (1,2,3,(10,20,30))"
   ]
  },
  {
   "cell_type": "code",
   "execution_count": 161,
   "id": "f48b407f-283c-4692-bb8a-8b414b81333c",
   "metadata": {},
   "outputs": [
    {
     "data": {
      "text/plain": [
       "(1, 2, 3, (10, 20, 30))"
      ]
     },
     "execution_count": 161,
     "metadata": {},
     "output_type": "execute_result"
    }
   ],
   "source": [
    "t"
   ]
  },
  {
   "cell_type": "markdown",
   "id": "9323bae4-dc59-42ac-8cc4-951d6c3cbb98",
   "metadata": {},
   "source": [
    "# Set"
   ]
  },
  {
   "cell_type": "raw",
   "id": "17e1faee-6195-4eca-9657-79fbac666226",
   "metadata": {},
   "source": [
    "set is written in curly bracket {}\n",
    "Set doesnt allowed duplicate values"
   ]
  },
  {
   "cell_type": "code",
   "execution_count": 164,
   "id": "fc7b5dde-6d0e-4634-9b6b-dbad58b44092",
   "metadata": {},
   "outputs": [],
   "source": [
    "s = {1,2,3}"
   ]
  },
  {
   "cell_type": "code",
   "execution_count": 166,
   "id": "68f50db8-3b9f-4829-aaff-b08861914ac4",
   "metadata": {},
   "outputs": [
    {
     "data": {
      "text/plain": [
       "{1, 2, 3}"
      ]
     },
     "execution_count": 166,
     "metadata": {},
     "output_type": "execute_result"
    }
   ],
   "source": [
    "s"
   ]
  },
  {
   "cell_type": "code",
   "execution_count": 168,
   "id": "4d01041e-3bf0-41f2-8e00-1115125d2b12",
   "metadata": {},
   "outputs": [
    {
     "data": {
      "text/plain": [
       "set"
      ]
     },
     "execution_count": 168,
     "metadata": {},
     "output_type": "execute_result"
    }
   ],
   "source": [
    "type(s)"
   ]
  },
  {
   "cell_type": "code",
   "execution_count": 170,
   "id": "19b589ce-538a-4a03-a700-7c27a339eb88",
   "metadata": {},
   "outputs": [],
   "source": [
    "a = {1,1,2,3,3,3,4,5,5}"
   ]
  },
  {
   "cell_type": "code",
   "execution_count": 172,
   "id": "6c491868-751c-46a8-8c7b-4890cc46ab85",
   "metadata": {},
   "outputs": [
    {
     "data": {
      "text/plain": [
       "{1, 2, 3, 4, 5}"
      ]
     },
     "execution_count": 172,
     "metadata": {},
     "output_type": "execute_result"
    }
   ],
   "source": [
    "a"
   ]
  },
  {
   "cell_type": "code",
   "execution_count": 176,
   "id": "df307502-4805-4ad1-9c24-d7325fb701c9",
   "metadata": {},
   "outputs": [],
   "source": [
    "a = {1,2,3}"
   ]
  },
  {
   "cell_type": "code",
   "execution_count": 178,
   "id": "4301b82a-78c5-4e02-89a8-5f1bd9d83aca",
   "metadata": {},
   "outputs": [],
   "source": [
    "b = {3,4,5}"
   ]
  },
  {
   "cell_type": "code",
   "execution_count": 180,
   "id": "83a087d7-b30c-4cb2-8824-2d0948d77819",
   "metadata": {},
   "outputs": [
    {
     "data": {
      "text/plain": [
       "{1, 2, 3, 4, 5}"
      ]
     },
     "execution_count": 180,
     "metadata": {},
     "output_type": "execute_result"
    }
   ],
   "source": [
    "a.union(b)"
   ]
  },
  {
   "cell_type": "code",
   "execution_count": 182,
   "id": "303604d7-925b-4fdb-b7e9-2e30cade480a",
   "metadata": {},
   "outputs": [
    {
     "data": {
      "text/plain": [
       "{3}"
      ]
     },
     "execution_count": 182,
     "metadata": {},
     "output_type": "execute_result"
    }
   ],
   "source": [
    "a.intersection(b)"
   ]
  },
  {
   "cell_type": "code",
   "execution_count": 184,
   "id": "3fecaaac-84af-441c-bd07-233cc6ec47d2",
   "metadata": {},
   "outputs": [
    {
     "data": {
      "text/plain": [
       "{1, 2}"
      ]
     },
     "execution_count": 184,
     "metadata": {},
     "output_type": "execute_result"
    }
   ],
   "source": [
    "a.difference(b)"
   ]
  },
  {
   "cell_type": "code",
   "execution_count": 190,
   "id": "6460d405-9c32-41f8-a6a0-91bee2f1aa82",
   "metadata": {},
   "outputs": [],
   "source": [
    "a.update({10,20,30})"
   ]
  },
  {
   "cell_type": "code",
   "execution_count": 192,
   "id": "d6a6791b-daf3-43f3-981f-becf4492b3b2",
   "metadata": {},
   "outputs": [
    {
     "data": {
      "text/plain": [
       "{1, 2, 3, 10, 20, 30}"
      ]
     },
     "execution_count": 192,
     "metadata": {},
     "output_type": "execute_result"
    }
   ],
   "source": [
    "a"
   ]
  },
  {
   "cell_type": "code",
   "execution_count": null,
   "id": "7e1a37ff-fa14-489d-b68f-2444702d0430",
   "metadata": {},
   "outputs": [],
   "source": []
  }
 ],
 "metadata": {
  "kernelspec": {
   "display_name": "Python 3 (ipykernel)",
   "language": "python",
   "name": "python3"
  },
  "language_info": {
   "codemirror_mode": {
    "name": "ipython",
    "version": 3
   },
   "file_extension": ".py",
   "mimetype": "text/x-python",
   "name": "python",
   "nbconvert_exporter": "python",
   "pygments_lexer": "ipython3",
   "version": "3.12.4"
  }
 },
 "nbformat": 4,
 "nbformat_minor": 5
}

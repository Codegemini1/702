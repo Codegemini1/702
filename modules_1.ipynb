{
 "cells": [
  {
   "cell_type": "code",
   "execution_count": 1,
   "id": "7be89b61-56fe-45ae-ad79-0db15b33c410",
   "metadata": {},
   "outputs": [
    {
     "ename": "NameError",
     "evalue": "name 'int_filter' is not defined",
     "output_type": "error",
     "traceback": [
      "\u001b[1;31m---------------------------------------------------------------------------\u001b[0m",
      "\u001b[1;31mNameError\u001b[0m                                 Traceback (most recent call last)",
      "Cell \u001b[1;32mIn[1], line 1\u001b[0m\n\u001b[1;32m----> 1\u001b[0m int_filter(\u001b[38;5;241m3\u001b[39m,\u001b[38;5;241m4\u001b[39m,\u001b[38;5;241m5\u001b[39m,\u001b[38;5;241m6\u001b[39m)\n",
      "\u001b[1;31mNameError\u001b[0m: name 'int_filter' is not defined"
     ]
    }
   ],
   "source": [
    "int_filter(3,4,5,6)"
   ]
  },
  {
   "cell_type": "code",
   "execution_count": 2,
   "id": "8444a03e-de85-48fa-be86-858a6f155f49",
   "metadata": {},
   "outputs": [],
   "source": [
    "def mul(a,b):\n",
    "    return a * b"
   ]
  },
  {
   "cell_type": "code",
   "execution_count": 3,
   "id": "6e61054a-8661-4014-9db0-6426e9471240",
   "metadata": {},
   "outputs": [
    {
     "data": {
      "text/plain": [
       "50"
      ]
     },
     "execution_count": 3,
     "metadata": {},
     "output_type": "execute_result"
    }
   ],
   "source": [
    "mul(10,5)"
   ]
  },
  {
   "cell_type": "code",
   "execution_count": 4,
   "id": "1aa0ac2b-241f-4e60-b0ff-3057dd1de090",
   "metadata": {},
   "outputs": [],
   "source": [
    "import my_functions"
   ]
  },
  {
   "cell_type": "code",
   "execution_count": 5,
   "id": "d9f78bb1-00fc-4989-845b-da2d70740cc3",
   "metadata": {},
   "outputs": [
    {
     "data": {
      "text/plain": [
       "[1, 10]"
      ]
     },
     "execution_count": 5,
     "metadata": {},
     "output_type": "execute_result"
    }
   ],
   "source": [
    "my_functions.int_filter(1,10,1.1,)"
   ]
  },
  {
   "cell_type": "code",
   "execution_count": 6,
   "id": "3d6d2879-9082-4301-afc4-ca81f2aff4e0",
   "metadata": {},
   "outputs": [],
   "source": [
    "import my_functions as gemini"
   ]
  },
  {
   "cell_type": "code",
   "execution_count": 7,
   "id": "68c07d2b-9242-4276-bf58-520f3ff5e495",
   "metadata": {},
   "outputs": [
    {
     "data": {
      "text/plain": [
       "10"
      ]
     },
     "execution_count": 7,
     "metadata": {},
     "output_type": "execute_result"
    }
   ],
   "source": [
    "gemini.multiplication(2,5)"
   ]
  },
  {
   "cell_type": "code",
   "execution_count": null,
   "id": "29a0312f-800f-402d-ad94-e76ad3c0047e",
   "metadata": {},
   "outputs": [],
   "source": []
  }
 ],
 "metadata": {
  "kernelspec": {
   "display_name": "Python 3 (ipykernel)",
   "language": "python",
   "name": "python3"
  },
  "language_info": {
   "codemirror_mode": {
    "name": "ipython",
    "version": 3
   },
   "file_extension": ".py",
   "mimetype": "text/x-python",
   "name": "python",
   "nbconvert_exporter": "python",
   "pygments_lexer": "ipython3",
   "version": "3.12.4"
  }
 },
 "nbformat": 4,
 "nbformat_minor": 5
}

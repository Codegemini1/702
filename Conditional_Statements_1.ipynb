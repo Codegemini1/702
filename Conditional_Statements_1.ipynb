{
 "cells": [
  {
   "cell_type": "code",
   "execution_count": 7,
   "id": "e661fd56-4c5e-43d2-9236-0e7ff08b0e0a",
   "metadata": {},
   "outputs": [],
   "source": [
    "age = 10"
   ]
  },
  {
   "cell_type": "code",
   "execution_count": 9,
   "id": "085ce5b7-ea6e-4c59-943e-7b66077cb6bc",
   "metadata": {},
   "outputs": [
    {
     "name": "stdout",
     "output_type": "stream",
     "text": [
      "You cant drive car\n"
     ]
    }
   ],
   "source": [
    "if age > 18:\n",
    "    print('You can drive car')\n",
    "else:\n",
    "    print('You cant drive car')"
   ]
  },
  {
   "cell_type": "code",
   "execution_count": 13,
   "id": "ecb6681d-70b6-45f2-866c-bcca3760bbc5",
   "metadata": {},
   "outputs": [
    {
     "name": "stdin",
     "output_type": "stream",
     "text": [
      "Enter your marks 76\n"
     ]
    },
    {
     "name": "stdout",
     "output_type": "stream",
     "text": [
      "Pass\n"
     ]
    }
   ],
   "source": [
    "marks = int(input('Enter your marks'))\n",
    "\n",
    "if marks > 35:\n",
    "    print('Pass')\n",
    "else:\n",
    "    print('Fail')"
   ]
  },
  {
   "cell_type": "code",
   "execution_count": 15,
   "id": "464ac1cd-9976-4293-933a-a739e8a89939",
   "metadata": {},
   "outputs": [],
   "source": [
    "# Multiple statements"
   ]
  },
  {
   "cell_type": "code",
   "execution_count": 19,
   "id": "2c524d6b-35ff-446d-836d-1c479463d7d9",
   "metadata": {},
   "outputs": [
    {
     "name": "stdin",
     "output_type": "stream",
     "text": [
      "Enter age 30\n"
     ]
    },
    {
     "name": "stdout",
     "output_type": "stream",
     "text": [
      "Young person\n"
     ]
    }
   ],
   "source": [
    "age = int(input('Enter age'))\n",
    "\n",
    "if age > 60:\n",
    "    print('Old Person')\n",
    "elif age > 18:\n",
    "    print('Young person')\n",
    "else:\n",
    "    print('Small child')"
   ]
  },
  {
   "cell_type": "code",
   "execution_count": 25,
   "id": "f4ecf4f7-2df2-4a4d-90a0-9c1ab51d276e",
   "metadata": {},
   "outputs": [
    {
     "name": "stdin",
     "output_type": "stream",
     "text": [
      " 95\n"
     ]
    },
    {
     "name": "stdout",
     "output_type": "stream",
     "text": [
      "A+\n"
     ]
    }
   ],
   "source": [
    "marks = int(input())\n",
    "\n",
    "if marks > 90:\n",
    "    print('A+')\n",
    "elif marks > 70:\n",
    "    print('B+')\n",
    "elif marks > 50:\n",
    "    print('C+')\n",
    "elif marks > 35:\n",
    "    print('D')\n",
    "else:\n",
    "    print('Fail')"
   ]
  },
  {
   "cell_type": "code",
   "execution_count": 29,
   "id": "ab285bb3-e1da-4b1b-b283-61797f1a1dc1",
   "metadata": {},
   "outputs": [
    {
     "name": "stdin",
     "output_type": "stream",
     "text": [
      "Enter your marks 35\n"
     ]
    },
    {
     "name": "stdout",
     "output_type": "stream",
     "text": [
      "Pass\n"
     ]
    }
   ],
   "source": [
    "marks = int(input('Enter your marks'))\n",
    "\n",
    "if marks >= 35:\n",
    "    print('Pass')\n",
    "else:\n",
    "    print('Fail')"
   ]
  },
  {
   "cell_type": "code",
   "execution_count": 31,
   "id": "f937d6d0-a457-4319-ac48-1bb153081b65",
   "metadata": {},
   "outputs": [
    {
     "data": {
      "text/plain": [
       "True"
      ]
     },
     "execution_count": 31,
     "metadata": {},
     "output_type": "execute_result"
    }
   ],
   "source": [
    "True and True"
   ]
  },
  {
   "cell_type": "code",
   "execution_count": 33,
   "id": "aa3b8b46-bd57-4aa2-a50f-2e4549dc3347",
   "metadata": {},
   "outputs": [
    {
     "data": {
      "text/plain": [
       "False"
      ]
     },
     "execution_count": 33,
     "metadata": {},
     "output_type": "execute_result"
    }
   ],
   "source": [
    "True and False"
   ]
  },
  {
   "cell_type": "code",
   "execution_count": 35,
   "id": "26e0c9ea-70d7-46b5-8285-75c045b4f73e",
   "metadata": {},
   "outputs": [
    {
     "data": {
      "text/plain": [
       "False"
      ]
     },
     "execution_count": 35,
     "metadata": {},
     "output_type": "execute_result"
    }
   ],
   "source": [
    "False and True"
   ]
  },
  {
   "cell_type": "code",
   "execution_count": 37,
   "id": "14fdd244-1b96-402a-a232-0a7165ce6982",
   "metadata": {},
   "outputs": [
    {
     "data": {
      "text/plain": [
       "False"
      ]
     },
     "execution_count": 37,
     "metadata": {},
     "output_type": "execute_result"
    }
   ],
   "source": [
    "False and False"
   ]
  },
  {
   "cell_type": "code",
   "execution_count": 39,
   "id": "ea0cf1a7-4a7c-41f0-9ce0-ee31b517afce",
   "metadata": {},
   "outputs": [
    {
     "data": {
      "text/plain": [
       "True"
      ]
     },
     "execution_count": 39,
     "metadata": {},
     "output_type": "execute_result"
    }
   ],
   "source": [
    "True or True"
   ]
  },
  {
   "cell_type": "code",
   "execution_count": 41,
   "id": "bcc0992f-fe18-40d7-bc70-999014b8fb80",
   "metadata": {},
   "outputs": [
    {
     "data": {
      "text/plain": [
       "True"
      ]
     },
     "execution_count": 41,
     "metadata": {},
     "output_type": "execute_result"
    }
   ],
   "source": [
    "True or False"
   ]
  },
  {
   "cell_type": "code",
   "execution_count": 43,
   "id": "0de2eaad-8998-4d1d-8deb-3136226859ec",
   "metadata": {},
   "outputs": [
    {
     "data": {
      "text/plain": [
       "True"
      ]
     },
     "execution_count": 43,
     "metadata": {},
     "output_type": "execute_result"
    }
   ],
   "source": [
    "False or True"
   ]
  },
  {
   "cell_type": "code",
   "execution_count": 45,
   "id": "d24472f9-451f-404b-8640-37c722adf4ea",
   "metadata": {},
   "outputs": [
    {
     "data": {
      "text/plain": [
       "False"
      ]
     },
     "execution_count": 45,
     "metadata": {},
     "output_type": "execute_result"
    }
   ],
   "source": [
    "False or False"
   ]
  },
  {
   "cell_type": "code",
   "execution_count": 49,
   "id": "45dff9b6-f7f1-49fb-9a23-e68a19a414d2",
   "metadata": {},
   "outputs": [
    {
     "name": "stdin",
     "output_type": "stream",
     "text": [
      " 150\n"
     ]
    },
    {
     "name": "stdout",
     "output_type": "stream",
     "text": [
      "Fail or write marks less than 100 value\n"
     ]
    }
   ],
   "source": [
    "marks = int(input())\n",
    "if marks > 35  and marks < 100:\n",
    "    print('Pass')\n",
    "else:\n",
    "    print('Fail or write marks less than 100 value')"
   ]
  },
  {
   "cell_type": "code",
   "execution_count": 53,
   "id": "b41480ba-baf2-4368-91b3-45341ee27a47",
   "metadata": {},
   "outputs": [
    {
     "name": "stdin",
     "output_type": "stream",
     "text": [
      " -5\n"
     ]
    },
    {
     "name": "stdout",
     "output_type": "stream",
     "text": [
      "write marks less than 100 value and greater than 0\n"
     ]
    }
   ],
   "source": [
    "marks = int(input())\n",
    "if marks >= 35  and marks < 100:\n",
    "    print('Pass')\n",
    "elif marks < 35 and marks >= 0:\n",
    "    print('Fail')\n",
    "else:\n",
    "    print('write marks less than 100 value and greater than 0')"
   ]
  },
  {
   "cell_type": "code",
   "execution_count": 55,
   "id": "14a04671-6588-4ed1-a695-70f929075c8b",
   "metadata": {},
   "outputs": [
    {
     "name": "stdin",
     "output_type": "stream",
     "text": [
      " 100\n"
     ]
    },
    {
     "name": "stdout",
     "output_type": "stream",
     "text": [
      "Your age is greater than 18 otherwise less than 60\n"
     ]
    }
   ],
   "source": [
    "age = int(input())\n",
    "\n",
    "if age > 18 or age < 60:\n",
    "    print('Your age is greater than 18 otherwise less than 60')\n",
    "else:\n",
    "    print('Your age is less than 18 otherwise age is greater than 60')"
   ]
  },
  {
   "cell_type": "code",
   "execution_count": null,
   "id": "1a92c41c-2eaf-49de-b3c1-a138f89e8096",
   "metadata": {},
   "outputs": [],
   "source": []
  },
  {
   "cell_type": "code",
   "execution_count": 63,
   "id": "24fee2c4-5463-44bc-85be-b4973c51f8e4",
   "metadata": {},
   "outputs": [
    {
     "name": "stdin",
     "output_type": "stream",
     "text": [
      "Enter your course name Data Science\n"
     ]
    },
    {
     "name": "stdout",
     "output_type": "stream",
     "text": [
      "Yes Data Science course is available\n"
     ]
    }
   ],
   "source": [
    "course = input('Enter your course name')\n",
    "\n",
    "if course == 'Data Science':\n",
    "    print('Yes Data Science course is available')\n",
    "elif course == 'Data Analysis':\n",
    "    print('Yes Data Analysis course is available')\n",
    "else:\n",
    "    print(f\"Your Course {course} is not available here\")"
   ]
  },
  {
   "cell_type": "code",
   "execution_count": null,
   "id": "926afa9c-b558-4e03-9623-6a33c2b25bb9",
   "metadata": {},
   "outputs": [],
   "source": []
  }
 ],
 "metadata": {
  "kernelspec": {
   "display_name": "Python 3 (ipykernel)",
   "language": "python",
   "name": "python3"
  },
  "language_info": {
   "codemirror_mode": {
    "name": "ipython",
    "version": 3
   },
   "file_extension": ".py",
   "mimetype": "text/x-python",
   "name": "python",
   "nbconvert_exporter": "python",
   "pygments_lexer": "ipython3",
   "version": "3.12.4"
  }
 },
 "nbformat": 4,
 "nbformat_minor": 5
}

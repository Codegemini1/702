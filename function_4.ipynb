{
 "cells": [
  {
   "cell_type": "code",
   "execution_count": 1,
   "id": "988a88ce-f7e9-4426-bf73-d6c5d4340655",
   "metadata": {},
   "outputs": [],
   "source": [
    "a = lambda x : x ** 3"
   ]
  },
  {
   "cell_type": "code",
   "execution_count": 2,
   "id": "2190952e-9cb7-46cb-81b6-68d9569eb64f",
   "metadata": {},
   "outputs": [
    {
     "data": {
      "text/plain": [
       "27"
      ]
     },
     "execution_count": 2,
     "metadata": {},
     "output_type": "execute_result"
    }
   ],
   "source": [
    "a(3)"
   ]
  },
  {
   "cell_type": "code",
   "execution_count": 3,
   "id": "117650a9-e24d-4d5c-a0b6-f8b8b274c6fd",
   "metadata": {},
   "outputs": [],
   "source": [
    "# List comprehension"
   ]
  },
  {
   "cell_type": "code",
   "execution_count": 4,
   "id": "d5ecb792-77fc-4842-aa20-13e87d051bfa",
   "metadata": {},
   "outputs": [],
   "source": [
    "l = ['A',10.6, 100,True]"
   ]
  },
  {
   "cell_type": "code",
   "execution_count": 5,
   "id": "c1223580-f115-4508-b059-8f5aa9e912fd",
   "metadata": {},
   "outputs": [
    {
     "name": "stdout",
     "output_type": "stream",
     "text": [
      "A\n",
      "10.6\n",
      "100\n",
      "True\n"
     ]
    }
   ],
   "source": [
    "for i in l:\n",
    "    print(i)"
   ]
  },
  {
   "cell_type": "code",
   "execution_count": 6,
   "id": "6f0f62ea-8476-4e7e-830e-004eefbb711c",
   "metadata": {},
   "outputs": [
    {
     "data": {
      "text/plain": [
       "['A', 10.6, 100, True]"
      ]
     },
     "execution_count": 6,
     "metadata": {},
     "output_type": "execute_result"
    }
   ],
   "source": [
    "[i for i in l]"
   ]
  },
  {
   "cell_type": "code",
   "execution_count": 7,
   "id": "444a00c7-fc50-4c08-80a5-eb5adb235500",
   "metadata": {},
   "outputs": [],
   "source": [
    "d = [1,2,3,4,5]"
   ]
  },
  {
   "cell_type": "code",
   "execution_count": 8,
   "id": "f187f4d8-5ae1-4f7d-8d49-9f4682afd0ef",
   "metadata": {},
   "outputs": [
    {
     "name": "stdout",
     "output_type": "stream",
     "text": [
      "1\n",
      "4\n",
      "9\n",
      "16\n",
      "25\n"
     ]
    }
   ],
   "source": [
    "for i in d:\n",
    "    print(i * i)"
   ]
  },
  {
   "cell_type": "code",
   "execution_count": 9,
   "id": "ba1acc09-792b-4bd9-9e12-8008c1d2afba",
   "metadata": {},
   "outputs": [
    {
     "data": {
      "text/plain": [
       "[1, 4, 9, 16, 25]"
      ]
     },
     "execution_count": 9,
     "metadata": {},
     "output_type": "execute_result"
    }
   ],
   "source": [
    "[i * i for i in d]"
   ]
  },
  {
   "cell_type": "code",
   "execution_count": 10,
   "id": "f6294daf-ece4-4a97-9b65-ae55ffef0f6a",
   "metadata": {},
   "outputs": [
    {
     "data": {
      "text/plain": [
       "['A', 10.6, 100, True]"
      ]
     },
     "execution_count": 10,
     "metadata": {},
     "output_type": "execute_result"
    }
   ],
   "source": [
    "l"
   ]
  },
  {
   "cell_type": "code",
   "execution_count": null,
   "id": "27282d8b-636b-4208-8e1f-293cd0207862",
   "metadata": {},
   "outputs": [],
   "source": [
    "for i in l:\n",
    "    if type(i) == int:\n",
    "        print(i)"
   ]
  },
  {
   "cell_type": "code",
   "execution_count": 11,
   "id": "ffae088d-e33b-4ab1-ae89-78c2f15bfbe6",
   "metadata": {},
   "outputs": [
    {
     "data": {
      "text/plain": [
       "[100]"
      ]
     },
     "execution_count": 11,
     "metadata": {},
     "output_type": "execute_result"
    }
   ],
   "source": [
    "[i for i in l if type(i) == int]"
   ]
  },
  {
   "cell_type": "code",
   "execution_count": 12,
   "id": "4f4cb231-3826-4726-9f79-bfa6a5378a80",
   "metadata": {},
   "outputs": [
    {
     "data": {
      "text/plain": [
       "[2, 4, 6, 8, 10]"
      ]
     },
     "execution_count": 12,
     "metadata": {},
     "output_type": "execute_result"
    }
   ],
   "source": [
    "[i for i in range(1,11) if i%2 == 0]"
   ]
  },
  {
   "cell_type": "code",
   "execution_count": 13,
   "id": "e1c85b7f-8a3e-4189-9787-acdf5d715973",
   "metadata": {},
   "outputs": [],
   "source": [
    "words = ['Hello', 'Python', 'Data', 'Science']"
   ]
  },
  {
   "cell_type": "code",
   "execution_count": 14,
   "id": "94fb4694-dbf8-46f5-91ef-d4f59e9600c6",
   "metadata": {},
   "outputs": [
    {
     "data": {
      "text/plain": [
       "[5, 6, 4, 7]"
      ]
     },
     "execution_count": 14,
     "metadata": {},
     "output_type": "execute_result"
    }
   ],
   "source": [
    "[len(i) for i in words]"
   ]
  },
  {
   "cell_type": "code",
   "execution_count": 15,
   "id": "dad12bbe-9d83-4d03-977b-707c73d74600",
   "metadata": {},
   "outputs": [],
   "source": [
    "# Dictionary comprehension"
   ]
  },
  {
   "cell_type": "code",
   "execution_count": 16,
   "id": "562c99ad-69a8-4326-8b27-5bfb73ea4139",
   "metadata": {},
   "outputs": [
    {
     "data": {
      "text/plain": [
       "{0: 0, 1: 1, 2: 4, 3: 9, 4: 16}"
      ]
     },
     "execution_count": 16,
     "metadata": {},
     "output_type": "execute_result"
    }
   ],
   "source": [
    "{i:i*i for i in range(5)}"
   ]
  },
  {
   "cell_type": "code",
   "execution_count": 17,
   "id": "a6d8f630-010e-49d9-ab8d-e4f6cdb23cee",
   "metadata": {},
   "outputs": [
    {
     "data": {
      "text/plain": [
       "{0: 0, 1: 1, 2: 4, 3: 9, 4: 16}"
      ]
     },
     "execution_count": 17,
     "metadata": {},
     "output_type": "execute_result"
    }
   ],
   "source": [
    "{i:i*i for i in range(5)}"
   ]
  },
  {
   "cell_type": "code",
   "execution_count": 19,
   "id": "b5a9154a-f060-45ba-b445-c33bda7ee4d7",
   "metadata": {},
   "outputs": [
    {
     "data": {
      "text/plain": [
       "['A', 10.6, 100, True]"
      ]
     },
     "execution_count": 19,
     "metadata": {},
     "output_type": "execute_result"
    }
   ],
   "source": [
    "l"
   ]
  },
  {
   "cell_type": "code",
   "execution_count": 20,
   "id": "68324e9e-95b5-414f-a9d2-a2b5a5b86d93",
   "metadata": {},
   "outputs": [],
   "source": [
    "l[1] = 100"
   ]
  },
  {
   "cell_type": "code",
   "execution_count": 21,
   "id": "b5e4a605-9072-4ba7-b91d-474f359e173b",
   "metadata": {},
   "outputs": [
    {
     "data": {
      "text/plain": [
       "['A', 100, 100, True]"
      ]
     },
     "execution_count": 21,
     "metadata": {},
     "output_type": "execute_result"
    }
   ],
   "source": [
    "l"
   ]
  },
  {
   "cell_type": "code",
   "execution_count": 22,
   "id": "24147bd6-7c35-420a-bec6-c8bd99145a19",
   "metadata": {},
   "outputs": [],
   "source": [
    "l.append([1,2,3])"
   ]
  },
  {
   "cell_type": "code",
   "execution_count": 23,
   "id": "604eb8d0-fec9-42b1-87ee-794fb20d7931",
   "metadata": {},
   "outputs": [
    {
     "data": {
      "text/plain": [
       "['A', 100, 100, True, [1, 2, 3]]"
      ]
     },
     "execution_count": 23,
     "metadata": {},
     "output_type": "execute_result"
    }
   ],
   "source": [
    "l"
   ]
  },
  {
   "cell_type": "code",
   "execution_count": 24,
   "id": "16cde121-8093-4b72-8af7-648f44c8dcb7",
   "metadata": {},
   "outputs": [],
   "source": [
    "l.extend([10,20,30])"
   ]
  },
  {
   "cell_type": "code",
   "execution_count": 25,
   "id": "574cf598-c39d-4f88-a194-236137a6d587",
   "metadata": {},
   "outputs": [
    {
     "data": {
      "text/plain": [
       "['A', 100, 100, True, [1, 2, 3], 10, 20, 30]"
      ]
     },
     "execution_count": 25,
     "metadata": {},
     "output_type": "execute_result"
    }
   ],
   "source": [
    "l"
   ]
  },
  {
   "cell_type": "code",
   "execution_count": 18,
   "id": "5d78c936-fc65-4906-9bfe-33c13ef3a7a3",
   "metadata": {},
   "outputs": [],
   "source": [
    "# Interview questions"
   ]
  },
  {
   "cell_type": "code",
   "execution_count": null,
   "id": "6fcdfed5-b24a-4a7a-8985-11b150d84b07",
   "metadata": {},
   "outputs": [],
   "source": [
    "1.What is the diff b/w list and tuple.\n",
    "2.Filter out any data from list.\n",
    "3.Change the the data with new data.\n",
    "4.What isnested list.\n",
    "5.How to reverse list.\n",
    "6.Diff b/w append and extend\n",
    "7.What is tuple.Property of tuple.\n",
    "8.What is set.Property of set.\n",
    "9.What is dict.\n",
    "10.Condetional statement.If else.\n",
    "11.What is for loop.\n",
    "12.What is while loop.\n",
    "13.what is break,continue,pass.\n",
    "14.What is function.\n",
    "15.What is the diff b/w print and return?\n",
    "16.How you can write down the dockstring/description for function?\n",
    "17.What is local and global varable?\n",
    "18.Write a function for checking given x number is even or odd.\n",
    "19.Function for square of number.\n",
    "20.Function for filter of int type of data.(a),(*args)"
   ]
  }
 ],
 "metadata": {
  "kernelspec": {
   "display_name": "Python 3 (ipykernel)",
   "language": "python",
   "name": "python3"
  },
  "language_info": {
   "codemirror_mode": {
    "name": "ipython",
    "version": 3
   },
   "file_extension": ".py",
   "mimetype": "text/x-python",
   "name": "python",
   "nbconvert_exporter": "python",
   "pygments_lexer": "ipython3",
   "version": "3.12.4"
  }
 },
 "nbformat": 4,
 "nbformat_minor": 5
}

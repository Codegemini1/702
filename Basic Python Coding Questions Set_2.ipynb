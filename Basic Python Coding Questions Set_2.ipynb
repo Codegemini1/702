{
 "cells": [
  {
   "cell_type": "code",
   "execution_count": 1,
   "id": "7901b569-b868-4ba6-82b5-72b9ff0c84f3",
   "metadata": {},
   "outputs": [],
   "source": [
    "d1 = {'a':1}"
   ]
  },
  {
   "cell_type": "code",
   "execution_count": null,
   "id": "8ca8773e-78a0-41cb-ae76-e5666e1bf22b",
   "metadata": {},
   "outputs": [],
   "source": [
    "d1 = {'a':[1,2,3,4]}"
   ]
  },
  {
   "cell_type": "code",
   "execution_count": 3,
   "id": "3be3b359-93dd-4668-87bc-9e02098d4da7",
   "metadata": {},
   "outputs": [],
   "source": [
    "d1 = {'a':(1,2,3,4)}"
   ]
  },
  {
   "cell_type": "markdown",
   "id": "04a2d923-711a-47b0-9489-c0e40de901df",
   "metadata": {},
   "source": [
    "# Assignment 1: Python Basics and Data Types"
   ]
  },
  {
   "cell_type": "raw",
   "id": "60dbdf2d-f971-4588-9527-7715bcf0e4f0",
   "metadata": {},
   "source": [
    "1. Variable Manipulation:\n",
    "o Define variables to store a student's name, age, GPA, and list of subjects.\n",
    "o Convert age from years to months and display the result.\n",
    "o Concatenate and print a sentence using all the defined variables."
   ]
  },
  {
   "cell_type": "code",
   "execution_count": 6,
   "id": "50f04fa0-b60d-4a77-a6ee-f56397b62dd3",
   "metadata": {},
   "outputs": [],
   "source": [
    "name = 'hello'"
   ]
  },
  {
   "cell_type": "code",
   "execution_count": 8,
   "id": "18888acf-8efa-4d8e-bec5-fd6bbd7707ce",
   "metadata": {},
   "outputs": [],
   "source": [
    "age = 30"
   ]
  },
  {
   "cell_type": "code",
   "execution_count": 10,
   "id": "0d480866-29df-4c94-9000-8bb5efb7c086",
   "metadata": {},
   "outputs": [],
   "source": [
    "GPA = 8.9"
   ]
  },
  {
   "cell_type": "code",
   "execution_count": 12,
   "id": "2de37fb8-fd23-4ee0-8853-079990feb0c9",
   "metadata": {},
   "outputs": [],
   "source": [
    "subjects = ['Maths', \"English\", 'Science']"
   ]
  },
  {
   "cell_type": "code",
   "execution_count": 14,
   "id": "abb5e062-1888-497f-ae06-255ed50293eb",
   "metadata": {},
   "outputs": [
    {
     "data": {
      "text/plain": [
       "['Maths', 'English', 'Science']"
      ]
     },
     "execution_count": 14,
     "metadata": {},
     "output_type": "execute_result"
    }
   ],
   "source": [
    "subjects"
   ]
  },
  {
   "cell_type": "code",
   "execution_count": 16,
   "id": "afd6f1c9-5dca-426f-81d9-268504f846a3",
   "metadata": {},
   "outputs": [
    {
     "data": {
      "text/plain": [
       "30"
      ]
     },
     "execution_count": 16,
     "metadata": {},
     "output_type": "execute_result"
    }
   ],
   "source": [
    "age"
   ]
  },
  {
   "cell_type": "code",
   "execution_count": 18,
   "id": "0ed1afb2-1d0c-4b40-8944-e4e1e7e01daa",
   "metadata": {},
   "outputs": [
    {
     "data": {
      "text/plain": [
       "360"
      ]
     },
     "execution_count": 18,
     "metadata": {},
     "output_type": "execute_result"
    }
   ],
   "source": [
    "age * 12"
   ]
  },
  {
   "cell_type": "code",
   "execution_count": 20,
   "id": "b36af5e9-3e30-4e4c-84bb-3e31ba33afab",
   "metadata": {},
   "outputs": [
    {
     "data": {
      "text/plain": [
       "38.9"
      ]
     },
     "execution_count": 20,
     "metadata": {},
     "output_type": "execute_result"
    }
   ],
   "source": [
    "age + GPA"
   ]
  },
  {
   "cell_type": "raw",
   "id": "0a1b898c-68bd-4409-9942-3ba27ae463ad",
   "metadata": {},
   "source": [
    "2. Type Conversion Practice:\n",
    "o Convert a float to an integer, and explain what happens to the decimal part."
   ]
  },
  {
   "cell_type": "code",
   "execution_count": 22,
   "id": "95c008a4-52b3-409c-a655-03c48f85e31d",
   "metadata": {},
   "outputs": [
    {
     "data": {
      "text/plain": [
       "8.9"
      ]
     },
     "execution_count": 22,
     "metadata": {},
     "output_type": "execute_result"
    }
   ],
   "source": [
    "GPA"
   ]
  },
  {
   "cell_type": "code",
   "execution_count": 24,
   "id": "f36d6b97-22c6-40ab-b905-cb05921821cd",
   "metadata": {},
   "outputs": [
    {
     "data": {
      "text/plain": [
       "8"
      ]
     },
     "execution_count": 24,
     "metadata": {},
     "output_type": "execute_result"
    }
   ],
   "source": [
    "int(GPA)"
   ]
  },
  {
   "cell_type": "markdown",
   "id": "cfd7dcf2-be9a-49e5-96c1-6f65549bdf49",
   "metadata": {},
   "source": [
    "# Assignment 2: Data Structures - List, Tuple, Set, and Dictionary"
   ]
  },
  {
   "cell_type": "raw",
   "id": "c4672416-6ff9-48ac-a8d8-0e3ce255d284",
   "metadata": {},
   "source": [
    "1. Working with Lists:\n",
    "o Create a list of integers and:\n",
    " Append a new number.\n",
    " Insert a number at a specific index.\n",
    " Remove duplicates and print the final list"
   ]
  },
  {
   "cell_type": "code",
   "execution_count": 27,
   "id": "84915aa0-5d40-49a7-8e77-69d048c45b02",
   "metadata": {},
   "outputs": [],
   "source": [
    "num = [1,2,3,4,5]"
   ]
  },
  {
   "cell_type": "code",
   "execution_count": 29,
   "id": "421986d5-2ec9-4c47-87a1-61c11cd43a8f",
   "metadata": {},
   "outputs": [
    {
     "data": {
      "text/plain": [
       "[1, 2, 3, 4, 5]"
      ]
     },
     "execution_count": 29,
     "metadata": {},
     "output_type": "execute_result"
    }
   ],
   "source": [
    "num"
   ]
  },
  {
   "cell_type": "code",
   "execution_count": 31,
   "id": "f65c1bac-09a2-420a-9917-59e04fbb0adf",
   "metadata": {},
   "outputs": [],
   "source": [
    "num.append(10)"
   ]
  },
  {
   "cell_type": "code",
   "execution_count": 33,
   "id": "5769ea10-a729-4df6-a3f8-5c6bf90a3d0d",
   "metadata": {},
   "outputs": [
    {
     "data": {
      "text/plain": [
       "[1, 2, 3, 4, 5, 10]"
      ]
     },
     "execution_count": 33,
     "metadata": {},
     "output_type": "execute_result"
    }
   ],
   "source": [
    "num"
   ]
  },
  {
   "cell_type": "code",
   "execution_count": 37,
   "id": "2e7dff57-f148-455f-b711-0cbf8bfb1f39",
   "metadata": {},
   "outputs": [],
   "source": [
    "num[4] = 20"
   ]
  },
  {
   "cell_type": "code",
   "execution_count": 39,
   "id": "93845b4e-a6d7-4cba-8316-ea11dc8c5e34",
   "metadata": {},
   "outputs": [
    {
     "data": {
      "text/plain": [
       "[1, 2, 3, 4, 20, 10]"
      ]
     },
     "execution_count": 39,
     "metadata": {},
     "output_type": "execute_result"
    }
   ],
   "source": [
    "num"
   ]
  },
  {
   "cell_type": "code",
   "execution_count": 41,
   "id": "d110d968-2c68-4edc-8e20-d1ffe49846fa",
   "metadata": {},
   "outputs": [],
   "source": [
    "num.insert(1,100)"
   ]
  },
  {
   "cell_type": "code",
   "execution_count": 43,
   "id": "762b2de2-420e-4e20-8151-41634177dbfb",
   "metadata": {},
   "outputs": [
    {
     "data": {
      "text/plain": [
       "[1, 100, 2, 3, 4, 20, 10]"
      ]
     },
     "execution_count": 43,
     "metadata": {},
     "output_type": "execute_result"
    }
   ],
   "source": [
    "num"
   ]
  },
  {
   "cell_type": "code",
   "execution_count": 45,
   "id": "952dee2d-6e26-4f7b-967d-c7d994789a0d",
   "metadata": {},
   "outputs": [],
   "source": [
    "l1 = [1,2,3,3,4,4,5,6]"
   ]
  },
  {
   "cell_type": "code",
   "execution_count": 49,
   "id": "175c9a12-2df1-4936-94ef-1526021b6213",
   "metadata": {},
   "outputs": [],
   "source": [
    "l1 = set(l1)"
   ]
  },
  {
   "cell_type": "code",
   "execution_count": 51,
   "id": "caa55dd9-1ba3-4db6-a53b-eeef986ec6d9",
   "metadata": {},
   "outputs": [
    {
     "data": {
      "text/plain": [
       "{1, 2, 3, 4, 5, 6}"
      ]
     },
     "execution_count": 51,
     "metadata": {},
     "output_type": "execute_result"
    }
   ],
   "source": [
    "l1"
   ]
  },
  {
   "cell_type": "code",
   "execution_count": 53,
   "id": "045bf8de-4338-479a-be18-17e8c062eebc",
   "metadata": {},
   "outputs": [
    {
     "data": {
      "text/plain": [
       "[1, 2, 3, 4, 5, 6]"
      ]
     },
     "execution_count": 53,
     "metadata": {},
     "output_type": "execute_result"
    }
   ],
   "source": [
    "list(l1)"
   ]
  },
  {
   "cell_type": "raw",
   "id": "ed289ed3-2c50-4cfd-b2cf-b64fd9f60ca2",
   "metadata": {},
   "source": [
    "2. Tuple Manipulation:\n",
    "o Define a tuple of 5 colors.\n",
    "o Try to add a new color to the tuple (observe and explain why it fails).\n",
    "o Convert the tuple to a list, add the color, and convert it back to a tuple."
   ]
  },
  {
   "cell_type": "code",
   "execution_count": 55,
   "id": "b0b45182-775e-4531-a1b1-4f948b5f79a6",
   "metadata": {},
   "outputs": [],
   "source": [
    "colors = ('Red','White','Yeallow','Green','Blue')"
   ]
  },
  {
   "cell_type": "code",
   "execution_count": 57,
   "id": "cd25ed8a-2a85-4002-b4c0-7998ccc03268",
   "metadata": {},
   "outputs": [
    {
     "data": {
      "text/plain": [
       "('Red', 'White', 'Yeallow', 'Green', 'Blue')"
      ]
     },
     "execution_count": 57,
     "metadata": {},
     "output_type": "execute_result"
    }
   ],
   "source": [
    "colors"
   ]
  },
  {
   "cell_type": "code",
   "execution_count": 59,
   "id": "1e7bc074-657d-45f7-be71-12789f9a3515",
   "metadata": {},
   "outputs": [
    {
     "ename": "AttributeError",
     "evalue": "'tuple' object has no attribute 'append'",
     "output_type": "error",
     "traceback": [
      "\u001b[1;31m---------------------------------------------------------------------------\u001b[0m",
      "\u001b[1;31mAttributeError\u001b[0m                            Traceback (most recent call last)",
      "Cell \u001b[1;32mIn[59], line 1\u001b[0m\n\u001b[1;32m----> 1\u001b[0m colors\u001b[38;5;241m.\u001b[39mappend(\u001b[38;5;124m'\u001b[39m\u001b[38;5;124mRed\u001b[39m\u001b[38;5;124m'\u001b[39m)\n",
      "\u001b[1;31mAttributeError\u001b[0m: 'tuple' object has no attribute 'append'"
     ]
    }
   ],
   "source": [
    "colors.append('Red')"
   ]
  },
  {
   "cell_type": "code",
   "execution_count": 61,
   "id": "734deddd-9ca3-434a-a00f-e05461a1444d",
   "metadata": {},
   "outputs": [
    {
     "data": {
      "text/plain": [
       "('Red', 'White', 'Yeallow', 'Green', 'Blue')"
      ]
     },
     "execution_count": 61,
     "metadata": {},
     "output_type": "execute_result"
    }
   ],
   "source": [
    "colors"
   ]
  },
  {
   "cell_type": "code",
   "execution_count": 65,
   "id": "9237b8b8-4a8d-4729-a67b-8dd0f657b657",
   "metadata": {},
   "outputs": [],
   "source": [
    "colors = list(colors)"
   ]
  },
  {
   "cell_type": "code",
   "execution_count": 67,
   "id": "31c57064-4300-4e15-bf4a-cc3d7c9ed61d",
   "metadata": {},
   "outputs": [
    {
     "data": {
      "text/plain": [
       "['Red', 'White', 'Yeallow', 'Green', 'Blue']"
      ]
     },
     "execution_count": 67,
     "metadata": {},
     "output_type": "execute_result"
    }
   ],
   "source": [
    "colors"
   ]
  },
  {
   "cell_type": "code",
   "execution_count": 69,
   "id": "226bfa22-7de2-4bf1-a70f-f83a14076921",
   "metadata": {},
   "outputs": [],
   "source": [
    "colors.append('Pink')"
   ]
  },
  {
   "cell_type": "code",
   "execution_count": 71,
   "id": "a387bae1-3bbe-4ade-a9c6-c1e3b57d5784",
   "metadata": {},
   "outputs": [
    {
     "data": {
      "text/plain": [
       "['Red', 'White', 'Yeallow', 'Green', 'Blue', 'Pink']"
      ]
     },
     "execution_count": 71,
     "metadata": {},
     "output_type": "execute_result"
    }
   ],
   "source": [
    "colors"
   ]
  },
  {
   "cell_type": "code",
   "execution_count": 75,
   "id": "7b8a67c1-f7e3-43ba-8a1a-6793995a77d7",
   "metadata": {},
   "outputs": [],
   "source": [
    "colors = tuple(colors)"
   ]
  },
  {
   "cell_type": "code",
   "execution_count": 77,
   "id": "f19fda60-fbd5-4b7e-851c-bd18114171ae",
   "metadata": {},
   "outputs": [
    {
     "data": {
      "text/plain": [
       "('Red', 'White', 'Yeallow', 'Green', 'Blue', 'Pink')"
      ]
     },
     "execution_count": 77,
     "metadata": {},
     "output_type": "execute_result"
    }
   ],
   "source": [
    "colors"
   ]
  },
  {
   "cell_type": "raw",
   "id": "f903f448-9856-4a54-8578-15112d164a68",
   "metadata": {},
   "source": [
    "3. Set Operations:\n",
    "o Create two sets of random numbers.\n",
    "o Find and print their union, intersection, and difference.\n",
    "o Remove one element from the first set and add a new element.\n"
   ]
  },
  {
   "cell_type": "code",
   "execution_count": 85,
   "id": "4e05072c-0c5b-489e-a3fa-f96400a155dc",
   "metadata": {},
   "outputs": [],
   "source": [
    "s1 = {1,2,3,4}"
   ]
  },
  {
   "cell_type": "code",
   "execution_count": 87,
   "id": "4cd3ed22-226c-4606-98f1-7482a53be691",
   "metadata": {},
   "outputs": [],
   "source": [
    "s2 = {3,4,5,6}"
   ]
  },
  {
   "cell_type": "code",
   "execution_count": 89,
   "id": "e00c3908-1024-4f99-8274-223d3eade95c",
   "metadata": {},
   "outputs": [
    {
     "data": {
      "text/plain": [
       "{1, 2, 3, 4, 5, 6}"
      ]
     },
     "execution_count": 89,
     "metadata": {},
     "output_type": "execute_result"
    }
   ],
   "source": [
    "s1.union(s2)"
   ]
  },
  {
   "cell_type": "code",
   "execution_count": 91,
   "id": "9c715013-19ba-4415-ac53-599d69c05141",
   "metadata": {},
   "outputs": [
    {
     "data": {
      "text/plain": [
       "{3, 4}"
      ]
     },
     "execution_count": 91,
     "metadata": {},
     "output_type": "execute_result"
    }
   ],
   "source": [
    "s1.intersection(s2)"
   ]
  },
  {
   "cell_type": "code",
   "execution_count": 93,
   "id": "6e0d186a-b32e-425a-8433-6512fa129eaf",
   "metadata": {},
   "outputs": [
    {
     "data": {
      "text/plain": [
       "{1, 2}"
      ]
     },
     "execution_count": 93,
     "metadata": {},
     "output_type": "execute_result"
    }
   ],
   "source": [
    "s1.difference(s2)"
   ]
  },
  {
   "cell_type": "raw",
   "id": "6f00a640-6b1f-42ce-9a6a-8da9f0314477",
   "metadata": {},
   "source": [
    "4. Dictionary Practice:\n",
    "o Define a dictionary for a library system with book titles as keys and available\n",
    "copies as values.\n",
    "o Update the count of a specific book after it is borrowed.\n",
    "o Add a new book to the dictionary and print the updated dictionary"
   ]
  },
  {
   "cell_type": "code",
   "execution_count": 95,
   "id": "5e8ad174-953b-42d8-a62a-b82930a4deac",
   "metadata": {},
   "outputs": [],
   "source": [
    "d1 = {'Maths':2, 'English':3, 'Hindi':1}"
   ]
  },
  {
   "cell_type": "code",
   "execution_count": 97,
   "id": "9b3a064f-ffa9-40b1-8ad9-6e1c53069e68",
   "metadata": {},
   "outputs": [
    {
     "data": {
      "text/plain": [
       "2"
      ]
     },
     "execution_count": 97,
     "metadata": {},
     "output_type": "execute_result"
    }
   ],
   "source": [
    "d1['Maths'] "
   ]
  },
  {
   "cell_type": "code",
   "execution_count": 99,
   "id": "672a6792-7f33-44b4-acb9-2eff46560775",
   "metadata": {},
   "outputs": [],
   "source": [
    "d1['Maths'] = 1"
   ]
  },
  {
   "cell_type": "code",
   "execution_count": 101,
   "id": "7b56f4c5-8e77-45de-9485-96919fde0de5",
   "metadata": {},
   "outputs": [
    {
     "data": {
      "text/plain": [
       "{'Maths': 1, 'English': 3, 'Hindi': 1}"
      ]
     },
     "execution_count": 101,
     "metadata": {},
     "output_type": "execute_result"
    }
   ],
   "source": [
    "d1"
   ]
  },
  {
   "cell_type": "code",
   "execution_count": null,
   "id": "16c33861-0afe-4139-80ee-a73cbc9fa26b",
   "metadata": {},
   "outputs": [],
   "source": []
  }
 ],
 "metadata": {
  "kernelspec": {
   "display_name": "Python 3 (ipykernel)",
   "language": "python",
   "name": "python3"
  },
  "language_info": {
   "codemirror_mode": {
    "name": "ipython",
    "version": 3
   },
   "file_extension": ".py",
   "mimetype": "text/x-python",
   "name": "python",
   "nbconvert_exporter": "python",
   "pygments_lexer": "ipython3",
   "version": "3.12.4"
  }
 },
 "nbformat": 4,
 "nbformat_minor": 5
}

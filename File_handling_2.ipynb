{
 "cells": [
  {
   "cell_type": "code",
   "execution_count": 1,
   "id": "4661e310-842b-4f9c-a5d0-564b498a2932",
   "metadata": {},
   "outputs": [
    {
     "name": "stdout",
     "output_type": "stream",
     "text": [
      " Volume in drive C has no label.\n",
      " Volume Serial Number is B294-EB73\n",
      "\n",
      " Directory of C:\\Users\\Admin\\Downloads\\702\\Python\\File Handling\n",
      "\n",
      "11/25/2024  07:21 AM    <DIR>          .\n",
      "11/25/2024  07:21 AM    <DIR>          ..\n",
      "11/25/2024  07:21 AM    <DIR>          .ipynb_checkpoints\n",
      "11/25/2024  07:21 AM                72 File_handling_2.ipynb\n",
      "               1 File(s)             72 bytes\n",
      "               3 Dir(s)  15,153,614,848 bytes free\n"
     ]
    }
   ],
   "source": [
    "ls"
   ]
  },
  {
   "cell_type": "code",
   "execution_count": 2,
   "id": "050c7ece-0178-437d-87a3-2b8da7dfbcbf",
   "metadata": {},
   "outputs": [
    {
     "ename": "FileNotFoundError",
     "evalue": "[Errno 2] No such file or directory: 'test1.txt'",
     "output_type": "error",
     "traceback": [
      "\u001b[1;31m---------------------------------------------------------------------------\u001b[0m",
      "\u001b[1;31mFileNotFoundError\u001b[0m                         Traceback (most recent call last)",
      "Cell \u001b[1;32mIn[2], line 1\u001b[0m\n\u001b[1;32m----> 1\u001b[0m t \u001b[38;5;241m=\u001b[39m \u001b[38;5;28mopen\u001b[39m(\u001b[38;5;124m'\u001b[39m\u001b[38;5;124mtest1.txt\u001b[39m\u001b[38;5;124m'\u001b[39m,mode\u001b[38;5;241m=\u001b[39m\u001b[38;5;124m'\u001b[39m\u001b[38;5;124mr\u001b[39m\u001b[38;5;124m'\u001b[39m)\n",
      "File \u001b[1;32m~\\anaconda3\\Lib\\site-packages\\IPython\\core\\interactiveshell.py:324\u001b[0m, in \u001b[0;36m_modified_open\u001b[1;34m(file, *args, **kwargs)\u001b[0m\n\u001b[0;32m    317\u001b[0m \u001b[38;5;28;01mif\u001b[39;00m file \u001b[38;5;129;01min\u001b[39;00m {\u001b[38;5;241m0\u001b[39m, \u001b[38;5;241m1\u001b[39m, \u001b[38;5;241m2\u001b[39m}:\n\u001b[0;32m    318\u001b[0m     \u001b[38;5;28;01mraise\u001b[39;00m \u001b[38;5;167;01mValueError\u001b[39;00m(\n\u001b[0;32m    319\u001b[0m         \u001b[38;5;124mf\u001b[39m\u001b[38;5;124m\"\u001b[39m\u001b[38;5;124mIPython won\u001b[39m\u001b[38;5;124m'\u001b[39m\u001b[38;5;124mt let you open fd=\u001b[39m\u001b[38;5;132;01m{\u001b[39;00mfile\u001b[38;5;132;01m}\u001b[39;00m\u001b[38;5;124m by default \u001b[39m\u001b[38;5;124m\"\u001b[39m\n\u001b[0;32m    320\u001b[0m         \u001b[38;5;124m\"\u001b[39m\u001b[38;5;124mas it is likely to crash IPython. If you know what you are doing, \u001b[39m\u001b[38;5;124m\"\u001b[39m\n\u001b[0;32m    321\u001b[0m         \u001b[38;5;124m\"\u001b[39m\u001b[38;5;124myou can use builtins\u001b[39m\u001b[38;5;124m'\u001b[39m\u001b[38;5;124m open.\u001b[39m\u001b[38;5;124m\"\u001b[39m\n\u001b[0;32m    322\u001b[0m     )\n\u001b[1;32m--> 324\u001b[0m \u001b[38;5;28;01mreturn\u001b[39;00m io_open(file, \u001b[38;5;241m*\u001b[39margs, \u001b[38;5;241m*\u001b[39m\u001b[38;5;241m*\u001b[39mkwargs)\n",
      "\u001b[1;31mFileNotFoundError\u001b[0m: [Errno 2] No such file or directory: 'test1.txt'"
     ]
    }
   ],
   "source": [
    "t = open('test1.txt',mode='r')"
   ]
  },
  {
   "cell_type": "code",
   "execution_count": 3,
   "id": "97b6ca56-4246-425e-9c30-a6b018518709",
   "metadata": {},
   "outputs": [],
   "source": [
    "t = open('test1.txt',mode='w')"
   ]
  },
  {
   "cell_type": "code",
   "execution_count": 4,
   "id": "23b00f90-27e7-4b81-9a7c-830ea25ac09d",
   "metadata": {},
   "outputs": [
    {
     "data": {
      "text/plain": [
       "19"
      ]
     },
     "execution_count": 4,
     "metadata": {},
     "output_type": "execute_result"
    }
   ],
   "source": [
    "t.write('This is test1 file.')"
   ]
  },
  {
   "cell_type": "code",
   "execution_count": 5,
   "id": "8b6cbd64-550d-46df-8c2a-6466e2f57384",
   "metadata": {},
   "outputs": [],
   "source": [
    "t.close()"
   ]
  },
  {
   "cell_type": "code",
   "execution_count": 6,
   "id": "a7bb8c5f-d0c7-42a8-83b8-383035a8bf40",
   "metadata": {},
   "outputs": [
    {
     "data": {
      "text/plain": [
       "19"
      ]
     },
     "execution_count": 6,
     "metadata": {},
     "output_type": "execute_result"
    }
   ],
   "source": [
    "len('This is test1 file.')"
   ]
  },
  {
   "cell_type": "code",
   "execution_count": 7,
   "id": "74167e9d-cbd9-4d4b-99ba-380c68573333",
   "metadata": {},
   "outputs": [],
   "source": [
    "t = open('test1.txt', mode='r')"
   ]
  },
  {
   "cell_type": "code",
   "execution_count": 8,
   "id": "5ba662aa-329c-493e-8407-c78b6f5d5cd4",
   "metadata": {},
   "outputs": [
    {
     "data": {
      "text/plain": [
       "'This is test1 file.'"
      ]
     },
     "execution_count": 8,
     "metadata": {},
     "output_type": "execute_result"
    }
   ],
   "source": [
    "t.read()"
   ]
  },
  {
   "cell_type": "code",
   "execution_count": 9,
   "id": "c5a44266-37c4-4524-9634-4d04f6055394",
   "metadata": {},
   "outputs": [
    {
     "data": {
      "text/plain": [
       "''"
      ]
     },
     "execution_count": 9,
     "metadata": {},
     "output_type": "execute_result"
    }
   ],
   "source": [
    "t.read()"
   ]
  },
  {
   "cell_type": "code",
   "execution_count": 10,
   "id": "4af24d56-03da-40e4-a983-1298bca55345",
   "metadata": {},
   "outputs": [
    {
     "data": {
      "text/plain": [
       "0"
      ]
     },
     "execution_count": 10,
     "metadata": {},
     "output_type": "execute_result"
    }
   ],
   "source": [
    "t.seek(0)"
   ]
  },
  {
   "cell_type": "code",
   "execution_count": 11,
   "id": "20643e19-3fad-4e21-afde-c90fc53586be",
   "metadata": {},
   "outputs": [
    {
     "data": {
      "text/plain": [
       "'This is test1 file.'"
      ]
     },
     "execution_count": 11,
     "metadata": {},
     "output_type": "execute_result"
    }
   ],
   "source": [
    "t.read()"
   ]
  },
  {
   "cell_type": "code",
   "execution_count": 12,
   "id": "cb0d83ef-8ead-43b6-83b0-db362a910a9c",
   "metadata": {},
   "outputs": [
    {
     "data": {
      "text/plain": [
       "4"
      ]
     },
     "execution_count": 12,
     "metadata": {},
     "output_type": "execute_result"
    }
   ],
   "source": [
    "t.seek(4)"
   ]
  },
  {
   "cell_type": "code",
   "execution_count": 13,
   "id": "560b7c97-1a32-4512-8357-499069ee2708",
   "metadata": {},
   "outputs": [
    {
     "data": {
      "text/plain": [
       "' is test1 file.'"
      ]
     },
     "execution_count": 13,
     "metadata": {},
     "output_type": "execute_result"
    }
   ],
   "source": [
    "t.read()"
   ]
  },
  {
   "cell_type": "code",
   "execution_count": 14,
   "id": "ac898ea4-0990-4714-a352-298766031725",
   "metadata": {},
   "outputs": [
    {
     "data": {
      "text/plain": [
       "0"
      ]
     },
     "execution_count": 14,
     "metadata": {},
     "output_type": "execute_result"
    }
   ],
   "source": [
    "t.seek(0)"
   ]
  },
  {
   "cell_type": "code",
   "execution_count": 15,
   "id": "b7776c06-8f50-4c8a-ad79-50b71e3119d6",
   "metadata": {},
   "outputs": [
    {
     "ename": "UnsupportedOperation",
     "evalue": "not writable",
     "output_type": "error",
     "traceback": [
      "\u001b[1;31m---------------------------------------------------------------------------\u001b[0m",
      "\u001b[1;31mUnsupportedOperation\u001b[0m                      Traceback (most recent call last)",
      "Cell \u001b[1;32mIn[15], line 1\u001b[0m\n\u001b[1;32m----> 1\u001b[0m t\u001b[38;5;241m.\u001b[39mwrite(\u001b[38;5;124m'\u001b[39m\u001b[38;5;124mHello\u001b[39m\u001b[38;5;124m'\u001b[39m)\n",
      "\u001b[1;31mUnsupportedOperation\u001b[0m: not writable"
     ]
    }
   ],
   "source": [
    "t.write('Hello')"
   ]
  },
  {
   "cell_type": "code",
   "execution_count": 17,
   "id": "b2436c0e-c58e-4d25-b9e2-984394ec554b",
   "metadata": {},
   "outputs": [],
   "source": [
    "t.close()"
   ]
  },
  {
   "cell_type": "code",
   "execution_count": 18,
   "id": "07556a38-436f-4fbf-85f5-4511f7c23ee8",
   "metadata": {},
   "outputs": [],
   "source": [
    "f = open('test1.txt', mode='r+')"
   ]
  },
  {
   "cell_type": "code",
   "execution_count": 19,
   "id": "e6db807d-ef3f-415b-828c-146b66b9b37d",
   "metadata": {},
   "outputs": [
    {
     "data": {
      "text/plain": [
       "'This is test1 file.'"
      ]
     },
     "execution_count": 19,
     "metadata": {},
     "output_type": "execute_result"
    }
   ],
   "source": [
    "f.read()"
   ]
  },
  {
   "cell_type": "code",
   "execution_count": 20,
   "id": "3885fbc7-03a6-4f35-ae22-48d4611ca98b",
   "metadata": {},
   "outputs": [
    {
     "data": {
      "text/plain": [
       "17"
      ]
     },
     "execution_count": 20,
     "metadata": {},
     "output_type": "execute_result"
    }
   ],
   "source": [
    "f.write('This is line no 2')"
   ]
  },
  {
   "cell_type": "code",
   "execution_count": 21,
   "id": "4785f15c-f23d-423e-b739-e3231603a0f8",
   "metadata": {},
   "outputs": [
    {
     "data": {
      "text/plain": [
       "''"
      ]
     },
     "execution_count": 21,
     "metadata": {},
     "output_type": "execute_result"
    }
   ],
   "source": [
    "f.read()"
   ]
  },
  {
   "cell_type": "code",
   "execution_count": 22,
   "id": "13039331-f975-4bd0-9eb7-8494816040f6",
   "metadata": {},
   "outputs": [
    {
     "data": {
      "text/plain": [
       "0"
      ]
     },
     "execution_count": 22,
     "metadata": {},
     "output_type": "execute_result"
    }
   ],
   "source": [
    "f.seek(0)"
   ]
  },
  {
   "cell_type": "code",
   "execution_count": 23,
   "id": "57742afb-ba4f-478f-973a-4a44580469e2",
   "metadata": {},
   "outputs": [
    {
     "data": {
      "text/plain": [
       "'This is test1 file.This is line no 2'"
      ]
     },
     "execution_count": 23,
     "metadata": {},
     "output_type": "execute_result"
    }
   ],
   "source": [
    "f.read()"
   ]
  },
  {
   "cell_type": "code",
   "execution_count": 24,
   "id": "de666b17-8e29-4347-820a-5fc493e56746",
   "metadata": {},
   "outputs": [
    {
     "data": {
      "text/plain": [
       "0"
      ]
     },
     "execution_count": 24,
     "metadata": {},
     "output_type": "execute_result"
    }
   ],
   "source": [
    "f.seek(0)"
   ]
  },
  {
   "cell_type": "code",
   "execution_count": 25,
   "id": "6397364d-be47-41fd-a07b-d84851c26234",
   "metadata": {},
   "outputs": [
    {
     "data": {
      "text/plain": [
       "4"
      ]
     },
     "execution_count": 25,
     "metadata": {},
     "output_type": "execute_result"
    }
   ],
   "source": [
    "f.write('helo')"
   ]
  },
  {
   "cell_type": "code",
   "execution_count": 26,
   "id": "9e994cc7-ef90-4d1a-8a04-7ee3b3813a36",
   "metadata": {},
   "outputs": [
    {
     "data": {
      "text/plain": [
       "0"
      ]
     },
     "execution_count": 26,
     "metadata": {},
     "output_type": "execute_result"
    }
   ],
   "source": [
    "f.seek(0)"
   ]
  },
  {
   "cell_type": "code",
   "execution_count": 27,
   "id": "e4d70c4b-4bf1-4754-a5f1-b8d240c0834a",
   "metadata": {},
   "outputs": [
    {
     "data": {
      "text/plain": [
       "'helo is test1 file.This is line no 2'"
      ]
     },
     "execution_count": 27,
     "metadata": {},
     "output_type": "execute_result"
    }
   ],
   "source": [
    "f.read()"
   ]
  },
  {
   "cell_type": "code",
   "execution_count": 28,
   "id": "afd5d932-ace8-44e6-9e61-66d711558018",
   "metadata": {},
   "outputs": [],
   "source": [
    "f.close()"
   ]
  },
  {
   "cell_type": "code",
   "execution_count": 29,
   "id": "8253568e-5a5a-4a5f-9444-c0121e7dea70",
   "metadata": {},
   "outputs": [],
   "source": [
    "t = open('example1.txt',mode='w')"
   ]
  },
  {
   "cell_type": "code",
   "execution_count": 30,
   "id": "f3067f94-d3ce-4042-a116-9e4ec88cc43b",
   "metadata": {},
   "outputs": [
    {
     "data": {
      "text/plain": [
       "37"
      ]
     },
     "execution_count": 30,
     "metadata": {},
     "output_type": "execute_result"
    }
   ],
   "source": [
    "t.write('We are learning file  handling topic.')"
   ]
  },
  {
   "cell_type": "code",
   "execution_count": 31,
   "id": "a1d3c9c8-0c66-4f66-8e66-b2a80a42246f",
   "metadata": {},
   "outputs": [
    {
     "data": {
      "text/plain": [
       "5"
      ]
     },
     "execution_count": 31,
     "metadata": {},
     "output_type": "execute_result"
    }
   ],
   "source": [
    "t.write('Hello')"
   ]
  },
  {
   "cell_type": "code",
   "execution_count": 32,
   "id": "25c539f1-a885-4367-ba38-d38a63cc7f5b",
   "metadata": {},
   "outputs": [],
   "source": [
    "t.close()"
   ]
  },
  {
   "cell_type": "code",
   "execution_count": 33,
   "id": "7f26ce2c-6963-4383-8bc2-87d4192803f4",
   "metadata": {},
   "outputs": [],
   "source": [
    "t = open('example1.txt',mode='r+' )"
   ]
  },
  {
   "cell_type": "code",
   "execution_count": 34,
   "id": "f71ec80d-2cd6-49a5-b2ae-c012eac23c0c",
   "metadata": {},
   "outputs": [
    {
     "data": {
      "text/plain": [
       "'We are learning file  handling topic.Hello'"
      ]
     },
     "execution_count": 34,
     "metadata": {},
     "output_type": "execute_result"
    }
   ],
   "source": [
    "t.read()"
   ]
  },
  {
   "cell_type": "code",
   "execution_count": 35,
   "id": "41c09672-505f-40e8-917b-ca56b162f796",
   "metadata": {},
   "outputs": [],
   "source": [
    "t.close()"
   ]
  },
  {
   "cell_type": "code",
   "execution_count": null,
   "id": "0a0631ea-733a-4f0f-b132-881acfcf6abb",
   "metadata": {},
   "outputs": [],
   "source": []
  },
  {
   "cell_type": "code",
   "execution_count": 37,
   "id": "5eeae939-41ae-4ab4-9f74-2ce6bd46e4a9",
   "metadata": {},
   "outputs": [],
   "source": [
    "p = open('calculator.py', mode='w')"
   ]
  },
  {
   "cell_type": "code",
   "execution_count": 39,
   "id": "302065f1-2cf4-477e-a212-008bc7296904",
   "metadata": {},
   "outputs": [
    {
     "data": {
      "text/plain": [
       "39"
      ]
     },
     "execution_count": 39,
     "metadata": {},
     "output_type": "execute_result"
    }
   ],
   "source": [
    "p.write('''\n",
    "def addition(a,b):\n",
    "    return a+b\n",
    "    ''')"
   ]
  },
  {
   "cell_type": "code",
   "execution_count": 40,
   "id": "29748216-53cd-43a8-99ab-890a34414a37",
   "metadata": {},
   "outputs": [],
   "source": [
    "p.close()"
   ]
  },
  {
   "cell_type": "code",
   "execution_count": 41,
   "id": "1adfd3ef-be8b-4f90-99a0-8df075b9d96c",
   "metadata": {},
   "outputs": [],
   "source": [
    "f = open('intro.txt', mode='w')"
   ]
  },
  {
   "cell_type": "code",
   "execution_count": 42,
   "id": "b21f01e4-09cd-4064-99a4-71a4ec0fb4c6",
   "metadata": {},
   "outputs": [
    {
     "data": {
      "text/plain": [
       "99"
      ]
     },
     "execution_count": 42,
     "metadata": {},
     "output_type": "execute_result"
    }
   ],
   "source": [
    "f.write('''Hello, Good Moarning.\n",
    "My name is xyz. I did my masters in Computer Science.\n",
    "I like to play cricket.''')"
   ]
  },
  {
   "cell_type": "code",
   "execution_count": 43,
   "id": "ca3bf936-fa8d-49a6-942c-3a6e1b865a51",
   "metadata": {},
   "outputs": [],
   "source": [
    "f.close()"
   ]
  },
  {
   "cell_type": "code",
   "execution_count": 44,
   "id": "8ad6c9b5-1d79-481a-baa1-2e257e22cf1a",
   "metadata": {},
   "outputs": [],
   "source": [
    "f = open('intro.txt', mode='r')"
   ]
  },
  {
   "cell_type": "code",
   "execution_count": 45,
   "id": "cea8b3c5-8dac-483d-9f28-93f28c1a1b8a",
   "metadata": {},
   "outputs": [
    {
     "data": {
      "text/plain": [
       "'Hello, Good Moarning.\\nMy name is xyz. I did my masters in Computer Science.\\nI like to play cricket.'"
      ]
     },
     "execution_count": 45,
     "metadata": {},
     "output_type": "execute_result"
    }
   ],
   "source": [
    "f.read()"
   ]
  },
  {
   "cell_type": "code",
   "execution_count": 46,
   "id": "e5a544d9-7a24-4e3d-9761-e9bcf53ff593",
   "metadata": {},
   "outputs": [
    {
     "data": {
      "text/plain": [
       "0"
      ]
     },
     "execution_count": 46,
     "metadata": {},
     "output_type": "execute_result"
    }
   ],
   "source": [
    "f.seek(0)"
   ]
  },
  {
   "cell_type": "code",
   "execution_count": 47,
   "id": "2a05aa5d-739a-4f12-8e29-bd2cb65205cc",
   "metadata": {},
   "outputs": [
    {
     "data": {
      "text/plain": [
       "'Hello, Good Moarning.\\n'"
      ]
     },
     "execution_count": 47,
     "metadata": {},
     "output_type": "execute_result"
    }
   ],
   "source": [
    "f.readline()"
   ]
  },
  {
   "cell_type": "code",
   "execution_count": 48,
   "id": "6be528d0-464c-4689-8b8f-b9692f39734d",
   "metadata": {},
   "outputs": [
    {
     "data": {
      "text/plain": [
       "'My name is xyz. I did my masters in Computer Science.\\n'"
      ]
     },
     "execution_count": 48,
     "metadata": {},
     "output_type": "execute_result"
    }
   ],
   "source": [
    "f.readline()"
   ]
  },
  {
   "cell_type": "code",
   "execution_count": 49,
   "id": "20f1a304-ed7d-47d0-a08a-263d06eff2ff",
   "metadata": {},
   "outputs": [
    {
     "data": {
      "text/plain": [
       "'I like to play cricket.'"
      ]
     },
     "execution_count": 49,
     "metadata": {},
     "output_type": "execute_result"
    }
   ],
   "source": [
    "f.readline()"
   ]
  },
  {
   "cell_type": "code",
   "execution_count": 50,
   "id": "6df8f0a8-c6f7-466e-aceb-5d813f41c62d",
   "metadata": {},
   "outputs": [
    {
     "data": {
      "text/plain": [
       "''"
      ]
     },
     "execution_count": 50,
     "metadata": {},
     "output_type": "execute_result"
    }
   ],
   "source": [
    "f.readline()"
   ]
  },
  {
   "cell_type": "code",
   "execution_count": 51,
   "id": "96dca455-f1fd-4ef9-9225-30c61b171103",
   "metadata": {},
   "outputs": [],
   "source": [
    "f.close()"
   ]
  },
  {
   "cell_type": "code",
   "execution_count": null,
   "id": "061ce36a-0d11-4637-8f80-0b2d18e5566b",
   "metadata": {},
   "outputs": [],
   "source": []
  }
 ],
 "metadata": {
  "kernelspec": {
   "display_name": "Python 3 (ipykernel)",
   "language": "python",
   "name": "python3"
  },
  "language_info": {
   "codemirror_mode": {
    "name": "ipython",
    "version": 3
   },
   "file_extension": ".py",
   "mimetype": "text/x-python",
   "name": "python",
   "nbconvert_exporter": "python",
   "pygments_lexer": "ipython3",
   "version": "3.12.4"
  }
 },
 "nbformat": 4,
 "nbformat_minor": 5
}

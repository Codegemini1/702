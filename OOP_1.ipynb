{
 "cells": [
  {
   "cell_type": "code",
   "execution_count": 7,
   "id": "a0a610b2-85b9-4bc3-a455-9d6775822c33",
   "metadata": {},
   "outputs": [],
   "source": [
    "class test():\n",
    "    def hello(self):\n",
    "        return 'Hello is my function in test class'"
   ]
  },
  {
   "cell_type": "code",
   "execution_count": 8,
   "id": "79c2733d-ec5a-43b3-8012-169f9ea861af",
   "metadata": {},
   "outputs": [],
   "source": [
    "x = test()"
   ]
  },
  {
   "cell_type": "code",
   "execution_count": 9,
   "id": "97eca26c-34d1-487c-a745-91a6e3702098",
   "metadata": {},
   "outputs": [
    {
     "name": "stdout",
     "output_type": "stream",
     "text": [
      "Hello is my function in test class\n"
     ]
    }
   ],
   "source": [
    "print(x.hello())"
   ]
  },
  {
   "cell_type": "code",
   "execution_count": 10,
   "id": "d7d7c307-11db-4044-820c-3c506101d307",
   "metadata": {},
   "outputs": [],
   "source": [
    "class car():\n",
    "    def __init__(self,Model,Engine,Color): # Constructor: way to pass data to class\n",
    "        self.Model = Model\n",
    "        self.Engine = Engine\n",
    "        self.Color = Color"
   ]
  },
  {
   "cell_type": "code",
   "execution_count": 12,
   "id": "7ad613f7-0efa-4da7-b8a5-d949cfea68fe",
   "metadata": {},
   "outputs": [],
   "source": [
    "Nexon = car('Top_Model',1500,'Red')"
   ]
  },
  {
   "cell_type": "code",
   "execution_count": 13,
   "id": "67829597-43f1-4054-86ff-26348bd508a0",
   "metadata": {},
   "outputs": [
    {
     "data": {
      "text/plain": [
       "'Top_Model'"
      ]
     },
     "execution_count": 13,
     "metadata": {},
     "output_type": "execute_result"
    }
   ],
   "source": [
    "Nexon.Model"
   ]
  },
  {
   "cell_type": "code",
   "execution_count": 14,
   "id": "65f315ed-19f6-4f85-bda0-72799e9076db",
   "metadata": {},
   "outputs": [
    {
     "data": {
      "text/plain": [
       "1500"
      ]
     },
     "execution_count": 14,
     "metadata": {},
     "output_type": "execute_result"
    }
   ],
   "source": [
    "Nexon.Engine"
   ]
  },
  {
   "cell_type": "code",
   "execution_count": 15,
   "id": "4efffd24-e1d5-42df-9729-83528c4a90e8",
   "metadata": {},
   "outputs": [
    {
     "data": {
      "text/plain": [
       "'Red'"
      ]
     },
     "execution_count": 15,
     "metadata": {},
     "output_type": "execute_result"
    }
   ],
   "source": [
    "Nexon.Color"
   ]
  },
  {
   "cell_type": "code",
   "execution_count": 16,
   "id": "40a0fa57-44de-486d-848b-80b271696d7b",
   "metadata": {},
   "outputs": [],
   "source": [
    "Fortuner = car('Base_Model',2000,'White')"
   ]
  },
  {
   "cell_type": "code",
   "execution_count": 17,
   "id": "608eacb0-0883-45aa-ba80-153df1ecb12b",
   "metadata": {},
   "outputs": [
    {
     "data": {
      "text/plain": [
       "'Base_Model'"
      ]
     },
     "execution_count": 17,
     "metadata": {},
     "output_type": "execute_result"
    }
   ],
   "source": [
    "Fortuner.Model"
   ]
  },
  {
   "cell_type": "code",
   "execution_count": 18,
   "id": "d0ec89f8-afd1-44b7-a68f-9d400ca5dd94",
   "metadata": {},
   "outputs": [
    {
     "data": {
      "text/plain": [
       "2000"
      ]
     },
     "execution_count": 18,
     "metadata": {},
     "output_type": "execute_result"
    }
   ],
   "source": [
    "Fortuner.Engine"
   ]
  },
  {
   "cell_type": "code",
   "execution_count": 19,
   "id": "f4eb50b9-b4e4-4939-bba4-bff513db99a2",
   "metadata": {},
   "outputs": [
    {
     "data": {
      "text/plain": [
       "'White'"
      ]
     },
     "execution_count": 19,
     "metadata": {},
     "output_type": "execute_result"
    }
   ],
   "source": [
    "Fortuner.Color"
   ]
  },
  {
   "cell_type": "code",
   "execution_count": 29,
   "id": "94399de0-e75b-4f36-8b5b-0e1daae36874",
   "metadata": {},
   "outputs": [],
   "source": [
    "class house():\n",
    "    def __init__(self,size,bhk,flor_size,lift):\n",
    "        self.size = size\n",
    "        self.bhk = bhk\n",
    "        self.flor_size = flor_size\n",
    "        self.lift = lift\n",
    "\n",
    "    def bell(slef):\n",
    "        return 'This is home class and welcome to our home'"
   ]
  },
  {
   "cell_type": "code",
   "execution_count": 23,
   "id": "8557192c-2938-4b8a-b496-72b86f13b946",
   "metadata": {},
   "outputs": [],
   "source": [
    "Shiv = house(1200,'2bhk',2,'No')"
   ]
  },
  {
   "cell_type": "code",
   "execution_count": 24,
   "id": "703c70aa-ca0a-4797-96b6-0fe79047e319",
   "metadata": {},
   "outputs": [
    {
     "data": {
      "text/plain": [
       "1200"
      ]
     },
     "execution_count": 24,
     "metadata": {},
     "output_type": "execute_result"
    }
   ],
   "source": [
    "Shiv.size"
   ]
  },
  {
   "cell_type": "code",
   "execution_count": 25,
   "id": "4cefe73c-f94c-4a0e-9bec-ca022e559a85",
   "metadata": {},
   "outputs": [
    {
     "data": {
      "text/plain": [
       "'2bhk'"
      ]
     },
     "execution_count": 25,
     "metadata": {},
     "output_type": "execute_result"
    }
   ],
   "source": [
    "Shiv.bhk"
   ]
  },
  {
   "cell_type": "code",
   "execution_count": 26,
   "id": "ca079c9a-9dcf-41e1-a512-7cf8edd0c6a1",
   "metadata": {},
   "outputs": [
    {
     "data": {
      "text/plain": [
       "2"
      ]
     },
     "execution_count": 26,
     "metadata": {},
     "output_type": "execute_result"
    }
   ],
   "source": [
    "Shiv.flor_size"
   ]
  },
  {
   "cell_type": "code",
   "execution_count": 27,
   "id": "0bef9052-3128-4899-ac08-6dfc767665b9",
   "metadata": {},
   "outputs": [
    {
     "data": {
      "text/plain": [
       "'No'"
      ]
     },
     "execution_count": 27,
     "metadata": {},
     "output_type": "execute_result"
    }
   ],
   "source": [
    "Shiv.lift"
   ]
  },
  {
   "cell_type": "code",
   "execution_count": 30,
   "id": "5f6d472e-4432-4fe8-849c-38dfe63ddacc",
   "metadata": {},
   "outputs": [
    {
     "data": {
      "text/plain": [
       "'This is message class and welcome to our home'"
      ]
     },
     "execution_count": 30,
     "metadata": {},
     "output_type": "execute_result"
    }
   ],
   "source": [
    "Shiv.bell()"
   ]
  },
  {
   "cell_type": "code",
   "execution_count": 31,
   "id": "83b145c1-c68a-4233-b324-478d17f96851",
   "metadata": {},
   "outputs": [],
   "source": [
    "class user():\n",
    "    def __init__(self,Name,Last,Password):\n",
    "        self.Name = Name\n",
    "        self.Last = Last\n",
    "        self.Password = Password"
   ]
  },
  {
   "cell_type": "code",
   "execution_count": 32,
   "id": "5f2df27c-c4f7-4af6-aa2d-1911481f2c33",
   "metadata": {},
   "outputs": [],
   "source": [
    "Facebook = user('Vaibhav','Bhosale','Vvb@123')"
   ]
  },
  {
   "cell_type": "code",
   "execution_count": 33,
   "id": "0770c2ff-79d0-4d76-80d0-8b1265566d7a",
   "metadata": {},
   "outputs": [
    {
     "data": {
      "text/plain": [
       "'Vaibhav'"
      ]
     },
     "execution_count": 33,
     "metadata": {},
     "output_type": "execute_result"
    }
   ],
   "source": [
    "Facebook.Name"
   ]
  },
  {
   "cell_type": "code",
   "execution_count": 34,
   "id": "12bc115b-ded8-44d8-99dc-6a829a3361e6",
   "metadata": {},
   "outputs": [
    {
     "data": {
      "text/plain": [
       "'Bhosale'"
      ]
     },
     "execution_count": 34,
     "metadata": {},
     "output_type": "execute_result"
    }
   ],
   "source": [
    "Facebook.Last"
   ]
  },
  {
   "cell_type": "code",
   "execution_count": 35,
   "id": "3695417c-25bd-4e40-bdba-5ad875a70f2a",
   "metadata": {},
   "outputs": [
    {
     "data": {
      "text/plain": [
       "'Vvb@123'"
      ]
     },
     "execution_count": 35,
     "metadata": {},
     "output_type": "execute_result"
    }
   ],
   "source": [
    "Facebook.Password"
   ]
  },
  {
   "cell_type": "code",
   "execution_count": null,
   "id": "18be8130-2111-4228-a6c6-642b03fd2048",
   "metadata": {},
   "outputs": [],
   "source": [
    "Create class for Student_addmission\n",
    "Create class for Submit_Marks Science,Maths,Bio,History\n",
    "Create class for Smartphone --> Android,Company, Camera, Storage"
   ]
  },
  {
   "cell_type": "code",
   "execution_count": null,
   "id": "90fd5a7c-d6a7-49d2-9157-e03bce0ae544",
   "metadata": {},
   "outputs": [],
   "source": []
  },
  {
   "cell_type": "code",
   "execution_count": null,
   "id": "146fea84-acf7-4061-8140-344d912d8c15",
   "metadata": {},
   "outputs": [],
   "source": []
  },
  {
   "cell_type": "code",
   "execution_count": null,
   "id": "526cf15f-8fb2-4fdf-b12e-576f57b23a50",
   "metadata": {},
   "outputs": [],
   "source": []
  },
  {
   "cell_type": "code",
   "execution_count": null,
   "id": "260f785b-6f3c-44f4-a3c8-6b5779d13590",
   "metadata": {},
   "outputs": [],
   "source": []
  },
  {
   "cell_type": "code",
   "execution_count": null,
   "id": "8f1e0ac2-48c7-492a-a634-6ea9f7dfde09",
   "metadata": {},
   "outputs": [],
   "source": []
  },
  {
   "cell_type": "code",
   "execution_count": 20,
   "id": "e884c6f2-ff87-4b83-9bfb-24cb3d85876a",
   "metadata": {},
   "outputs": [],
   "source": [
    "size = 1000"
   ]
  },
  {
   "cell_type": "code",
   "execution_count": null,
   "id": "d65c4871-88fd-4533-b4b6-5212bafa003c",
   "metadata": {},
   "outputs": [],
   "source": []
  },
  {
   "cell_type": "code",
   "execution_count": 21,
   "id": "e186a8ae-dbff-48df-a745-e35e9609dd4c",
   "metadata": {},
   "outputs": [
    {
     "data": {
      "text/plain": [
       "1000"
      ]
     },
     "execution_count": 21,
     "metadata": {},
     "output_type": "execute_result"
    }
   ],
   "source": [
    "size"
   ]
  },
  {
   "cell_type": "code",
   "execution_count": null,
   "id": "2eff0d07-7c30-4d40-936f-89c7c8f2a2a0",
   "metadata": {},
   "outputs": [],
   "source": []
  }
 ],
 "metadata": {
  "kernelspec": {
   "display_name": "Python 3 (ipykernel)",
   "language": "python",
   "name": "python3"
  },
  "language_info": {
   "codemirror_mode": {
    "name": "ipython",
    "version": 3
   },
   "file_extension": ".py",
   "mimetype": "text/x-python",
   "name": "python",
   "nbconvert_exporter": "python",
   "pygments_lexer": "ipython3",
   "version": "3.12.4"
  }
 },
 "nbformat": 4,
 "nbformat_minor": 5
}

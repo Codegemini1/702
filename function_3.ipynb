{
 "cells": [
  {
   "cell_type": "code",
   "execution_count": 1,
   "id": "a6841052-9c4e-4eba-903b-d33c2c3c919a",
   "metadata": {},
   "outputs": [],
   "source": [
    "def addition(a,b):\n",
    "    result = a + b\n",
    "    return result"
   ]
  },
  {
   "cell_type": "code",
   "execution_count": 2,
   "id": "5875e6df-64ee-42c0-8882-c3389af88b5b",
   "metadata": {},
   "outputs": [
    {
     "data": {
      "text/plain": [
       "3"
      ]
     },
     "execution_count": 2,
     "metadata": {},
     "output_type": "execute_result"
    }
   ],
   "source": [
    "addition(1,2)"
   ]
  },
  {
   "cell_type": "code",
   "execution_count": 3,
   "id": "d2002016-26eb-4ac4-a0b3-1650beda4133",
   "metadata": {},
   "outputs": [],
   "source": [
    "def test(a,b,c,d,e):\n",
    "    return a,b,c,d,e"
   ]
  },
  {
   "cell_type": "code",
   "execution_count": 4,
   "id": "bcf7b748-acf7-4ab6-a177-5f4deaad3e05",
   "metadata": {},
   "outputs": [
    {
     "data": {
      "text/plain": [
       "(1, 2, 3, 4, 5)"
      ]
     },
     "execution_count": 4,
     "metadata": {},
     "output_type": "execute_result"
    }
   ],
   "source": [
    "test(1,2,3,4,5)"
   ]
  },
  {
   "cell_type": "code",
   "execution_count": 6,
   "id": "162d58e5-538f-4db2-aa5f-4797fa7a3b9d",
   "metadata": {},
   "outputs": [],
   "source": [
    "# *Args"
   ]
  },
  {
   "cell_type": "code",
   "execution_count": 7,
   "id": "a36ee4b0-682b-42c0-92cb-5cd8888ed2a8",
   "metadata": {},
   "outputs": [],
   "source": [
    "def test1(*hello):\n",
    "    return hello"
   ]
  },
  {
   "cell_type": "code",
   "execution_count": 8,
   "id": "1b517782-2114-4c02-acd4-a626bd05c510",
   "metadata": {},
   "outputs": [
    {
     "data": {
      "text/plain": [
       "(1, 4, 2, 4, 5, 6, 3, 2, 5, 6, 6, 4)"
      ]
     },
     "execution_count": 8,
     "metadata": {},
     "output_type": "execute_result"
    }
   ],
   "source": [
    "test1(1,4,2,4,5,6,3,2,5,6,6,4,)"
   ]
  },
  {
   "cell_type": "code",
   "execution_count": 10,
   "id": "df9f5410-0440-45c1-92a9-1677c14b7a2a",
   "metadata": {},
   "outputs": [],
   "source": [
    "def test2(*args):\n",
    "    return args"
   ]
  },
  {
   "cell_type": "code",
   "execution_count": 11,
   "id": "b4364b06-0f28-40f9-a67a-8e30ed4ac660",
   "metadata": {},
   "outputs": [
    {
     "data": {
      "text/plain": [
       "('Hello', True, 1.5)"
      ]
     },
     "execution_count": 11,
     "metadata": {},
     "output_type": "execute_result"
    }
   ],
   "source": [
    "test2('Hello', True,1.5)"
   ]
  },
  {
   "cell_type": "code",
   "execution_count": 12,
   "id": "bffc233c-5b7a-43ba-ac9b-a83d43fa391f",
   "metadata": {},
   "outputs": [],
   "source": [
    "def test3(*args):\n",
    "    l = []\n",
    "    for i in args:\n",
    "        if type(i) == int:\n",
    "            l.append(i)\n",
    "    return l"
   ]
  },
  {
   "cell_type": "code",
   "execution_count": 13,
   "id": "886c1db5-5d4c-4d0e-b152-89d15475667a",
   "metadata": {},
   "outputs": [
    {
     "data": {
      "text/plain": [
       "[1]"
      ]
     },
     "execution_count": 13,
     "metadata": {},
     "output_type": "execute_result"
    }
   ],
   "source": [
    "test3(1,1.5,True,'Hello', [1,2,3])"
   ]
  },
  {
   "cell_type": "code",
   "execution_count": 14,
   "id": "93279d71-1793-427b-bacf-f9ad687dee64",
   "metadata": {},
   "outputs": [],
   "source": [
    "# Write down fuction for list filter."
   ]
  },
  {
   "cell_type": "code",
   "execution_count": 15,
   "id": "1d8676ce-833c-4ded-9244-763a5f73a65d",
   "metadata": {},
   "outputs": [],
   "source": [
    "def test4(*args):\n",
    "    total = 0\n",
    "    for i in args:\n",
    "        total = total + i\n",
    "    return total"
   ]
  },
  {
   "cell_type": "code",
   "execution_count": 16,
   "id": "3af0000e-3ebe-4951-9ee0-01db897a2b17",
   "metadata": {},
   "outputs": [
    {
     "data": {
      "text/plain": [
       "15"
      ]
     },
     "execution_count": 16,
     "metadata": {},
     "output_type": "execute_result"
    }
   ],
   "source": [
    "test4(1,2,3,4,5)"
   ]
  },
  {
   "cell_type": "code",
   "execution_count": 17,
   "id": "bd010ba1-ea9a-4c08-aec7-0631599d1eb7",
   "metadata": {},
   "outputs": [],
   "source": [
    "# Kwargs"
   ]
  },
  {
   "cell_type": "code",
   "execution_count": 18,
   "id": "37db56d5-ae74-4eb9-8d1c-64baa8efbd26",
   "metadata": {},
   "outputs": [],
   "source": [
    "def test5(**kwargs):\n",
    "    return kwargs"
   ]
  },
  {
   "cell_type": "code",
   "execution_count": 19,
   "id": "fd8b781d-b3b0-4afd-a8df-16f7717028c5",
   "metadata": {},
   "outputs": [
    {
     "data": {
      "text/plain": [
       "{'a': 10, 'b': 5, 'c': 34}"
      ]
     },
     "execution_count": 19,
     "metadata": {},
     "output_type": "execute_result"
    }
   ],
   "source": [
    "test5(a=10,b=5,c=34)"
   ]
  },
  {
   "cell_type": "code",
   "execution_count": 20,
   "id": "3de7f16d-14e1-401c-a3dc-4304b8717853",
   "metadata": {},
   "outputs": [],
   "source": [
    "def test6(**kwargs):\n",
    "    return kwargs.keys()"
   ]
  },
  {
   "cell_type": "code",
   "execution_count": 21,
   "id": "98d4d333-1e8d-4156-857b-e12421d82795",
   "metadata": {},
   "outputs": [
    {
     "data": {
      "text/plain": [
       "dict_keys(['a', 'b', 'c'])"
      ]
     },
     "execution_count": 21,
     "metadata": {},
     "output_type": "execute_result"
    }
   ],
   "source": [
    "test6(a=10,b=5,c=34)"
   ]
  },
  {
   "cell_type": "code",
   "execution_count": 23,
   "id": "428b42bd-109d-4bbc-aa18-8acc62369d40",
   "metadata": {},
   "outputs": [],
   "source": [
    "def test7(**kwargs):\n",
    "    return kwargs.values()"
   ]
  },
  {
   "cell_type": "code",
   "execution_count": 24,
   "id": "bda162e0-befa-49f3-8436-daf1bc4890ea",
   "metadata": {},
   "outputs": [
    {
     "data": {
      "text/plain": [
       "dict_values([10, 5, 34])"
      ]
     },
     "execution_count": 24,
     "metadata": {},
     "output_type": "execute_result"
    }
   ],
   "source": [
    "test7(a=10,b=5,c=34)"
   ]
  },
  {
   "cell_type": "code",
   "execution_count": 25,
   "id": "98f00973-5b9d-4688-b49c-edc3066a3779",
   "metadata": {},
   "outputs": [],
   "source": [
    "def test8(a,*args):\n",
    "    return a, args"
   ]
  },
  {
   "cell_type": "code",
   "execution_count": 26,
   "id": "2b3b4dde-31a6-4995-8c8e-4cee997a1b18",
   "metadata": {},
   "outputs": [
    {
     "data": {
      "text/plain": [
       "(10, (1, 2, 3, 4, 5, 6))"
      ]
     },
     "execution_count": 26,
     "metadata": {},
     "output_type": "execute_result"
    }
   ],
   "source": [
    "test8(10,1,2,3,4,5,6)"
   ]
  },
  {
   "cell_type": "code",
   "execution_count": 27,
   "id": "6802012a-5a3e-44f8-abe8-02c21fd0cf44",
   "metadata": {},
   "outputs": [],
   "source": [
    "def test9(*args, **kwargs): # *args then kwargs\n",
    "    return args, kwargs"
   ]
  },
  {
   "cell_type": "code",
   "execution_count": 28,
   "id": "ed1bb062-1e7a-4097-b1e5-a836a3fd5f9e",
   "metadata": {},
   "outputs": [
    {
     "data": {
      "text/plain": [
       "((1, 2, 3, 4, 2, 4, 2, 4), {'a': 100, 'b': 200, 'c': 300})"
      ]
     },
     "execution_count": 28,
     "metadata": {},
     "output_type": "execute_result"
    }
   ],
   "source": [
    "test9(1,2,3,4,2,4,2,4,a=100,b=200,c=300)"
   ]
  },
  {
   "cell_type": "code",
   "execution_count": 29,
   "id": "918af07d-10f8-4ffc-9788-54a197931429",
   "metadata": {},
   "outputs": [
    {
     "ename": "SyntaxError",
     "evalue": "arguments cannot follow var-keyword argument (1100591898.py, line 1)",
     "output_type": "error",
     "traceback": [
      "\u001b[1;36m  Cell \u001b[1;32mIn[29], line 1\u001b[1;36m\u001b[0m\n\u001b[1;33m    def test10(**kwargs,*args):\u001b[0m\n\u001b[1;37m                        ^\u001b[0m\n\u001b[1;31mSyntaxError\u001b[0m\u001b[1;31m:\u001b[0m arguments cannot follow var-keyword argument\n"
     ]
    }
   ],
   "source": [
    "def test10(**kwargs,*args):\n",
    "    return kwargs, args"
   ]
  },
  {
   "cell_type": "code",
   "execution_count": 30,
   "id": "08d74da5-0c5f-44ce-ab1a-b30b8e6c0558",
   "metadata": {},
   "outputs": [],
   "source": [
    "def test11(a,*args,**kwargs):\n",
    "    return a,args,kwargs"
   ]
  },
  {
   "cell_type": "code",
   "execution_count": 31,
   "id": "cbcb09f0-1b3b-49fc-84da-d5372bb195c2",
   "metadata": {},
   "outputs": [
    {
     "data": {
      "text/plain": [
       "(10, (1, True, 1.5, 'Hello'), {'name': 'Hello', 'city': 'Solapur', 'age': 20})"
      ]
     },
     "execution_count": 31,
     "metadata": {},
     "output_type": "execute_result"
    }
   ],
   "source": [
    "test11(10,1,True,1.5,'Hello',name='Hello',city='Solapur',age=20)"
   ]
  },
  {
   "cell_type": "code",
   "execution_count": 32,
   "id": "4fce9aed-de66-477b-bc86-b748db4dac0a",
   "metadata": {},
   "outputs": [],
   "source": [
    "# Advanced part"
   ]
  },
  {
   "cell_type": "code",
   "execution_count": 33,
   "id": "42cbb891-66f3-417e-8119-2da1983052e9",
   "metadata": {},
   "outputs": [],
   "source": [
    "# Lambda {Unknown function}"
   ]
  },
  {
   "cell_type": "code",
   "execution_count": 35,
   "id": "679d8386-f92b-427c-bb6e-d16c92ca9e0b",
   "metadata": {},
   "outputs": [],
   "source": [
    "x = lambda a:a+10   #   input/arguments: output"
   ]
  },
  {
   "cell_type": "code",
   "execution_count": 36,
   "id": "154f5288-af2b-4450-ac4a-fe5f1560d50c",
   "metadata": {},
   "outputs": [
    {
     "data": {
      "text/plain": [
       "11"
      ]
     },
     "execution_count": 36,
     "metadata": {},
     "output_type": "execute_result"
    }
   ],
   "source": [
    "x(1)"
   ]
  },
  {
   "cell_type": "code",
   "execution_count": 37,
   "id": "43d800a6-4456-4579-95c8-4824454ee228",
   "metadata": {},
   "outputs": [],
   "source": [
    "def test12(a):\n",
    "    return a + 10"
   ]
  },
  {
   "cell_type": "code",
   "execution_count": 38,
   "id": "48695f8a-e852-4f0f-9f43-d963756e4bbd",
   "metadata": {},
   "outputs": [
    {
     "data": {
      "text/plain": [
       "11"
      ]
     },
     "execution_count": 38,
     "metadata": {},
     "output_type": "execute_result"
    }
   ],
   "source": [
    "test12(1)"
   ]
  },
  {
   "cell_type": "code",
   "execution_count": 39,
   "id": "911ec7a9-3864-4ccf-bcd0-92590f4a8f47",
   "metadata": {},
   "outputs": [],
   "source": [
    "x = lambda a:a*a"
   ]
  },
  {
   "cell_type": "code",
   "execution_count": 40,
   "id": "4e023da8-aa50-442e-9ddf-e2c194df404f",
   "metadata": {},
   "outputs": [
    {
     "data": {
      "text/plain": [
       "4"
      ]
     },
     "execution_count": 40,
     "metadata": {},
     "output_type": "execute_result"
    }
   ],
   "source": [
    "x(2)"
   ]
  },
  {
   "cell_type": "code",
   "execution_count": 41,
   "id": "95fcfab2-68cd-45bf-ae14-40fb616f91af",
   "metadata": {},
   "outputs": [
    {
     "data": {
      "text/plain": [
       "100"
      ]
     },
     "execution_count": 41,
     "metadata": {},
     "output_type": "execute_result"
    }
   ],
   "source": [
    "x(10)"
   ]
  },
  {
   "cell_type": "code",
   "execution_count": 42,
   "id": "c48b2d28-fdb4-4763-8591-a526b4b98461",
   "metadata": {},
   "outputs": [],
   "source": [
    "x = lambda *args: args"
   ]
  },
  {
   "cell_type": "code",
   "execution_count": 43,
   "id": "8e815111-a8d6-4250-b962-522483adafb2",
   "metadata": {},
   "outputs": [
    {
     "data": {
      "text/plain": [
       "(1, 2, 3, 3, 2)"
      ]
     },
     "execution_count": 43,
     "metadata": {},
     "output_type": "execute_result"
    }
   ],
   "source": [
    "x(1,2,3,3,2)"
   ]
  },
  {
   "cell_type": "code",
   "execution_count": null,
   "id": "04e300fe-13c2-427e-b71d-dbe344dfa5c7",
   "metadata": {},
   "outputs": [],
   "source": []
  }
 ],
 "metadata": {
  "kernelspec": {
   "display_name": "Python 3 (ipykernel)",
   "language": "python",
   "name": "python3"
  },
  "language_info": {
   "codemirror_mode": {
    "name": "ipython",
    "version": 3
   },
   "file_extension": ".py",
   "mimetype": "text/x-python",
   "name": "python",
   "nbconvert_exporter": "python",
   "pygments_lexer": "ipython3",
   "version": "3.12.4"
  }
 },
 "nbformat": 4,
 "nbformat_minor": 5
}
